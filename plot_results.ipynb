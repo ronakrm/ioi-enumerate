{
 "cells": [
  {
   "cell_type": "code",
   "execution_count": 48,
   "metadata": {},
   "outputs": [],
   "source": [
    "import pandas as pd\n",
    "import matplotlib.pyplot as plt\n",
    "from tqdm import tqdm\n",
    "from transformer_lens.utils import test_prompt\n",
    "from transformer_lens import HookedTransformer"
   ]
  },
  {
   "cell_type": "code",
   "execution_count": 2,
   "metadata": {},
   "outputs": [],
   "source": [
    "# load results\n",
    "df = pd.read_csv('ioi_logit_dump.csv')"
   ]
  },
  {
   "cell_type": "code",
   "execution_count": 4,
   "metadata": {},
   "outputs": [
    {
     "data": {
      "text/plain": [
       "Index(['template', 'PLACE', 'OBJECT', 'S', 'IO', 'text', 'prompt_toks',\n",
       "       'logit_diff'],\n",
       "      dtype='object')"
      ]
     },
     "execution_count": 4,
     "metadata": {},
     "output_type": "execute_result"
    }
   ],
   "source": [
    "df.columns"
   ]
  },
  {
   "cell_type": "code",
   "execution_count": 5,
   "metadata": {},
   "outputs": [],
   "source": [
    "# Let's plot some of these extremes against the rest\n",
    "def plot_against_alt(df, col, val, label_prefix=\"\"):\n",
    "    _, bins, _ = plt.hist(df['logit_diff'][df[col] != val], bins=100,  density=True, alpha=0.5, label=label_prefix+\"All Others\")\n",
    "    plt.hist(df['logit_diff'][df[col] == val], bins=bins, density=True, alpha=0.5, label=f\"{label_prefix}{col}:{val}\")\n",
    "    plt.legend()\n",
    "    plt.show()"
   ]
  },
  {
   "cell_type": "code",
   "execution_count": 10,
   "metadata": {},
   "outputs": [
    {
     "name": "stdout",
     "output_type": "stream",
     "text": [
      "Starting  template\n"
     ]
    },
    {
     "name": "stderr",
     "output_type": "stream",
     "text": [
      "100%|██████████| 1/1 [00:00<00:00,  5.52it/s]\n"
     ]
    },
    {
     "name": "stdout",
     "output_type": "stream",
     "text": [
      "Starting  PLACE\n"
     ]
    },
    {
     "name": "stderr",
     "output_type": "stream",
     "text": [
      "100%|██████████| 8/8 [00:01<00:00,  5.27it/s]\n"
     ]
    },
    {
     "name": "stdout",
     "output_type": "stream",
     "text": [
      "Starting  OBJECT\n"
     ]
    },
    {
     "name": "stderr",
     "output_type": "stream",
     "text": [
      "100%|██████████| 8/8 [00:01<00:00,  5.57it/s]\n"
     ]
    },
    {
     "name": "stdout",
     "output_type": "stream",
     "text": [
      "Starting  S\n"
     ]
    },
    {
     "name": "stderr",
     "output_type": "stream",
     "text": [
      "100%|██████████| 99/99 [00:17<00:00,  5.72it/s]\n"
     ]
    },
    {
     "name": "stdout",
     "output_type": "stream",
     "text": [
      "Starting  IO\n"
     ]
    },
    {
     "name": "stderr",
     "output_type": "stream",
     "text": [
      "100%|██████████| 99/99 [00:20<00:00,  4.94it/s]\n"
     ]
    }
   ],
   "source": [
    "subset_res_list = []\n",
    "# check all template subsets\n",
    "for col in [\"template\", \"PLACE\", \"OBJECT\", \"S\", \"IO\"]:\n",
    "    print(\"Starting \", col)\n",
    "    unique_vals = df[col].unique().tolist()\n",
    "    for val in tqdm(unique_vals):\n",
    "        subset_dict = {}\n",
    "        subset_dict[\"col\"] = col\n",
    "        subset_dict[\"val\"] = val\n",
    "\n",
    "        subset_dict[\"mean\"] = df['logit_diff'][df[col] == val].mean()\n",
    "        subset_dict[\"std\"] = df['logit_diff'][df[col] == val].std()\n",
    "        subset_dict[\"alt_mean\"] = df['logit_diff'][df[col] != val].mean()\n",
    "        subset_dict[\"alt_std\"] = df['logit_diff'][df[col] != val].std()\n",
    "\n",
    "        subset_res_list.append(subset_dict)"
   ]
  },
  {
   "cell_type": "code",
   "execution_count": 11,
   "metadata": {},
   "outputs": [],
   "source": [
    "first_order_df = pd.DataFrame(subset_res_list)"
   ]
  },
  {
   "cell_type": "code",
   "execution_count": 21,
   "metadata": {},
   "outputs": [
    {
     "data": {
      "text/plain": [
       "(array([1.09544108e-05, 0.00000000e+00, 0.00000000e+00, 0.00000000e+00,\n",
       "        0.00000000e+00, 0.00000000e+00, 3.28632324e-05, 1.09544108e-05,\n",
       "        3.28632324e-05, 5.47720541e-05, 1.42407341e-04, 1.42407341e-04,\n",
       "        1.97179395e-04, 3.83404379e-04, 2.95769092e-04, 3.61495557e-04,\n",
       "        4.81994076e-04, 7.12036703e-04, 9.42079330e-04, 1.46789105e-03,\n",
       "        2.19088216e-03, 3.76831732e-03, 5.00616574e-03, 7.64617875e-03,\n",
       "        1.08339123e-02, 1.49965884e-02, 2.07805173e-02, 2.55128228e-02,\n",
       "        3.49664793e-02, 4.69506048e-02, 5.82993744e-02, 7.28577863e-02,\n",
       "        8.86430923e-02, 1.07835220e-01, 1.24453061e-01, 1.46887695e-01,\n",
       "        1.68435021e-01, 1.88514456e-01, 2.07816128e-01, 2.24346333e-01,\n",
       "        2.38400843e-01, 2.53561747e-01, 2.60649251e-01, 2.70606810e-01,\n",
       "        2.71209303e-01, 2.73936951e-01, 2.66597496e-01, 2.64636656e-01,\n",
       "        2.56968569e-01, 2.46079885e-01, 2.37316356e-01, 2.22987987e-01,\n",
       "        2.08451483e-01, 1.95569096e-01, 1.81317408e-01, 1.66682315e-01,\n",
       "        1.51422821e-01, 1.38036531e-01, 1.25515639e-01, 1.15886712e-01,\n",
       "        1.04987073e-01, 9.56758241e-02, 8.56306293e-02, 7.66699213e-02,\n",
       "        6.97357792e-02, 6.19033755e-02, 5.49035070e-02, 4.92400766e-02,\n",
       "        4.19225302e-02, 3.65439145e-02, 3.29180045e-02, 2.82514255e-02,\n",
       "        2.36177097e-02, 2.13720555e-02, 1.83595925e-02, 1.55662178e-02,\n",
       "        1.32877003e-02, 1.07572314e-02, 8.71971101e-03, 7.21895673e-03,\n",
       "        6.79173470e-03, 5.57579510e-03, 4.43653638e-03, 3.30823207e-03,\n",
       "        2.83719240e-03, 2.26756304e-03, 1.81843220e-03, 1.63220721e-03,\n",
       "        9.85896973e-04, 8.43489633e-04, 5.47720541e-04, 5.91538184e-04,\n",
       "        2.62905860e-04, 3.72449968e-04, 1.86224984e-04, 1.31452930e-04,\n",
       "        5.47720541e-05, 5.47720541e-05, 5.47720541e-05, 2.19088216e-05]),\n",
       " array([-4.21104717, -4.06402944, -3.9170117 , -3.76999396, -3.62297623,\n",
       "        -3.47595849, -3.32894075, -3.18192302, -3.03490528, -2.88788754,\n",
       "        -2.74086981, -2.59385207, -2.44683434, -2.2998166 , -2.15279886,\n",
       "        -2.00578113, -1.85876339, -1.71174565, -1.56472792, -1.41771018,\n",
       "        -1.27069244, -1.12367471, -0.97665697, -0.82963923, -0.6826215 ,\n",
       "        -0.53560376, -0.38858603, -0.24156829, -0.09455055,  0.05246718,\n",
       "         0.19948492,  0.34650266,  0.49352039,  0.64053813,  0.78755587,\n",
       "         0.9345736 ,  1.08159134,  1.22860908,  1.37562681,  1.52264455,\n",
       "         1.66966228,  1.81668002,  1.96369776,  2.11071549,  2.25773323,\n",
       "         2.40475097,  2.5517687 ,  2.69878644,  2.84580418,  2.99282191,\n",
       "         3.13983965,  3.28685739,  3.43387512,  3.58089286,  3.72791059,\n",
       "         3.87492833,  4.02194607,  4.1689638 ,  4.31598154,  4.46299928,\n",
       "         4.61001701,  4.75703475,  4.90405249,  5.05107022,  5.19808796,\n",
       "         5.3451057 ,  5.49212343,  5.63914117,  5.78615891,  5.93317664,\n",
       "         6.08019438,  6.22721211,  6.37422985,  6.52124759,  6.66826532,\n",
       "         6.81528306,  6.9623008 ,  7.10931853,  7.25633627,  7.40335401,\n",
       "         7.55037174,  7.69738948,  7.84440722,  7.99142495,  8.13844269,\n",
       "         8.28546042,  8.43247816,  8.5794959 ,  8.72651363,  8.87353137,\n",
       "         9.02054911,  9.16756684,  9.31458458,  9.46160232,  9.60862005,\n",
       "         9.75563779,  9.90265553, 10.04967326, 10.196691  , 10.34370873,\n",
       "        10.49072647]),\n",
       " <BarContainer object of 100 artists>)"
      ]
     },
     "execution_count": 21,
     "metadata": {},
     "output_type": "execute_result"
    },
    {
     "data": {
      "image/png": "[encoded data removed]",
      "text/plain": [
       "<Figure size 640x480 with 1 Axes>"
      ]
     },
     "metadata": {},
     "output_type": "display_data"
    }
   ],
   "source": [
    "# plot full histogram\n",
    "plt.hist(df['logit_diff'], bins=100,  density=True)"
   ]
  },
  {
   "cell_type": "code",
   "execution_count": 12,
   "metadata": {},
   "outputs": [
    {
     "name": "stdout",
     "output_type": "stream",
     "text": [
      "Global mean: 2.8410530367421134\n",
      "Global std: 1.550526348529977\n"
     ]
    }
   ],
   "source": [
    "# global mean and std\n",
    "global_mean = df['logit_diff'].mean()\n",
    "global_std = df['logit_diff'].std()\n",
    "\n",
    "print(\"Global mean:\", global_mean)\n",
    "print(\"Global std:\", global_std)"
   ]
  },
  {
   "cell_type": "code",
   "execution_count": 13,
   "metadata": {},
   "outputs": [],
   "source": [
    "first_order_df[\"global_mean_diff\"] = (first_order_df[\"mean\"] - global_mean).abs()\n",
    "first_order_df[\"global_std_diff\"] = (first_order_df[\"std\"] - global_std).abs()\n",
    "first_order_df[\"relative_mean_diff\"] = (first_order_df[\"mean\"] - first_order_df[\"alt_mean\"]).abs()\n",
    "first_order_df[\"relative_std_diff\"] = (first_order_df[\"std\"] - first_order_df[\"alt_std\"]).abs()"
   ]
  },
  {
   "cell_type": "code",
   "execution_count": 14,
   "metadata": {},
   "outputs": [
    {
     "data": {
      "text/html": [
       "<div>\n",
       "<style scoped>\n",
       "    .dataframe tbody tr th:only-of-type {\n",
       "        vertical-align: middle;\n",
       "    }\n",
       "\n",
       "    .dataframe tbody tr th {\n",
       "        vertical-align: top;\n",
       "    }\n",
       "\n",
       "    .dataframe thead th {\n",
       "        text-align: right;\n",
       "    }\n",
       "</style>\n",
       "<table border=\"1\" class=\"dataframe\">\n",
       "  <thead>\n",
       "    <tr style=\"text-align: right;\">\n",
       "      <th></th>\n",
       "      <th>col</th>\n",
       "      <th>val</th>\n",
       "      <th>mean</th>\n",
       "      <th>std</th>\n",
       "      <th>alt_mean</th>\n",
       "      <th>alt_std</th>\n",
       "      <th>global_mean_diff</th>\n",
       "      <th>global_std_diff</th>\n",
       "      <th>relative_mean_diff</th>\n",
       "      <th>relative_std_diff</th>\n",
       "    </tr>\n",
       "  </thead>\n",
       "  <tbody>\n",
       "    <tr>\n",
       "      <th>26</th>\n",
       "      <td>S</td>\n",
       "      <td>Bradley</td>\n",
       "      <td>5.686855</td>\n",
       "      <td>1.362495</td>\n",
       "      <td>2.812014</td>\n",
       "      <td>1.525202</td>\n",
       "      <td>2.845802</td>\n",
       "      <td>0.188031</td>\n",
       "      <td>2.874841</td>\n",
       "      <td>0.162707</td>\n",
       "    </tr>\n",
       "    <tr>\n",
       "      <th>66</th>\n",
       "      <td>S</td>\n",
       "      <td>Jeffrey</td>\n",
       "      <td>5.481752</td>\n",
       "      <td>1.333920</td>\n",
       "      <td>2.814107</td>\n",
       "      <td>1.529257</td>\n",
       "      <td>2.640699</td>\n",
       "      <td>0.216606</td>\n",
       "      <td>2.667645</td>\n",
       "      <td>0.195337</td>\n",
       "    </tr>\n",
       "    <tr>\n",
       "      <th>104</th>\n",
       "      <td>S</td>\n",
       "      <td>Alexander</td>\n",
       "      <td>4.819184</td>\n",
       "      <td>1.211386</td>\n",
       "      <td>2.820868</td>\n",
       "      <td>1.540570</td>\n",
       "      <td>1.978131</td>\n",
       "      <td>0.339140</td>\n",
       "      <td>1.998316</td>\n",
       "      <td>0.329184</td>\n",
       "    </tr>\n",
       "    <tr>\n",
       "      <th>208</th>\n",
       "      <td>IO</td>\n",
       "      <td>Angela</td>\n",
       "      <td>4.655091</td>\n",
       "      <td>1.733737</td>\n",
       "      <td>2.822542</td>\n",
       "      <td>1.537555</td>\n",
       "      <td>1.814038</td>\n",
       "      <td>0.183211</td>\n",
       "      <td>1.832549</td>\n",
       "      <td>0.196182</td>\n",
       "    </tr>\n",
       "    <tr>\n",
       "      <th>20</th>\n",
       "      <td>S</td>\n",
       "      <td>Lindsey</td>\n",
       "      <td>1.053393</td>\n",
       "      <td>1.312990</td>\n",
       "      <td>2.859294</td>\n",
       "      <td>1.542120</td>\n",
       "      <td>1.787660</td>\n",
       "      <td>0.237536</td>\n",
       "      <td>1.805901</td>\n",
       "      <td>0.229129</td>\n",
       "    </tr>\n",
       "    <tr>\n",
       "      <th>108</th>\n",
       "      <td>S</td>\n",
       "      <td>Amanda</td>\n",
       "      <td>1.166641</td>\n",
       "      <td>0.986863</td>\n",
       "      <td>2.858139</td>\n",
       "      <td>1.545907</td>\n",
       "      <td>1.674412</td>\n",
       "      <td>0.563663</td>\n",
       "      <td>1.691498</td>\n",
       "      <td>0.559043</td>\n",
       "    </tr>\n",
       "    <tr>\n",
       "      <th>212</th>\n",
       "      <td>IO</td>\n",
       "      <td>Bradley</td>\n",
       "      <td>1.245273</td>\n",
       "      <td>1.072404</td>\n",
       "      <td>2.857337</td>\n",
       "      <td>1.546183</td>\n",
       "      <td>1.595780</td>\n",
       "      <td>0.478122</td>\n",
       "      <td>1.612063</td>\n",
       "      <td>0.473778</td>\n",
       "    </tr>\n",
       "    <tr>\n",
       "      <th>171</th>\n",
       "      <td>IO</td>\n",
       "      <td>Amy</td>\n",
       "      <td>4.435444</td>\n",
       "      <td>1.738946</td>\n",
       "      <td>2.824784</td>\n",
       "      <td>1.540003</td>\n",
       "      <td>1.594391</td>\n",
       "      <td>0.188420</td>\n",
       "      <td>1.610660</td>\n",
       "      <td>0.198944</td>\n",
       "    </tr>\n",
       "    <tr>\n",
       "      <th>80</th>\n",
       "      <td>S</td>\n",
       "      <td>Lisa</td>\n",
       "      <td>1.292098</td>\n",
       "      <td>0.978007</td>\n",
       "      <td>2.856859</td>\n",
       "      <td>1.547312</td>\n",
       "      <td>1.548955</td>\n",
       "      <td>0.572519</td>\n",
       "      <td>1.564761</td>\n",
       "      <td>0.569304</td>\n",
       "    </tr>\n",
       "    <tr>\n",
       "      <th>114</th>\n",
       "      <td>S</td>\n",
       "      <td>Courtney</td>\n",
       "      <td>1.355508</td>\n",
       "      <td>1.045270</td>\n",
       "      <td>2.856212</td>\n",
       "      <td>1.547504</td>\n",
       "      <td>1.485545</td>\n",
       "      <td>0.505257</td>\n",
       "      <td>1.500704</td>\n",
       "      <td>0.502234</td>\n",
       "    </tr>\n",
       "  </tbody>\n",
       "</table>\n",
       "</div>"
      ],
      "text/plain": [
       "    col        val      mean       std  alt_mean   alt_std  global_mean_diff  \\\n",
       "26    S    Bradley  5.686855  1.362495  2.812014  1.525202          2.845802   \n",
       "66    S    Jeffrey  5.481752  1.333920  2.814107  1.529257          2.640699   \n",
       "104   S  Alexander  4.819184  1.211386  2.820868  1.540570          1.978131   \n",
       "208  IO     Angela  4.655091  1.733737  2.822542  1.537555          1.814038   \n",
       "20    S    Lindsey  1.053393  1.312990  2.859294  1.542120          1.787660   \n",
       "108   S     Amanda  1.166641  0.986863  2.858139  1.545907          1.674412   \n",
       "212  IO    Bradley  1.245273  1.072404  2.857337  1.546183          1.595780   \n",
       "171  IO        Amy  4.435444  1.738946  2.824784  1.540003          1.594391   \n",
       "80    S       Lisa  1.292098  0.978007  2.856859  1.547312          1.548955   \n",
       "114   S   Courtney  1.355508  1.045270  2.856212  1.547504          1.485545   \n",
       "\n",
       "     global_std_diff  relative_mean_diff  relative_std_diff  \n",
       "26          0.188031            2.874841           0.162707  \n",
       "66          0.216606            2.667645           0.195337  \n",
       "104         0.339140            1.998316           0.329184  \n",
       "208         0.183211            1.832549           0.196182  \n",
       "20          0.237536            1.805901           0.229129  \n",
       "108         0.563663            1.691498           0.559043  \n",
       "212         0.478122            1.612063           0.473778  \n",
       "171         0.188420            1.610660           0.198944  \n",
       "80          0.572519            1.564761           0.569304  \n",
       "114         0.505257            1.500704           0.502234  "
      ]
     },
     "execution_count": 14,
     "metadata": {},
     "output_type": "execute_result"
    }
   ],
   "source": [
    "first_order_df.sort_values(\"global_mean_diff\", ascending=False).head(10)"
   ]
  },
  {
   "cell_type": "code",
   "execution_count": 15,
   "metadata": {},
   "outputs": [
    {
     "data": {
      "text/html": [
       "<div>\n",
       "<style scoped>\n",
       "    .dataframe tbody tr th:only-of-type {\n",
       "        vertical-align: middle;\n",
       "    }\n",
       "\n",
       "    .dataframe tbody tr th {\n",
       "        vertical-align: top;\n",
       "    }\n",
       "\n",
       "    .dataframe thead th {\n",
       "        text-align: right;\n",
       "    }\n",
       "</style>\n",
       "<table border=\"1\" class=\"dataframe\">\n",
       "  <thead>\n",
       "    <tr style=\"text-align: right;\">\n",
       "      <th></th>\n",
       "      <th>col</th>\n",
       "      <th>val</th>\n",
       "      <th>mean</th>\n",
       "      <th>std</th>\n",
       "      <th>alt_mean</th>\n",
       "      <th>alt_std</th>\n",
       "      <th>global_mean_diff</th>\n",
       "      <th>global_std_diff</th>\n",
       "      <th>relative_mean_diff</th>\n",
       "      <th>relative_std_diff</th>\n",
       "    </tr>\n",
       "  </thead>\n",
       "  <tbody>\n",
       "    <tr>\n",
       "      <th>26</th>\n",
       "      <td>S</td>\n",
       "      <td>Bradley</td>\n",
       "      <td>5.686855</td>\n",
       "      <td>1.362495</td>\n",
       "      <td>2.812014</td>\n",
       "      <td>1.525202</td>\n",
       "      <td>2.845802</td>\n",
       "      <td>0.188031</td>\n",
       "      <td>2.874841</td>\n",
       "      <td>0.162707</td>\n",
       "    </tr>\n",
       "    <tr>\n",
       "      <th>66</th>\n",
       "      <td>S</td>\n",
       "      <td>Jeffrey</td>\n",
       "      <td>5.481752</td>\n",
       "      <td>1.333920</td>\n",
       "      <td>2.814107</td>\n",
       "      <td>1.529257</td>\n",
       "      <td>2.640699</td>\n",
       "      <td>0.216606</td>\n",
       "      <td>2.667645</td>\n",
       "      <td>0.195337</td>\n",
       "    </tr>\n",
       "    <tr>\n",
       "      <th>104</th>\n",
       "      <td>S</td>\n",
       "      <td>Alexander</td>\n",
       "      <td>4.819184</td>\n",
       "      <td>1.211386</td>\n",
       "      <td>2.820868</td>\n",
       "      <td>1.540570</td>\n",
       "      <td>1.978131</td>\n",
       "      <td>0.339140</td>\n",
       "      <td>1.998316</td>\n",
       "      <td>0.329184</td>\n",
       "    </tr>\n",
       "    <tr>\n",
       "      <th>208</th>\n",
       "      <td>IO</td>\n",
       "      <td>Angela</td>\n",
       "      <td>4.655091</td>\n",
       "      <td>1.733737</td>\n",
       "      <td>2.822542</td>\n",
       "      <td>1.537555</td>\n",
       "      <td>1.814038</td>\n",
       "      <td>0.183211</td>\n",
       "      <td>1.832549</td>\n",
       "      <td>0.196182</td>\n",
       "    </tr>\n",
       "    <tr>\n",
       "      <th>20</th>\n",
       "      <td>S</td>\n",
       "      <td>Lindsey</td>\n",
       "      <td>1.053393</td>\n",
       "      <td>1.312990</td>\n",
       "      <td>2.859294</td>\n",
       "      <td>1.542120</td>\n",
       "      <td>1.787660</td>\n",
       "      <td>0.237536</td>\n",
       "      <td>1.805901</td>\n",
       "      <td>0.229129</td>\n",
       "    </tr>\n",
       "    <tr>\n",
       "      <th>108</th>\n",
       "      <td>S</td>\n",
       "      <td>Amanda</td>\n",
       "      <td>1.166641</td>\n",
       "      <td>0.986863</td>\n",
       "      <td>2.858139</td>\n",
       "      <td>1.545907</td>\n",
       "      <td>1.674412</td>\n",
       "      <td>0.563663</td>\n",
       "      <td>1.691498</td>\n",
       "      <td>0.559043</td>\n",
       "    </tr>\n",
       "    <tr>\n",
       "      <th>212</th>\n",
       "      <td>IO</td>\n",
       "      <td>Bradley</td>\n",
       "      <td>1.245273</td>\n",
       "      <td>1.072404</td>\n",
       "      <td>2.857337</td>\n",
       "      <td>1.546183</td>\n",
       "      <td>1.595780</td>\n",
       "      <td>0.478122</td>\n",
       "      <td>1.612063</td>\n",
       "      <td>0.473778</td>\n",
       "    </tr>\n",
       "    <tr>\n",
       "      <th>171</th>\n",
       "      <td>IO</td>\n",
       "      <td>Amy</td>\n",
       "      <td>4.435444</td>\n",
       "      <td>1.738946</td>\n",
       "      <td>2.824784</td>\n",
       "      <td>1.540003</td>\n",
       "      <td>1.594391</td>\n",
       "      <td>0.188420</td>\n",
       "      <td>1.610660</td>\n",
       "      <td>0.198944</td>\n",
       "    </tr>\n",
       "    <tr>\n",
       "      <th>80</th>\n",
       "      <td>S</td>\n",
       "      <td>Lisa</td>\n",
       "      <td>1.292098</td>\n",
       "      <td>0.978007</td>\n",
       "      <td>2.856859</td>\n",
       "      <td>1.547312</td>\n",
       "      <td>1.548955</td>\n",
       "      <td>0.572519</td>\n",
       "      <td>1.564761</td>\n",
       "      <td>0.569304</td>\n",
       "    </tr>\n",
       "    <tr>\n",
       "      <th>114</th>\n",
       "      <td>S</td>\n",
       "      <td>Courtney</td>\n",
       "      <td>1.355508</td>\n",
       "      <td>1.045270</td>\n",
       "      <td>2.856212</td>\n",
       "      <td>1.547504</td>\n",
       "      <td>1.485545</td>\n",
       "      <td>0.505257</td>\n",
       "      <td>1.500704</td>\n",
       "      <td>0.502234</td>\n",
       "    </tr>\n",
       "  </tbody>\n",
       "</table>\n",
       "</div>"
      ],
      "text/plain": [
       "    col        val      mean       std  alt_mean   alt_std  global_mean_diff  \\\n",
       "26    S    Bradley  5.686855  1.362495  2.812014  1.525202          2.845802   \n",
       "66    S    Jeffrey  5.481752  1.333920  2.814107  1.529257          2.640699   \n",
       "104   S  Alexander  4.819184  1.211386  2.820868  1.540570          1.978131   \n",
       "208  IO     Angela  4.655091  1.733737  2.822542  1.537555          1.814038   \n",
       "20    S    Lindsey  1.053393  1.312990  2.859294  1.542120          1.787660   \n",
       "108   S     Amanda  1.166641  0.986863  2.858139  1.545907          1.674412   \n",
       "212  IO    Bradley  1.245273  1.072404  2.857337  1.546183          1.595780   \n",
       "171  IO        Amy  4.435444  1.738946  2.824784  1.540003          1.594391   \n",
       "80    S       Lisa  1.292098  0.978007  2.856859  1.547312          1.548955   \n",
       "114   S   Courtney  1.355508  1.045270  2.856212  1.547504          1.485545   \n",
       "\n",
       "     global_std_diff  relative_mean_diff  relative_std_diff  \n",
       "26          0.188031            2.874841           0.162707  \n",
       "66          0.216606            2.667645           0.195337  \n",
       "104         0.339140            1.998316           0.329184  \n",
       "208         0.183211            1.832549           0.196182  \n",
       "20          0.237536            1.805901           0.229129  \n",
       "108         0.563663            1.691498           0.559043  \n",
       "212         0.478122            1.612063           0.473778  \n",
       "171         0.188420            1.610660           0.198944  \n",
       "80          0.572519            1.564761           0.569304  \n",
       "114         0.505257            1.500704           0.502234  "
      ]
     },
     "execution_count": 15,
     "metadata": {},
     "output_type": "execute_result"
    }
   ],
   "source": [
    "first_order_df.sort_values(\"relative_mean_diff\", ascending=False).head(10)"
   ]
  },
  {
   "cell_type": "code",
   "execution_count": 17,
   "metadata": {},
   "outputs": [
    {
     "data": {
      "text/html": [
       "<div>\n",
       "<style scoped>\n",
       "    .dataframe tbody tr th:only-of-type {\n",
       "        vertical-align: middle;\n",
       "    }\n",
       "\n",
       "    .dataframe tbody tr th {\n",
       "        vertical-align: top;\n",
       "    }\n",
       "\n",
       "    .dataframe thead th {\n",
       "        text-align: right;\n",
       "    }\n",
       "</style>\n",
       "<table border=\"1\" class=\"dataframe\">\n",
       "  <thead>\n",
       "    <tr style=\"text-align: right;\">\n",
       "      <th></th>\n",
       "      <th>col</th>\n",
       "      <th>val</th>\n",
       "      <th>mean</th>\n",
       "      <th>std</th>\n",
       "      <th>alt_mean</th>\n",
       "      <th>alt_std</th>\n",
       "      <th>global_mean_diff</th>\n",
       "      <th>global_std_diff</th>\n",
       "      <th>relative_mean_diff</th>\n",
       "      <th>relative_std_diff</th>\n",
       "    </tr>\n",
       "  </thead>\n",
       "  <tbody>\n",
       "    <tr>\n",
       "      <th>20</th>\n",
       "      <td>S</td>\n",
       "      <td>Lindsey</td>\n",
       "      <td>1.053393</td>\n",
       "      <td>1.312990</td>\n",
       "      <td>2.859294</td>\n",
       "      <td>1.542120</td>\n",
       "      <td>1.787660</td>\n",
       "      <td>0.237536</td>\n",
       "      <td>1.805901</td>\n",
       "      <td>0.229129</td>\n",
       "    </tr>\n",
       "    <tr>\n",
       "      <th>108</th>\n",
       "      <td>S</td>\n",
       "      <td>Amanda</td>\n",
       "      <td>1.166641</td>\n",
       "      <td>0.986863</td>\n",
       "      <td>2.858139</td>\n",
       "      <td>1.545907</td>\n",
       "      <td>1.674412</td>\n",
       "      <td>0.563663</td>\n",
       "      <td>1.691498</td>\n",
       "      <td>0.559043</td>\n",
       "    </tr>\n",
       "    <tr>\n",
       "      <th>212</th>\n",
       "      <td>IO</td>\n",
       "      <td>Bradley</td>\n",
       "      <td>1.245273</td>\n",
       "      <td>1.072404</td>\n",
       "      <td>2.857337</td>\n",
       "      <td>1.546183</td>\n",
       "      <td>1.595780</td>\n",
       "      <td>0.478122</td>\n",
       "      <td>1.612063</td>\n",
       "      <td>0.473778</td>\n",
       "    </tr>\n",
       "    <tr>\n",
       "      <th>80</th>\n",
       "      <td>S</td>\n",
       "      <td>Lisa</td>\n",
       "      <td>1.292098</td>\n",
       "      <td>0.978007</td>\n",
       "      <td>2.856859</td>\n",
       "      <td>1.547312</td>\n",
       "      <td>1.548955</td>\n",
       "      <td>0.572519</td>\n",
       "      <td>1.564761</td>\n",
       "      <td>0.569304</td>\n",
       "    </tr>\n",
       "    <tr>\n",
       "      <th>114</th>\n",
       "      <td>S</td>\n",
       "      <td>Courtney</td>\n",
       "      <td>1.355508</td>\n",
       "      <td>1.045270</td>\n",
       "      <td>2.856212</td>\n",
       "      <td>1.547504</td>\n",
       "      <td>1.485545</td>\n",
       "      <td>0.505257</td>\n",
       "      <td>1.500704</td>\n",
       "      <td>0.502234</td>\n",
       "    </tr>\n",
       "    <tr>\n",
       "      <th>46</th>\n",
       "      <td>S</td>\n",
       "      <td>David</td>\n",
       "      <td>1.369144</td>\n",
       "      <td>0.951347</td>\n",
       "      <td>2.856073</td>\n",
       "      <td>1.548256</td>\n",
       "      <td>1.471909</td>\n",
       "      <td>0.599179</td>\n",
       "      <td>1.486929</td>\n",
       "      <td>0.596909</td>\n",
       "    </tr>\n",
       "    <tr>\n",
       "      <th>137</th>\n",
       "      <td>IO</td>\n",
       "      <td>Alicia</td>\n",
       "      <td>1.379143</td>\n",
       "      <td>1.523543</td>\n",
       "      <td>2.855970</td>\n",
       "      <td>1.543681</td>\n",
       "      <td>1.461910</td>\n",
       "      <td>0.026984</td>\n",
       "      <td>1.476828</td>\n",
       "      <td>0.020138</td>\n",
       "    </tr>\n",
       "    <tr>\n",
       "      <th>34</th>\n",
       "      <td>S</td>\n",
       "      <td>Mary</td>\n",
       "      <td>1.385800</td>\n",
       "      <td>1.075051</td>\n",
       "      <td>2.855903</td>\n",
       "      <td>1.547592</td>\n",
       "      <td>1.455253</td>\n",
       "      <td>0.475476</td>\n",
       "      <td>1.470103</td>\n",
       "      <td>0.472542</td>\n",
       "    </tr>\n",
       "    <tr>\n",
       "      <th>90</th>\n",
       "      <td>S</td>\n",
       "      <td>Erin</td>\n",
       "      <td>1.394115</td>\n",
       "      <td>0.978595</td>\n",
       "      <td>2.855818</td>\n",
       "      <td>1.548326</td>\n",
       "      <td>1.446938</td>\n",
       "      <td>0.571931</td>\n",
       "      <td>1.461703</td>\n",
       "      <td>0.569730</td>\n",
       "    </tr>\n",
       "    <tr>\n",
       "      <th>201</th>\n",
       "      <td>IO</td>\n",
       "      <td>Mark</td>\n",
       "      <td>1.421539</td>\n",
       "      <td>1.108430</td>\n",
       "      <td>2.855538</td>\n",
       "      <td>1.547694</td>\n",
       "      <td>1.419514</td>\n",
       "      <td>0.442097</td>\n",
       "      <td>1.433999</td>\n",
       "      <td>0.439265</td>\n",
       "    </tr>\n",
       "  </tbody>\n",
       "</table>\n",
       "</div>"
      ],
      "text/plain": [
       "    col       val      mean       std  alt_mean   alt_std  global_mean_diff  \\\n",
       "20    S   Lindsey  1.053393  1.312990  2.859294  1.542120          1.787660   \n",
       "108   S    Amanda  1.166641  0.986863  2.858139  1.545907          1.674412   \n",
       "212  IO   Bradley  1.245273  1.072404  2.857337  1.546183          1.595780   \n",
       "80    S      Lisa  1.292098  0.978007  2.856859  1.547312          1.548955   \n",
       "114   S  Courtney  1.355508  1.045270  2.856212  1.547504          1.485545   \n",
       "46    S     David  1.369144  0.951347  2.856073  1.548256          1.471909   \n",
       "137  IO    Alicia  1.379143  1.523543  2.855970  1.543681          1.461910   \n",
       "34    S      Mary  1.385800  1.075051  2.855903  1.547592          1.455253   \n",
       "90    S      Erin  1.394115  0.978595  2.855818  1.548326          1.446938   \n",
       "201  IO      Mark  1.421539  1.108430  2.855538  1.547694          1.419514   \n",
       "\n",
       "     global_std_diff  relative_mean_diff  relative_std_diff  \n",
       "20          0.237536            1.805901           0.229129  \n",
       "108         0.563663            1.691498           0.559043  \n",
       "212         0.478122            1.612063           0.473778  \n",
       "80          0.572519            1.564761           0.569304  \n",
       "114         0.505257            1.500704           0.502234  \n",
       "46          0.599179            1.486929           0.596909  \n",
       "137         0.026984            1.476828           0.020138  \n",
       "34          0.475476            1.470103           0.472542  \n",
       "90          0.571931            1.461703           0.569730  \n",
       "201         0.442097            1.433999           0.439265  "
      ]
     },
     "execution_count": 17,
     "metadata": {},
     "output_type": "execute_result"
    }
   ],
   "source": [
    "first_order_df.sort_values(\"mean\", ascending=True).head(10)"
   ]
  },
  {
   "cell_type": "code",
   "execution_count": 19,
   "metadata": {},
   "outputs": [
    {
     "data": {
      "image/png": "[encoded data removed]",
      "text/plain": [
       "<Figure size 640x480 with 1 Axes>"
      ]
     },
     "metadata": {},
     "output_type": "display_data"
    }
   ],
   "source": [
    "plot_against_alt(df, 'S', 'Lindsey', label_prefix=\"\")"
   ]
  },
  {
   "cell_type": "code",
   "execution_count": 30,
   "metadata": {},
   "outputs": [],
   "source": [
    "lindsey_s_df = df[df[\"S\"] == \"Lindsey\"]"
   ]
  },
  {
   "cell_type": "code",
   "execution_count": 31,
   "metadata": {},
   "outputs": [
    {
     "name": "stderr",
     "output_type": "stream",
     "text": [
      "100%|██████████| 1/1 [00:00<00:00, 171.52it/s]\n",
      "100%|██████████| 8/8 [00:00<00:00, 227.98it/s]\n",
      "100%|██████████| 8/8 [00:00<00:00, 294.02it/s]\n",
      "100%|██████████| 98/98 [00:00<00:00, 407.70it/s]\n"
     ]
    }
   ],
   "source": [
    "lindsey_s_res_list = []\n",
    "# check all template subsets\n",
    "for col in [\"template\", \"PLACE\", \"OBJECT\", \"IO\"]:\n",
    "    unique_vals = lindsey_s_df[col].unique().tolist()\n",
    "    for val in tqdm(unique_vals):\n",
    "        subset_dict = {}\n",
    "        subset_dict[\"col\"] = col\n",
    "        subset_dict[\"val\"] = val\n",
    "\n",
    "        subset_dict[\"mean\"] = lindsey_s_df['logit_diff'][lindsey_s_df[col] == val].mean()\n",
    "        subset_dict[\"std\"] = lindsey_s_df['logit_diff'][lindsey_s_df[col] == val].std()\n",
    "        subset_dict[\"alt_mean\"] = lindsey_s_df['logit_diff'][lindsey_s_df[col] != val].mean()\n",
    "        subset_dict[\"alt_std\"] = lindsey_s_df['logit_diff'][lindsey_s_df[col] != val].std()\n",
    "\n",
    "        lindsey_s_res_list.append(subset_dict)"
   ]
  },
  {
   "cell_type": "code",
   "execution_count": 32,
   "metadata": {},
   "outputs": [],
   "source": [
    "lindsey_s_res_df = pd.DataFrame(lindsey_s_res_list)"
   ]
  },
  {
   "cell_type": "code",
   "execution_count": 33,
   "metadata": {},
   "outputs": [
    {
     "data": {
      "text/html": [
       "<div>\n",
       "<style scoped>\n",
       "    .dataframe tbody tr th:only-of-type {\n",
       "        vertical-align: middle;\n",
       "    }\n",
       "\n",
       "    .dataframe tbody tr th {\n",
       "        vertical-align: top;\n",
       "    }\n",
       "\n",
       "    .dataframe thead th {\n",
       "        text-align: right;\n",
       "    }\n",
       "</style>\n",
       "<table border=\"1\" class=\"dataframe\">\n",
       "  <thead>\n",
       "    <tr style=\"text-align: right;\">\n",
       "      <th></th>\n",
       "      <th>col</th>\n",
       "      <th>val</th>\n",
       "      <th>mean</th>\n",
       "      <th>std</th>\n",
       "      <th>alt_mean</th>\n",
       "      <th>alt_std</th>\n",
       "    </tr>\n",
       "  </thead>\n",
       "  <tbody>\n",
       "    <tr>\n",
       "      <th>76</th>\n",
       "      <td>IO</td>\n",
       "      <td>Sara</td>\n",
       "      <td>-2.182376</td>\n",
       "      <td>0.696683</td>\n",
       "      <td>1.086752</td>\n",
       "      <td>1.275822</td>\n",
       "    </tr>\n",
       "    <tr>\n",
       "      <th>105</th>\n",
       "      <td>IO</td>\n",
       "      <td>Lindsay</td>\n",
       "      <td>-2.113549</td>\n",
       "      <td>0.343231</td>\n",
       "      <td>1.086042</td>\n",
       "      <td>1.279079</td>\n",
       "    </tr>\n",
       "    <tr>\n",
       "      <th>45</th>\n",
       "      <td>IO</td>\n",
       "      <td>Michelle</td>\n",
       "      <td>-1.142737</td>\n",
       "      <td>0.680767</td>\n",
       "      <td>1.076034</td>\n",
       "      <td>1.298758</td>\n",
       "    </tr>\n",
       "    <tr>\n",
       "      <th>98</th>\n",
       "      <td>IO</td>\n",
       "      <td>Kristen</td>\n",
       "      <td>-1.031666</td>\n",
       "      <td>0.626594</td>\n",
       "      <td>1.074889</td>\n",
       "      <td>1.300940</td>\n",
       "    </tr>\n",
       "    <tr>\n",
       "      <th>63</th>\n",
       "      <td>IO</td>\n",
       "      <td>Elizabeth</td>\n",
       "      <td>-0.899106</td>\n",
       "      <td>0.613597</td>\n",
       "      <td>1.073522</td>\n",
       "      <td>1.303144</td>\n",
       "    </tr>\n",
       "    <tr>\n",
       "      <th>92</th>\n",
       "      <td>IO</td>\n",
       "      <td>Sarah</td>\n",
       "      <td>-0.777892</td>\n",
       "      <td>0.429188</td>\n",
       "      <td>1.072272</td>\n",
       "      <td>1.305724</td>\n",
       "    </tr>\n",
       "    <tr>\n",
       "      <th>74</th>\n",
       "      <td>IO</td>\n",
       "      <td>Alicia</td>\n",
       "      <td>-0.760025</td>\n",
       "      <td>0.831424</td>\n",
       "      <td>1.072088</td>\n",
       "      <td>1.304012</td>\n",
       "    </tr>\n",
       "    <tr>\n",
       "      <th>35</th>\n",
       "      <td>IO</td>\n",
       "      <td>Jesse</td>\n",
       "      <td>-0.610917</td>\n",
       "      <td>0.481614</td>\n",
       "      <td>1.070551</td>\n",
       "      <td>1.307865</td>\n",
       "    </tr>\n",
       "    <tr>\n",
       "      <th>75</th>\n",
       "      <td>IO</td>\n",
       "      <td>Jennifer</td>\n",
       "      <td>-0.585196</td>\n",
       "      <td>0.612797</td>\n",
       "      <td>1.070286</td>\n",
       "      <td>1.307646</td>\n",
       "    </tr>\n",
       "    <tr>\n",
       "      <th>36</th>\n",
       "      <td>IO</td>\n",
       "      <td>Samantha</td>\n",
       "      <td>-0.469906</td>\n",
       "      <td>0.684665</td>\n",
       "      <td>1.069097</td>\n",
       "      <td>1.308736</td>\n",
       "    </tr>\n",
       "  </tbody>\n",
       "</table>\n",
       "</div>"
      ],
      "text/plain": [
       "    col        val      mean       std  alt_mean   alt_std\n",
       "76   IO       Sara -2.182376  0.696683  1.086752  1.275822\n",
       "105  IO    Lindsay -2.113549  0.343231  1.086042  1.279079\n",
       "45   IO   Michelle -1.142737  0.680767  1.076034  1.298758\n",
       "98   IO    Kristen -1.031666  0.626594  1.074889  1.300940\n",
       "63   IO  Elizabeth -0.899106  0.613597  1.073522  1.303144\n",
       "92   IO      Sarah -0.777892  0.429188  1.072272  1.305724\n",
       "74   IO     Alicia -0.760025  0.831424  1.072088  1.304012\n",
       "35   IO      Jesse -0.610917  0.481614  1.070551  1.307865\n",
       "75   IO   Jennifer -0.585196  0.612797  1.070286  1.307646\n",
       "36   IO   Samantha -0.469906  0.684665  1.069097  1.308736"
      ]
     },
     "execution_count": 33,
     "metadata": {},
     "output_type": "execute_result"
    }
   ],
   "source": [
    "lindsey_s_res_df.sort_values(\"mean\", ascending=True).head(10)"
   ]
  },
  {
   "cell_type": "code",
   "execution_count": 36,
   "metadata": {},
   "outputs": [
    {
     "data": {
      "image/png": "[encoded data removed]",
      "text/plain": [
       "<Figure size 640x480 with 1 Axes>"
      ]
     },
     "metadata": {},
     "output_type": "display_data"
    }
   ],
   "source": [
    "plot_against_alt(lindsey_s_df, \"IO\", \"Sara\", label_prefix=\"S: Lindsey, \")"
   ]
  },
  {
   "cell_type": "code",
   "execution_count": 37,
   "metadata": {},
   "outputs": [
    {
     "data": {
      "image/png": "[encoded data removed]",
      "text/plain": [
       "<Figure size 640x480 with 1 Axes>"
      ]
     },
     "metadata": {},
     "output_type": "display_data"
    }
   ],
   "source": [
    "plot_against_alt(lindsey_s_df, \"IO\", \"Michelle\", label_prefix=\"S: Lindsey, \")"
   ]
  },
  {
   "cell_type": "code",
   "execution_count": 51,
   "metadata": {},
   "outputs": [
    {
     "name": "stdout",
     "output_type": "stream",
     "text": [
      "Loaded pretrained model gpt2 into HookedTransformer\n"
     ]
    }
   ],
   "source": [
    "model = HookedTransformer.from_pretrained(\"gpt2\")\n",
    "tokenizer = model.tokenizer"
   ]
  },
  {
   "cell_type": "code",
   "execution_count": 66,
   "metadata": {},
   "outputs": [
    {
     "data": {
      "text/plain": [
       "'Afterwards, Lindsey and Michelle went to the hospital. Lindsey gave a drink to'"
      ]
     },
     "execution_count": 66,
     "metadata": {},
     "output_type": "execute_result"
    }
   ],
   "source": [
    "lindmich_df = lindsey_s_df[lindsey_s_df[\"IO\"] == \"Michelle\"]\n",
    "toks = lindmich_df.iloc[0]['prompt_toks'][1:-1].split(', ')\n",
    "toks = [int(t) for t in toks]\n",
    "prompt = tokenizer.decode(toks)\n",
    "prompt"
   ]
  },
  {
   "cell_type": "code",
   "execution_count": 67,
   "metadata": {},
   "outputs": [
    {
     "name": "stdout",
     "output_type": "stream",
     "text": [
      "Tokenized prompt: ['<|endoftext|>', 'After', 'wards', ',', ' Lindsey', ' and', ' Michelle', ' went', ' to', ' the', ' hospital', '.', ' Lindsey', ' gave', ' a', ' drink', ' to']\n",
      "Tokenized answer: [' Michelle']\n"
     ]
    },
    {
     "data": {
      "text/html": [
       "<pre style=\"white-space:pre;overflow-x:auto;line-height:normal;font-family:Menlo,'DejaVu Sans Mono',consolas,'Courier New',monospace\">Performance on answer token:\n",
       "<span style=\"font-weight: bold\">Rank: </span><span style=\"color: #008080; text-decoration-color: #008080; font-weight: bold\">3</span><span style=\"font-weight: bold\">        Logit: </span><span style=\"color: #008080; text-decoration-color: #008080; font-weight: bold\">15.28</span><span style=\"font-weight: bold\"> Prob:  </span><span style=\"color: #008080; text-decoration-color: #008080; font-weight: bold\">8.35</span><span style=\"font-weight: bold\">% Token: | Michelle|</span>\n",
       "</pre>\n"
      ],
      "text/plain": [
       "Performance on answer token:\n",
       "\u001b[1mRank: \u001b[0m\u001b[1;36m3\u001b[0m\u001b[1m        Logit: \u001b[0m\u001b[1;36m15.28\u001b[0m\u001b[1m Prob:  \u001b[0m\u001b[1;36m8.35\u001b[0m\u001b[1m% Token: | Michelle|\u001b[0m\n"
      ]
     },
     "metadata": {},
     "output_type": "display_data"
    },
    {
     "name": "stdout",
     "output_type": "stream",
     "text": [
      "Top 0th token. Logit: 16.38 Prob: 25.07% Token: | her|\n",
      "Top 1th token. Logit: 16.19 Prob: 20.76% Token: | Lindsey|\n",
      "Top 2th token. Logit: 15.36 Prob:  9.02% Token: | the|\n",
      "Top 3th token. Logit: 15.28 Prob:  8.35% Token: | Michelle|\n",
      "Top 4th token. Logit: 14.61 Prob:  4.25% Token: | them|\n",
      "Top 5th token. Logit: 13.79 Prob:  1.88% Token: | everyone|\n",
      "Top 6th token. Logit: 13.65 Prob:  1.63% Token: | a|\n",
      "Top 7th token. Logit: 13.36 Prob:  1.23% Token: | me|\n",
      "Top 8th token. Logit: 13.31 Prob:  1.16% Token: | both|\n",
      "Top 9th token. Logit: 13.06 Prob:  0.90% Token: | their|\n"
     ]
    },
    {
     "data": {
      "text/html": [
       "<pre style=\"white-space:pre;overflow-x:auto;line-height:normal;font-family:Menlo,'DejaVu Sans Mono',consolas,'Courier New',monospace\"><span style=\"font-weight: bold\">Ranks of the answer tokens:</span> <span style=\"font-weight: bold\">[(</span><span style=\"color: #008000; text-decoration-color: #008000\">' Michelle'</span>, <span style=\"color: #008080; text-decoration-color: #008080; font-weight: bold\">3</span><span style=\"font-weight: bold\">)]</span>\n",
       "</pre>\n"
      ],
      "text/plain": [
       "\u001b[1mRanks of the answer tokens:\u001b[0m \u001b[1m[\u001b[0m\u001b[1m(\u001b[0m\u001b[32m' Michelle'\u001b[0m, \u001b[1;36m3\u001b[0m\u001b[1m)\u001b[0m\u001b[1m]\u001b[0m\n"
      ]
     },
     "metadata": {},
     "output_type": "display_data"
    }
   ],
   "source": [
    "test_prompt(prompt, \"Michelle\", model)"
   ]
  },
  {
   "cell_type": "code",
   "execution_count": null,
   "metadata": {},
   "outputs": [],
   "source": []
  }
 ],
 "metadata": {
  "kernelspec": {
   "display_name": ".venv",
   "language": "python",
   "name": "python3"
  },
  "language_info": {
   "codemirror_mode": {
    "name": "ipython",
    "version": 3
   },
   "file_extension": ".py",
   "mimetype": "text/x-python",
   "name": "python",
   "nbconvert_exporter": "python",
   "pygments_lexer": "ipython3",
   "version": "3.12.4"
  }
 },
 "nbformat": 4,
 "nbformat_minor": 2
}
