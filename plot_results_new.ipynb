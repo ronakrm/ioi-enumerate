{
 "cells": [
  {
   "cell_type": "code",
   "execution_count": 1,
   "metadata": {
    "colab": {
     "base_uri": "https://localhost:8080/"
    },
    "id": "Nn0k-bHBV-Cr",
    "outputId": "94b5c415-ac3f-4a79-e3df-8a195b680a63"
   },
   "outputs": [
    {
     "name": "stdout",
     "output_type": "stream",
     "text": [
      "Requirement already satisfied: pandas in /usr/local/lib/python3.10/dist-packages (2.2.2)\n",
      "Requirement already satisfied: matplotlib in /usr/local/lib/python3.10/dist-packages (3.9.1.post1)\n",
      "Requirement already satisfied: tqdm in /usr/local/lib/python3.10/dist-packages (4.66.5)\n",
      "Requirement already satisfied: transformer_lens in /usr/local/lib/python3.10/dist-packages (2.3.0)\n",
      "Requirement already satisfied: numpy>=1.22.4 in /usr/local/lib/python3.10/dist-packages (from pandas) (1.24.1)\n",
      "Requirement already satisfied: python-dateutil>=2.8.2 in /usr/local/lib/python3.10/dist-packages (from pandas) (2.8.2)\n",
      "Requirement already satisfied: pytz>=2020.1 in /usr/local/lib/python3.10/dist-packages (from pandas) (2024.1)\n",
      "Requirement already satisfied: tzdata>=2022.7 in /usr/local/lib/python3.10/dist-packages (from pandas) (2024.1)\n",
      "Requirement already satisfied: contourpy>=1.0.1 in /usr/local/lib/python3.10/dist-packages (from matplotlib) (1.2.1)\n",
      "Requirement already satisfied: cycler>=0.10 in /usr/local/lib/python3.10/dist-packages (from matplotlib) (0.12.1)\n",
      "Requirement already satisfied: fonttools>=4.22.0 in /usr/local/lib/python3.10/dist-packages (from matplotlib) (4.53.1)\n",
      "Requirement already satisfied: kiwisolver>=1.3.1 in /usr/local/lib/python3.10/dist-packages (from matplotlib) (1.4.5)\n",
      "Requirement already satisfied: packaging>=20.0 in /usr/local/lib/python3.10/dist-packages (from matplotlib) (23.2)\n",
      "Requirement already satisfied: pillow>=8 in /usr/local/lib/python3.10/dist-packages (from matplotlib) (9.3.0)\n",
      "Requirement already satisfied: pyparsing>=2.3.1 in /usr/lib/python3/dist-packages (from matplotlib) (2.4.7)\n",
      "Requirement already satisfied: accelerate>=0.23.0 in /usr/local/lib/python3.10/dist-packages (from transformer_lens) (0.33.0)\n",
      "Requirement already satisfied: beartype<0.15.0,>=0.14.1 in /usr/local/lib/python3.10/dist-packages (from transformer_lens) (0.14.1)\n",
      "Requirement already satisfied: better-abc<0.0.4,>=0.0.3 in /usr/local/lib/python3.10/dist-packages (from transformer_lens) (0.0.3)\n",
      "Requirement already satisfied: datasets>=2.7.1 in /usr/local/lib/python3.10/dist-packages (from transformer_lens) (2.20.0)\n",
      "Requirement already satisfied: einops>=0.6.0 in /usr/local/lib/python3.10/dist-packages (from transformer_lens) (0.8.0)\n",
      "Requirement already satisfied: fancy-einsum>=0.0.3 in /usr/local/lib/python3.10/dist-packages (from transformer_lens) (0.0.3)\n",
      "Requirement already satisfied: jaxtyping>=0.2.11 in /usr/local/lib/python3.10/dist-packages (from transformer_lens) (0.2.33)\n",
      "Requirement already satisfied: rich>=12.6.0 in /usr/local/lib/python3.10/dist-packages (from transformer_lens) (13.7.1)\n",
      "Requirement already satisfied: sentencepiece in /usr/local/lib/python3.10/dist-packages (from transformer_lens) (0.2.0)\n",
      "Requirement already satisfied: torch>=1.10 in /usr/local/lib/python3.10/dist-packages (from transformer_lens) (2.1.0+cu118)\n",
      "Requirement already satisfied: transformers>=4.37.2 in /usr/local/lib/python3.10/dist-packages (from transformer_lens) (4.44.0)\n",
      "Requirement already satisfied: typing-extensions in /usr/local/lib/python3.10/dist-packages (from transformer_lens) (4.4.0)\n",
      "Requirement already satisfied: wandb>=0.13.5 in /usr/local/lib/python3.10/dist-packages (from transformer_lens) (0.17.6)\n",
      "Requirement already satisfied: psutil in /usr/local/lib/python3.10/dist-packages (from accelerate>=0.23.0->transformer_lens) (5.9.6)\n",
      "Requirement already satisfied: pyyaml in /usr/local/lib/python3.10/dist-packages (from accelerate>=0.23.0->transformer_lens) (6.0.1)\n",
      "Requirement already satisfied: huggingface-hub>=0.21.0 in /usr/local/lib/python3.10/dist-packages (from accelerate>=0.23.0->transformer_lens) (0.24.5)\n",
      "Requirement already satisfied: safetensors>=0.3.1 in /usr/local/lib/python3.10/dist-packages (from accelerate>=0.23.0->transformer_lens) (0.4.4)\n",
      "Requirement already satisfied: filelock in /usr/local/lib/python3.10/dist-packages (from datasets>=2.7.1->transformer_lens) (3.9.0)\n",
      "Requirement already satisfied: pyarrow>=15.0.0 in /usr/local/lib/python3.10/dist-packages (from datasets>=2.7.1->transformer_lens) (17.0.0)\n",
      "Requirement already satisfied: pyarrow-hotfix in /usr/local/lib/python3.10/dist-packages (from datasets>=2.7.1->transformer_lens) (0.6)\n",
      "Requirement already satisfied: dill<0.3.9,>=0.3.0 in /usr/local/lib/python3.10/dist-packages (from datasets>=2.7.1->transformer_lens) (0.3.8)\n",
      "Requirement already satisfied: requests>=2.32.2 in /usr/local/lib/python3.10/dist-packages (from datasets>=2.7.1->transformer_lens) (2.32.3)\n",
      "Requirement already satisfied: xxhash in /usr/local/lib/python3.10/dist-packages (from datasets>=2.7.1->transformer_lens) (3.4.1)\n",
      "Requirement already satisfied: multiprocess in /usr/local/lib/python3.10/dist-packages (from datasets>=2.7.1->transformer_lens) (0.70.16)\n",
      "Requirement already satisfied: fsspec<=2024.5.0,>=2023.1.0 in /usr/local/lib/python3.10/dist-packages (from fsspec[http]<=2024.5.0,>=2023.1.0->datasets>=2.7.1->transformer_lens) (2024.5.0)\n",
      "Requirement already satisfied: aiohttp in /usr/local/lib/python3.10/dist-packages (from datasets>=2.7.1->transformer_lens) (3.10.3)\n",
      "Requirement already satisfied: typeguard==2.13.3 in /usr/local/lib/python3.10/dist-packages (from jaxtyping>=0.2.11->transformer_lens) (2.13.3)\n",
      "Requirement already satisfied: six>=1.5 in /usr/lib/python3/dist-packages (from python-dateutil>=2.8.2->pandas) (1.16.0)\n",
      "Requirement already satisfied: markdown-it-py>=2.2.0 in /usr/local/lib/python3.10/dist-packages (from rich>=12.6.0->transformer_lens) (3.0.0)\n",
      "Requirement already satisfied: pygments<3.0.0,>=2.13.0 in /usr/local/lib/python3.10/dist-packages (from rich>=12.6.0->transformer_lens) (2.16.1)\n",
      "Requirement already satisfied: sympy in /usr/local/lib/python3.10/dist-packages (from torch>=1.10->transformer_lens) (1.12)\n",
      "Requirement already satisfied: networkx in /usr/local/lib/python3.10/dist-packages (from torch>=1.10->transformer_lens) (3.0)\n",
      "Requirement already satisfied: jinja2 in /usr/local/lib/python3.10/dist-packages (from torch>=1.10->transformer_lens) (3.1.2)\n",
      "Requirement already satisfied: triton==2.1.0 in /usr/local/lib/python3.10/dist-packages (from torch>=1.10->transformer_lens) (2.1.0)\n",
      "Requirement already satisfied: regex!=2019.12.17 in /usr/local/lib/python3.10/dist-packages (from transformers>=4.37.2->transformer_lens) (2024.7.24)\n",
      "Requirement already satisfied: tokenizers<0.20,>=0.19 in /usr/local/lib/python3.10/dist-packages (from transformers>=4.37.2->transformer_lens) (0.19.1)\n",
      "Requirement already satisfied: click!=8.0.0,>=7.1 in /usr/local/lib/python3.10/dist-packages (from wandb>=0.13.5->transformer_lens) (8.1.7)\n",
      "Requirement already satisfied: docker-pycreds>=0.4.0 in /usr/local/lib/python3.10/dist-packages (from wandb>=0.13.5->transformer_lens) (0.4.0)\n",
      "Requirement already satisfied: gitpython!=3.1.29,>=1.0.0 in /usr/local/lib/python3.10/dist-packages (from wandb>=0.13.5->transformer_lens) (3.1.43)\n",
      "Requirement already satisfied: platformdirs in /usr/local/lib/python3.10/dist-packages (from wandb>=0.13.5->transformer_lens) (3.11.0)\n",
      "Requirement already satisfied: protobuf!=4.21.0,<6,>=3.19.0 in /usr/local/lib/python3.10/dist-packages (from wandb>=0.13.5->transformer_lens) (5.27.3)\n",
      "Requirement already satisfied: sentry-sdk>=1.0.0 in /usr/local/lib/python3.10/dist-packages (from wandb>=0.13.5->transformer_lens) (2.12.0)\n",
      "Requirement already satisfied: setproctitle in /usr/local/lib/python3.10/dist-packages (from wandb>=0.13.5->transformer_lens) (1.3.3)\n",
      "Requirement already satisfied: setuptools in /usr/local/lib/python3.10/dist-packages (from wandb>=0.13.5->transformer_lens) (68.2.2)\n",
      "Requirement already satisfied: aiohappyeyeballs>=2.3.0 in /usr/local/lib/python3.10/dist-packages (from aiohttp->datasets>=2.7.1->transformer_lens) (2.3.5)\n",
      "Requirement already satisfied: aiosignal>=1.1.2 in /usr/local/lib/python3.10/dist-packages (from aiohttp->datasets>=2.7.1->transformer_lens) (1.3.1)\n",
      "Requirement already satisfied: attrs>=17.3.0 in /usr/local/lib/python3.10/dist-packages (from aiohttp->datasets>=2.7.1->transformer_lens) (23.1.0)\n",
      "Requirement already satisfied: frozenlist>=1.1.1 in /usr/local/lib/python3.10/dist-packages (from aiohttp->datasets>=2.7.1->transformer_lens) (1.4.1)\n",
      "Requirement already satisfied: multidict<7.0,>=4.5 in /usr/local/lib/python3.10/dist-packages (from aiohttp->datasets>=2.7.1->transformer_lens) (6.0.5)\n",
      "Requirement already satisfied: yarl<2.0,>=1.0 in /usr/local/lib/python3.10/dist-packages (from aiohttp->datasets>=2.7.1->transformer_lens) (1.9.4)\n",
      "Requirement already satisfied: async-timeout<5.0,>=4.0 in /usr/local/lib/python3.10/dist-packages (from aiohttp->datasets>=2.7.1->transformer_lens) (4.0.3)\n",
      "Requirement already satisfied: gitdb<5,>=4.0.1 in /usr/local/lib/python3.10/dist-packages (from gitpython!=3.1.29,>=1.0.0->wandb>=0.13.5->transformer_lens) (4.0.11)\n",
      "Requirement already satisfied: mdurl~=0.1 in /usr/local/lib/python3.10/dist-packages (from markdown-it-py>=2.2.0->rich>=12.6.0->transformer_lens) (0.1.2)\n",
      "Requirement already satisfied: charset-normalizer<4,>=2 in /usr/local/lib/python3.10/dist-packages (from requests>=2.32.2->datasets>=2.7.1->transformer_lens) (2.1.1)\n",
      "Requirement already satisfied: idna<4,>=2.5 in /usr/local/lib/python3.10/dist-packages (from requests>=2.32.2->datasets>=2.7.1->transformer_lens) (3.4)\n",
      "Requirement already satisfied: urllib3<3,>=1.21.1 in /usr/local/lib/python3.10/dist-packages (from requests>=2.32.2->datasets>=2.7.1->transformer_lens) (1.26.13)\n",
      "Requirement already satisfied: certifi>=2017.4.17 in /usr/local/lib/python3.10/dist-packages (from requests>=2.32.2->datasets>=2.7.1->transformer_lens) (2022.12.7)\n",
      "Requirement already satisfied: MarkupSafe>=2.0 in /usr/local/lib/python3.10/dist-packages (from jinja2->torch>=1.10->transformer_lens) (2.1.2)\n",
      "Requirement already satisfied: mpmath>=0.19 in /usr/local/lib/python3.10/dist-packages (from sympy->torch>=1.10->transformer_lens) (1.3.0)\n",
      "Requirement already satisfied: smmap<6,>=3.0.1 in /usr/local/lib/python3.10/dist-packages (from gitdb<5,>=4.0.1->gitpython!=3.1.29,>=1.0.0->wandb>=0.13.5->transformer_lens) (5.0.1)\n",
      "\u001b[33mWARNING: Running pip as the 'root' user can result in broken permissions and conflicting behaviour with the system package manager. It is recommended to use a virtual environment instead: https://pip.pypa.io/warnings/venv\u001b[0m\u001b[33m\n",
      "\u001b[0m\n",
      "\u001b[1m[\u001b[0m\u001b[34;49mnotice\u001b[0m\u001b[1;39;49m]\u001b[0m\u001b[39;49m A new release of pip is available: \u001b[0m\u001b[31;49m23.3.1\u001b[0m\u001b[39;49m -> \u001b[0m\u001b[32;49m24.2\u001b[0m\n",
      "\u001b[1m[\u001b[0m\u001b[34;49mnotice\u001b[0m\u001b[1;39;49m]\u001b[0m\u001b[39;49m To update, run: \u001b[0m\u001b[32;49mpython -m pip install --upgrade pip\u001b[0m\n"
     ]
    }
   ],
   "source": [
    "!pip install pandas matplotlib tqdm transformer_lens"
   ]
  },
  {
   "cell_type": "code",
   "execution_count": 1,
   "metadata": {
    "colab": {
     "base_uri": "https://localhost:8080/"
    },
    "id": "kCrysUrbV7c7",
    "outputId": "edf796fc-d4e0-4225-95aa-295571d237b5"
   },
   "outputs": [],
   "source": [
    "import pandas as pd\n",
    "import matplotlib.pyplot as plt\n",
    "from tqdm import tqdm\n",
    "from transformer_lens.utils import test_prompt\n",
    "from transformer_lens import HookedTransformer"
   ]
  },
  {
   "cell_type": "code",
   "execution_count": 2,
   "metadata": {},
   "outputs": [],
   "source": [
    "from utils import plot_against_alt, get_first_order_df, print_mean_and_std, print_num_incorrect, compute_first_order_summary_stats"
   ]
  },
  {
   "cell_type": "markdown",
   "metadata": {},
   "source": [
    "# GPT-2 Small"
   ]
  },
  {
   "cell_type": "code",
   "execution_count": 3,
   "metadata": {
    "colab": {
     "base_uri": "https://localhost:8080/"
    },
    "id": "7cgFFQy-V7c_",
    "outputId": "cbd281e5-34d2-4099-887d-61dd40254d3c"
   },
   "outputs": [],
   "source": [
    "# load results\n",
    "small_df = pd.read_csv('results/small_logits.csv')"
   ]
  },
  {
   "cell_type": "code",
   "execution_count": 4,
   "metadata": {},
   "outputs": [
    {
     "name": "stdout",
     "output_type": "stream",
     "text": [
      "Index(['template', 'PLACE', 'OBJECT', 'S', 'IO', 'text', 'prompt_toks',\n",
      "       'logit_diff'],\n",
      "      dtype='object')\n",
      "(9313920, 8)\n"
     ]
    }
   ],
   "source": [
    "print(small_df.columns)\n",
    "print(small_df.shape)"
   ]
  },
  {
   "cell_type": "markdown",
   "metadata": {
    "id": "YwbB7tO2V7dA"
   },
   "source": [
    "## Global Statistics"
   ]
  },
  {
   "cell_type": "code",
   "execution_count": 5,
   "metadata": {
    "colab": {
     "base_uri": "https://localhost:8080/"
    },
    "id": "WvcHc1VaV7dB",
    "outputId": "a78470da-d2b0-4d9d-b7dc-1c258c1b4a18"
   },
   "outputs": [
    {
     "name": "stdout",
     "output_type": "stream",
     "text": [
      "Global mean: 3.7937727343427996\n",
      "Global std: 1.9872322631118449\n"
     ]
    }
   ],
   "source": [
    "global_small_mean, global_small_std = print_mean_and_std(small_df)"
   ]
  },
  {
   "cell_type": "code",
   "execution_count": 6,
   "metadata": {
    "colab": {
     "base_uri": "https://localhost:8080/",
     "height": 1000
    },
    "id": "iLyF82FoV7dC",
    "outputId": "9bef8eb4-5ae2-43f8-b9d6-c0b7caeb66df"
   },
   "outputs": [
    {
     "data": {
      "text/plain": [
       "(array([5.29964248e-07, 2.64982124e-06, 1.05992850e-06, 3.70974974e-06,\n",
       "        6.35957097e-06, 3.17978549e-06, 5.29964248e-06, 4.45169968e-05,\n",
       "        1.64288917e-05, 6.20058170e-05, 1.67998667e-04, 2.04036235e-04,\n",
       "        3.95883293e-04, 4.79087680e-04, 9.39626612e-04, 1.02230103e-03,\n",
       "        2.23167945e-03, 2.52686953e-03, 3.87456862e-03, 6.48252268e-03,\n",
       "        9.31465162e-03, 1.32824939e-02, 1.84120179e-02, 2.68734271e-02,\n",
       "        3.45658581e-02, 4.56002437e-02, 5.97206112e-02, 7.27089750e-02,\n",
       "        8.94834033e-02, 1.04274705e-01, 1.20987658e-01, 1.36091639e-01,\n",
       "        1.50757870e-01, 1.65158058e-01, 1.76707569e-01, 1.88351414e-01,\n",
       "        1.94703035e-01, 1.98062478e-01, 2.01169129e-01, 2.02901052e-01,\n",
       "        1.97034878e-01, 1.95030553e-01, 1.90151172e-01, 1.83202811e-01,\n",
       "        1.75763173e-01, 1.67501030e-01, 1.59303013e-01, 1.50518856e-01,\n",
       "        1.40072201e-01, 1.31540306e-01, 1.20734865e-01, 1.10837253e-01,\n",
       "        1.01472785e-01, 9.16000805e-02, 8.19144539e-02, 7.38478681e-02,\n",
       "        6.53620806e-02, 5.81566867e-02, 5.08113822e-02, 4.35842597e-02,\n",
       "        3.73603596e-02, 3.21168934e-02, 2.75040845e-02, 2.32951085e-02,\n",
       "        1.96950613e-02, 1.63854346e-02, 1.33058124e-02, 1.09803293e-02,\n",
       "        8.78097762e-03, 7.01937646e-03, 5.53653650e-03, 4.36054583e-03,\n",
       "        3.48716475e-03, 2.60530424e-03, 1.94125904e-03, 1.50615839e-03,\n",
       "        1.13836320e-03, 8.36283583e-04, 6.03099314e-04, 4.41460219e-04,\n",
       "        3.23278191e-04, 2.42723626e-04, 1.60579167e-04, 1.12352421e-04,\n",
       "        8.16144942e-05, 6.25357813e-05, 3.65675331e-05, 2.64982124e-05,\n",
       "        1.69588559e-05, 1.64288917e-05, 1.00693207e-05, 4.76967823e-06,\n",
       "        4.23971398e-06, 2.11985699e-06, 2.11985699e-06, 3.70974974e-06,\n",
       "        0.00000000e+00, 1.05992850e-06, 0.00000000e+00, 1.05992850e-06]),\n",
       " array([-4.71869278, -4.51610142, -4.31351006, -4.11091869, -3.90832733,\n",
       "        -3.70573597, -3.50314461, -3.30055325, -3.09796188, -2.89537052,\n",
       "        -2.69277916, -2.4901878 , -2.28759644, -2.08500507, -1.88241371,\n",
       "        -1.67982235, -1.47723099, -1.27463963, -1.07204826, -0.8694569 ,\n",
       "        -0.66686554, -0.46427418, -0.26168282, -0.05909145,  0.14349991,\n",
       "         0.34609127,  0.54868263,  0.75127399,  0.95386536,  1.15645672,\n",
       "         1.35904808,  1.56163944,  1.7642308 ,  1.96682217,  2.16941353,\n",
       "         2.37200489,  2.57459625,  2.77718761,  2.97977898,  3.18237034,\n",
       "         3.3849617 ,  3.58755306,  3.79014442,  3.99273579,  4.19532715,\n",
       "         4.39791851,  4.60050987,  4.80310123,  5.0056926 ,  5.20828396,\n",
       "         5.41087532,  5.61346668,  5.81605804,  6.01864941,  6.22124077,\n",
       "         6.42383213,  6.62642349,  6.82901485,  7.03160622,  7.23419758,\n",
       "         7.43678894,  7.6393803 ,  7.84197166,  8.04456303,  8.24715439,\n",
       "         8.44974575,  8.65233711,  8.85492847,  9.05751984,  9.2601112 ,\n",
       "         9.46270256,  9.66529392,  9.86788528, 10.07047665, 10.27306801,\n",
       "        10.47565937, 10.67825073, 10.88084209, 11.08343346, 11.28602482,\n",
       "        11.48861618, 11.69120754, 11.8937989 , 12.09639027, 12.29898163,\n",
       "        12.50157299, 12.70416435, 12.90675571, 13.10934708, 13.31193844,\n",
       "        13.5145298 , 13.71712116, 13.91971252, 14.12230389, 14.32489525,\n",
       "        14.52748661, 14.73007797, 14.93266933, 15.1352607 , 15.33785206,\n",
       "        15.54044342]),\n",
       " <BarContainer object of 100 artists>)"
      ]
     },
     "execution_count": 6,
     "metadata": {},
     "output_type": "execute_result"
    },
    {
     "data": {
      "image/png": "[encoded data removed]",
      "text/plain": [
       "<Figure size 640x480 with 1 Axes>"
      ]
     },
     "metadata": {},
     "output_type": "display_data"
    }
   ],
   "source": [
    "# plot full histogram\n",
    "plt.hist(small_df['logit_diff'], bins=100,  density=True)"
   ]
  },
  {
   "cell_type": "code",
   "execution_count": 7,
   "metadata": {
    "colab": {
     "base_uri": "https://localhost:8080/"
    },
    "id": "75tE5jw3V7dD",
    "outputId": "9260085e-3131-4cf6-d19a-3ab2c417b706"
   },
   "outputs": [
    {
     "name": "stdout",
     "output_type": "stream",
     "text": [
      "# examples with logit diff < 0:\t 125583 out of 9313920\n",
      "% examples with logit diff < 0:\t 1.348%\n"
     ]
    }
   ],
   "source": [
    "print_num_incorrect(small_df)"
   ]
  },
  {
   "cell_type": "markdown",
   "metadata": {
    "id": "JqUsZm9OV7dE"
   },
   "source": [
    "## Digging Down"
   ]
  },
  {
   "cell_type": "code",
   "execution_count": 8,
   "metadata": {
    "id": "RHLgY3sOV7dF"
   },
   "outputs": [
    {
     "name": "stdout",
     "output_type": "stream",
     "text": [
      "Starting  template\n"
     ]
    },
    {
     "name": "stderr",
     "output_type": "stream",
     "text": [
      "100%|██████████| 15/15 [01:33<00:00,  6.20s/it]\n"
     ]
    },
    {
     "name": "stdout",
     "output_type": "stream",
     "text": [
      "Starting  PLACE\n"
     ]
    },
    {
     "name": "stderr",
     "output_type": "stream",
     "text": [
      "100%|██████████| 8/8 [00:55<00:00,  6.90s/it]\n"
     ]
    },
    {
     "name": "stdout",
     "output_type": "stream",
     "text": [
      "Starting  OBJECT\n"
     ]
    },
    {
     "name": "stderr",
     "output_type": "stream",
     "text": [
      "100%|██████████| 8/8 [00:56<00:00,  7.08s/it]\n"
     ]
    },
    {
     "name": "stdout",
     "output_type": "stream",
     "text": [
      "Starting  S\n"
     ]
    },
    {
     "name": "stderr",
     "output_type": "stream",
     "text": [
      "100%|██████████| 99/99 [09:51<00:00,  5.98s/it]\n"
     ]
    },
    {
     "name": "stdout",
     "output_type": "stream",
     "text": [
      "Starting  IO\n"
     ]
    },
    {
     "name": "stderr",
     "output_type": "stream",
     "text": [
      "100%|██████████| 99/99 [09:52<00:00,  5.98s/it]\n"
     ]
    }
   ],
   "source": [
    "small_first_df = get_first_order_df(small_df)"
   ]
  },
  {
   "cell_type": "code",
   "execution_count": 11,
   "metadata": {
    "id": "rWwQdFI3V7dF"
   },
   "outputs": [],
   "source": [
    "small_first_df = compute_first_order_summary_stats(small_first_df, global_small_mean, global_small_std)"
   ]
  },
  {
   "cell_type": "code",
   "execution_count": 12,
   "metadata": {},
   "outputs": [
    {
     "data": {
      "text/plain": [
       "Index(['col', 'val', 'mean', 'std', 'alt_mean', 'alt_std', 'global_mean_diff',\n",
       "       'global_std_diff', 'relative_mean_diff', 'relative_std_diff'],\n",
       "      dtype='object')"
      ]
     },
     "execution_count": 12,
     "metadata": {},
     "output_type": "execute_result"
    }
   ],
   "source": [
    "small_first_df.columns"
   ]
  },
  {
   "cell_type": "code",
   "execution_count": 13,
   "metadata": {
    "colab": {
     "base_uri": "https://localhost:8080/",
     "height": 363
    },
    "id": "_HcREWB3V7dG",
    "outputId": "1af54c10-2c47-4908-f471-c975255f5dc6"
   },
   "outputs": [
    {
     "data": {
      "text/html": [
       "<div>\n",
       "<style scoped>\n",
       "    .dataframe tbody tr th:only-of-type {\n",
       "        vertical-align: middle;\n",
       "    }\n",
       "\n",
       "    .dataframe tbody tr th {\n",
       "        vertical-align: top;\n",
       "    }\n",
       "\n",
       "    .dataframe thead th {\n",
       "        text-align: right;\n",
       "    }\n",
       "</style>\n",
       "<table border=\"1\" class=\"dataframe\">\n",
       "  <thead>\n",
       "    <tr style=\"text-align: right;\">\n",
       "      <th></th>\n",
       "      <th>col</th>\n",
       "      <th>val</th>\n",
       "      <th>mean</th>\n",
       "      <th>std</th>\n",
       "      <th>alt_mean</th>\n",
       "      <th>alt_std</th>\n",
       "      <th>global_mean_diff</th>\n",
       "      <th>global_std_diff</th>\n",
       "      <th>relative_mean_diff</th>\n",
       "      <th>relative_std_diff</th>\n",
       "    </tr>\n",
       "  </thead>\n",
       "  <tbody>\n",
       "    <tr>\n",
       "      <th>55</th>\n",
       "      <td>S</td>\n",
       "      <td>Jeffrey</td>\n",
       "      <td>6.501107</td>\n",
       "      <td>1.692153</td>\n",
       "      <td>3.766147</td>\n",
       "      <td>1.970943</td>\n",
       "      <td>2.707334</td>\n",
       "      <td>0.295079</td>\n",
       "      <td>2.734960</td>\n",
       "      <td>0.278790</td>\n",
       "    </tr>\n",
       "    <tr>\n",
       "      <th>85</th>\n",
       "      <td>S</td>\n",
       "      <td>Bradley</td>\n",
       "      <td>6.236655</td>\n",
       "      <td>1.688759</td>\n",
       "      <td>3.768845</td>\n",
       "      <td>1.974531</td>\n",
       "      <td>2.442882</td>\n",
       "      <td>0.298473</td>\n",
       "      <td>2.467810</td>\n",
       "      <td>0.285772</td>\n",
       "    </tr>\n",
       "    <tr>\n",
       "      <th>66</th>\n",
       "      <td>S</td>\n",
       "      <td>Kenneth</td>\n",
       "      <td>5.900351</td>\n",
       "      <td>2.173847</td>\n",
       "      <td>3.772277</td>\n",
       "      <td>1.973683</td>\n",
       "      <td>2.106578</td>\n",
       "      <td>0.186615</td>\n",
       "      <td>2.128074</td>\n",
       "      <td>0.200164</td>\n",
       "    </tr>\n",
       "    <tr>\n",
       "      <th>43</th>\n",
       "      <td>S</td>\n",
       "      <td>Lisa</td>\n",
       "      <td>1.799079</td>\n",
       "      <td>1.359751</td>\n",
       "      <td>3.814127</td>\n",
       "      <td>1.982299</td>\n",
       "      <td>1.994694</td>\n",
       "      <td>0.627481</td>\n",
       "      <td>2.015048</td>\n",
       "      <td>0.622548</td>\n",
       "    </tr>\n",
       "    <tr>\n",
       "      <th>3</th>\n",
       "      <td>template</td>\n",
       "      <td>When [B] and [A] got a [OBJECT] at the [PLACE]...</td>\n",
       "      <td>5.769635</td>\n",
       "      <td>1.697381</td>\n",
       "      <td>3.652640</td>\n",
       "      <td>1.930440</td>\n",
       "      <td>1.975863</td>\n",
       "      <td>0.289851</td>\n",
       "      <td>2.116996</td>\n",
       "      <td>0.233059</td>\n",
       "    </tr>\n",
       "    <tr>\n",
       "      <th>86</th>\n",
       "      <td>S</td>\n",
       "      <td>Alexander</td>\n",
       "      <td>5.687984</td>\n",
       "      <td>1.680786</td>\n",
       "      <td>3.774444</td>\n",
       "      <td>1.980802</td>\n",
       "      <td>1.894212</td>\n",
       "      <td>0.306446</td>\n",
       "      <td>1.913540</td>\n",
       "      <td>0.300016</td>\n",
       "    </tr>\n",
       "    <tr>\n",
       "      <th>5</th>\n",
       "      <td>template</td>\n",
       "      <td>When [B] and [A] got a [OBJECT] at the [PLACE]...</td>\n",
       "      <td>5.681712</td>\n",
       "      <td>1.696412</td>\n",
       "      <td>3.658920</td>\n",
       "      <td>1.937223</td>\n",
       "      <td>1.887940</td>\n",
       "      <td>0.290820</td>\n",
       "      <td>2.022792</td>\n",
       "      <td>0.240811</td>\n",
       "    </tr>\n",
       "    <tr>\n",
       "      <th>199</th>\n",
       "      <td>IO</td>\n",
       "      <td>Bradley</td>\n",
       "      <td>1.975523</td>\n",
       "      <td>1.668847</td>\n",
       "      <td>3.812326</td>\n",
       "      <td>1.981638</td>\n",
       "      <td>1.818250</td>\n",
       "      <td>0.318386</td>\n",
       "      <td>1.836803</td>\n",
       "      <td>0.312792</td>\n",
       "    </tr>\n",
       "    <tr>\n",
       "      <th>72</th>\n",
       "      <td>S</td>\n",
       "      <td>Amanda</td>\n",
       "      <td>1.993331</td>\n",
       "      <td>1.423134</td>\n",
       "      <td>3.812145</td>\n",
       "      <td>1.983761</td>\n",
       "      <td>1.800442</td>\n",
       "      <td>0.564099</td>\n",
       "      <td>1.818814</td>\n",
       "      <td>0.560627</td>\n",
       "    </tr>\n",
       "    <tr>\n",
       "      <th>58</th>\n",
       "      <td>S</td>\n",
       "      <td>Benjamin</td>\n",
       "      <td>5.457250</td>\n",
       "      <td>1.992060</td>\n",
       "      <td>3.776798</td>\n",
       "      <td>1.979993</td>\n",
       "      <td>1.663478</td>\n",
       "      <td>0.004828</td>\n",
       "      <td>1.680452</td>\n",
       "      <td>0.012067</td>\n",
       "    </tr>\n",
       "  </tbody>\n",
       "</table>\n",
       "</div>"
      ],
      "text/plain": [
       "          col                                                val      mean  \\\n",
       "55          S                                            Jeffrey  6.501107   \n",
       "85          S                                            Bradley  6.236655   \n",
       "66          S                                            Kenneth  5.900351   \n",
       "43          S                                               Lisa  1.799079   \n",
       "3    template  When [B] and [A] got a [OBJECT] at the [PLACE]...  5.769635   \n",
       "86          S                                          Alexander  5.687984   \n",
       "5    template  When [B] and [A] got a [OBJECT] at the [PLACE]...  5.681712   \n",
       "199        IO                                            Bradley  1.975523   \n",
       "72          S                                             Amanda  1.993331   \n",
       "58          S                                           Benjamin  5.457250   \n",
       "\n",
       "          std  alt_mean   alt_std  global_mean_diff  global_std_diff  \\\n",
       "55   1.692153  3.766147  1.970943          2.707334         0.295079   \n",
       "85   1.688759  3.768845  1.974531          2.442882         0.298473   \n",
       "66   2.173847  3.772277  1.973683          2.106578         0.186615   \n",
       "43   1.359751  3.814127  1.982299          1.994694         0.627481   \n",
       "3    1.697381  3.652640  1.930440          1.975863         0.289851   \n",
       "86   1.680786  3.774444  1.980802          1.894212         0.306446   \n",
       "5    1.696412  3.658920  1.937223          1.887940         0.290820   \n",
       "199  1.668847  3.812326  1.981638          1.818250         0.318386   \n",
       "72   1.423134  3.812145  1.983761          1.800442         0.564099   \n",
       "58   1.992060  3.776798  1.979993          1.663478         0.004828   \n",
       "\n",
       "     relative_mean_diff  relative_std_diff  \n",
       "55             2.734960           0.278790  \n",
       "85             2.467810           0.285772  \n",
       "66             2.128074           0.200164  \n",
       "43             2.015048           0.622548  \n",
       "3              2.116996           0.233059  \n",
       "86             1.913540           0.300016  \n",
       "5              2.022792           0.240811  \n",
       "199            1.836803           0.312792  \n",
       "72             1.818814           0.560627  \n",
       "58             1.680452           0.012067  "
      ]
     },
     "execution_count": 13,
     "metadata": {},
     "output_type": "execute_result"
    }
   ],
   "source": [
    "small_first_df.sort_values(\"global_mean_diff\", ascending=False).head(10)"
   ]
  },
  {
   "cell_type": "code",
   "execution_count": 14,
   "metadata": {
    "id": "Mc5ZCiZUV7dG",
    "outputId": "d7d7c61d-06b8-427d-934f-755903878704"
   },
   "outputs": [
    {
     "data": {
      "text/html": [
       "<div>\n",
       "<style scoped>\n",
       "    .dataframe tbody tr th:only-of-type {\n",
       "        vertical-align: middle;\n",
       "    }\n",
       "\n",
       "    .dataframe tbody tr th {\n",
       "        vertical-align: top;\n",
       "    }\n",
       "\n",
       "    .dataframe thead th {\n",
       "        text-align: right;\n",
       "    }\n",
       "</style>\n",
       "<table border=\"1\" class=\"dataframe\">\n",
       "  <thead>\n",
       "    <tr style=\"text-align: right;\">\n",
       "      <th></th>\n",
       "      <th>col</th>\n",
       "      <th>val</th>\n",
       "      <th>mean</th>\n",
       "      <th>std</th>\n",
       "      <th>alt_mean</th>\n",
       "      <th>alt_std</th>\n",
       "      <th>global_mean_diff</th>\n",
       "      <th>global_std_diff</th>\n",
       "      <th>relative_mean_diff</th>\n",
       "      <th>relative_std_diff</th>\n",
       "    </tr>\n",
       "  </thead>\n",
       "  <tbody>\n",
       "    <tr>\n",
       "      <th>55</th>\n",
       "      <td>S</td>\n",
       "      <td>Jeffrey</td>\n",
       "      <td>6.501107</td>\n",
       "      <td>1.692153</td>\n",
       "      <td>3.766147</td>\n",
       "      <td>1.970943</td>\n",
       "      <td>2.707334</td>\n",
       "      <td>0.295079</td>\n",
       "      <td>2.734960</td>\n",
       "      <td>0.278790</td>\n",
       "    </tr>\n",
       "    <tr>\n",
       "      <th>85</th>\n",
       "      <td>S</td>\n",
       "      <td>Bradley</td>\n",
       "      <td>6.236655</td>\n",
       "      <td>1.688759</td>\n",
       "      <td>3.768845</td>\n",
       "      <td>1.974531</td>\n",
       "      <td>2.442882</td>\n",
       "      <td>0.298473</td>\n",
       "      <td>2.467810</td>\n",
       "      <td>0.285772</td>\n",
       "    </tr>\n",
       "    <tr>\n",
       "      <th>66</th>\n",
       "      <td>S</td>\n",
       "      <td>Kenneth</td>\n",
       "      <td>5.900351</td>\n",
       "      <td>2.173847</td>\n",
       "      <td>3.772277</td>\n",
       "      <td>1.973683</td>\n",
       "      <td>2.106578</td>\n",
       "      <td>0.186615</td>\n",
       "      <td>2.128074</td>\n",
       "      <td>0.200164</td>\n",
       "    </tr>\n",
       "    <tr>\n",
       "      <th>3</th>\n",
       "      <td>template</td>\n",
       "      <td>When [B] and [A] got a [OBJECT] at the [PLACE]...</td>\n",
       "      <td>5.769635</td>\n",
       "      <td>1.697381</td>\n",
       "      <td>3.652640</td>\n",
       "      <td>1.930440</td>\n",
       "      <td>1.975863</td>\n",
       "      <td>0.289851</td>\n",
       "      <td>2.116996</td>\n",
       "      <td>0.233059</td>\n",
       "    </tr>\n",
       "    <tr>\n",
       "      <th>5</th>\n",
       "      <td>template</td>\n",
       "      <td>When [B] and [A] got a [OBJECT] at the [PLACE]...</td>\n",
       "      <td>5.681712</td>\n",
       "      <td>1.696412</td>\n",
       "      <td>3.658920</td>\n",
       "      <td>1.937223</td>\n",
       "      <td>1.887940</td>\n",
       "      <td>0.290820</td>\n",
       "      <td>2.022792</td>\n",
       "      <td>0.240811</td>\n",
       "    </tr>\n",
       "    <tr>\n",
       "      <th>43</th>\n",
       "      <td>S</td>\n",
       "      <td>Lisa</td>\n",
       "      <td>1.799079</td>\n",
       "      <td>1.359751</td>\n",
       "      <td>3.814127</td>\n",
       "      <td>1.982299</td>\n",
       "      <td>1.994694</td>\n",
       "      <td>0.627481</td>\n",
       "      <td>2.015048</td>\n",
       "      <td>0.622548</td>\n",
       "    </tr>\n",
       "    <tr>\n",
       "      <th>86</th>\n",
       "      <td>S</td>\n",
       "      <td>Alexander</td>\n",
       "      <td>5.687984</td>\n",
       "      <td>1.680786</td>\n",
       "      <td>3.774444</td>\n",
       "      <td>1.980802</td>\n",
       "      <td>1.894212</td>\n",
       "      <td>0.306446</td>\n",
       "      <td>1.913540</td>\n",
       "      <td>0.300016</td>\n",
       "    </tr>\n",
       "    <tr>\n",
       "      <th>199</th>\n",
       "      <td>IO</td>\n",
       "      <td>Bradley</td>\n",
       "      <td>1.975523</td>\n",
       "      <td>1.668847</td>\n",
       "      <td>3.812326</td>\n",
       "      <td>1.981638</td>\n",
       "      <td>1.818250</td>\n",
       "      <td>0.318386</td>\n",
       "      <td>1.836803</td>\n",
       "      <td>0.312792</td>\n",
       "    </tr>\n",
       "    <tr>\n",
       "      <th>72</th>\n",
       "      <td>S</td>\n",
       "      <td>Amanda</td>\n",
       "      <td>1.993331</td>\n",
       "      <td>1.423134</td>\n",
       "      <td>3.812145</td>\n",
       "      <td>1.983761</td>\n",
       "      <td>1.800442</td>\n",
       "      <td>0.564099</td>\n",
       "      <td>1.818814</td>\n",
       "      <td>0.560627</td>\n",
       "    </tr>\n",
       "    <tr>\n",
       "      <th>58</th>\n",
       "      <td>S</td>\n",
       "      <td>Benjamin</td>\n",
       "      <td>5.457250</td>\n",
       "      <td>1.992060</td>\n",
       "      <td>3.776798</td>\n",
       "      <td>1.979993</td>\n",
       "      <td>1.663478</td>\n",
       "      <td>0.004828</td>\n",
       "      <td>1.680452</td>\n",
       "      <td>0.012067</td>\n",
       "    </tr>\n",
       "  </tbody>\n",
       "</table>\n",
       "</div>"
      ],
      "text/plain": [
       "          col                                                val      mean  \\\n",
       "55          S                                            Jeffrey  6.501107   \n",
       "85          S                                            Bradley  6.236655   \n",
       "66          S                                            Kenneth  5.900351   \n",
       "3    template  When [B] and [A] got a [OBJECT] at the [PLACE]...  5.769635   \n",
       "5    template  When [B] and [A] got a [OBJECT] at the [PLACE]...  5.681712   \n",
       "43          S                                               Lisa  1.799079   \n",
       "86          S                                          Alexander  5.687984   \n",
       "199        IO                                            Bradley  1.975523   \n",
       "72          S                                             Amanda  1.993331   \n",
       "58          S                                           Benjamin  5.457250   \n",
       "\n",
       "          std  alt_mean   alt_std  global_mean_diff  global_std_diff  \\\n",
       "55   1.692153  3.766147  1.970943          2.707334         0.295079   \n",
       "85   1.688759  3.768845  1.974531          2.442882         0.298473   \n",
       "66   2.173847  3.772277  1.973683          2.106578         0.186615   \n",
       "3    1.697381  3.652640  1.930440          1.975863         0.289851   \n",
       "5    1.696412  3.658920  1.937223          1.887940         0.290820   \n",
       "43   1.359751  3.814127  1.982299          1.994694         0.627481   \n",
       "86   1.680786  3.774444  1.980802          1.894212         0.306446   \n",
       "199  1.668847  3.812326  1.981638          1.818250         0.318386   \n",
       "72   1.423134  3.812145  1.983761          1.800442         0.564099   \n",
       "58   1.992060  3.776798  1.979993          1.663478         0.004828   \n",
       "\n",
       "     relative_mean_diff  relative_std_diff  \n",
       "55             2.734960           0.278790  \n",
       "85             2.467810           0.285772  \n",
       "66             2.128074           0.200164  \n",
       "3              2.116996           0.233059  \n",
       "5              2.022792           0.240811  \n",
       "43             2.015048           0.622548  \n",
       "86             1.913540           0.300016  \n",
       "199            1.836803           0.312792  \n",
       "72             1.818814           0.560627  \n",
       "58             1.680452           0.012067  "
      ]
     },
     "execution_count": 14,
     "metadata": {},
     "output_type": "execute_result"
    }
   ],
   "source": [
    "small_first_df.sort_values(\"relative_mean_diff\", ascending=False).head(10)"
   ]
  },
  {
   "cell_type": "code",
   "execution_count": 17,
   "metadata": {
    "colab": {
     "base_uri": "https://localhost:8080/",
     "height": 363
    },
    "id": "MdoiRB1fV7dH",
    "outputId": "13b99ba9-43fd-4f22-fa80-8b92ae6b404e"
   },
   "outputs": [
    {
     "data": {
      "text/html": [
       "<div>\n",
       "<style scoped>\n",
       "    .dataframe tbody tr th:only-of-type {\n",
       "        vertical-align: middle;\n",
       "    }\n",
       "\n",
       "    .dataframe tbody tr th {\n",
       "        vertical-align: top;\n",
       "    }\n",
       "\n",
       "    .dataframe thead th {\n",
       "        text-align: right;\n",
       "    }\n",
       "</style>\n",
       "<table border=\"1\" class=\"dataframe\">\n",
       "  <thead>\n",
       "    <tr style=\"text-align: right;\">\n",
       "      <th></th>\n",
       "      <th>col</th>\n",
       "      <th>val</th>\n",
       "      <th>mean</th>\n",
       "      <th>std</th>\n",
       "      <th>alt_mean</th>\n",
       "      <th>alt_std</th>\n",
       "      <th>global_mean_diff</th>\n",
       "      <th>global_std_diff</th>\n",
       "      <th>relative_mean_diff</th>\n",
       "      <th>relative_std_diff</th>\n",
       "    </tr>\n",
       "  </thead>\n",
       "  <tbody>\n",
       "    <tr>\n",
       "      <th>43</th>\n",
       "      <td>S</td>\n",
       "      <td>Lisa</td>\n",
       "      <td>1.799079</td>\n",
       "      <td>1.359751</td>\n",
       "      <td>3.814127</td>\n",
       "      <td>1.982299</td>\n",
       "      <td>1.994694</td>\n",
       "      <td>0.627481</td>\n",
       "      <td>2.015048</td>\n",
       "      <td>0.622548</td>\n",
       "    </tr>\n",
       "    <tr>\n",
       "      <th>199</th>\n",
       "      <td>IO</td>\n",
       "      <td>Bradley</td>\n",
       "      <td>1.975523</td>\n",
       "      <td>1.668847</td>\n",
       "      <td>3.812326</td>\n",
       "      <td>1.981638</td>\n",
       "      <td>1.818250</td>\n",
       "      <td>0.318386</td>\n",
       "      <td>1.836803</td>\n",
       "      <td>0.312792</td>\n",
       "    </tr>\n",
       "    <tr>\n",
       "      <th>72</th>\n",
       "      <td>S</td>\n",
       "      <td>Amanda</td>\n",
       "      <td>1.993331</td>\n",
       "      <td>1.423134</td>\n",
       "      <td>3.812145</td>\n",
       "      <td>1.983761</td>\n",
       "      <td>1.800442</td>\n",
       "      <td>0.564099</td>\n",
       "      <td>1.818814</td>\n",
       "      <td>0.560627</td>\n",
       "    </tr>\n",
       "    <tr>\n",
       "      <th>48</th>\n",
       "      <td>S</td>\n",
       "      <td>Shannon</td>\n",
       "      <td>2.218303</td>\n",
       "      <td>2.007182</td>\n",
       "      <td>3.809849</td>\n",
       "      <td>1.980579</td>\n",
       "      <td>1.575470</td>\n",
       "      <td>0.019950</td>\n",
       "      <td>1.591546</td>\n",
       "      <td>0.026603</td>\n",
       "    </tr>\n",
       "    <tr>\n",
       "      <th>75</th>\n",
       "      <td>S</td>\n",
       "      <td>Vanessa</td>\n",
       "      <td>2.315721</td>\n",
       "      <td>1.543558</td>\n",
       "      <td>3.808855</td>\n",
       "      <td>1.985587</td>\n",
       "      <td>1.478052</td>\n",
       "      <td>0.443674</td>\n",
       "      <td>1.493134</td>\n",
       "      <td>0.442030</td>\n",
       "    </tr>\n",
       "    <tr>\n",
       "      <th>10</th>\n",
       "      <td>template</td>\n",
       "      <td>Then, [B] and [A] had a long argument, and aft...</td>\n",
       "      <td>2.348365</td>\n",
       "      <td>1.598096</td>\n",
       "      <td>3.897016</td>\n",
       "      <td>1.972019</td>\n",
       "      <td>1.445408</td>\n",
       "      <td>0.389136</td>\n",
       "      <td>1.548651</td>\n",
       "      <td>0.373923</td>\n",
       "    </tr>\n",
       "    <tr>\n",
       "      <th>44</th>\n",
       "      <td>S</td>\n",
       "      <td>Mary</td>\n",
       "      <td>2.370384</td>\n",
       "      <td>1.602570</td>\n",
       "      <td>3.808297</td>\n",
       "      <td>1.985522</td>\n",
       "      <td>1.423388</td>\n",
       "      <td>0.384663</td>\n",
       "      <td>1.437913</td>\n",
       "      <td>0.382952</td>\n",
       "    </tr>\n",
       "    <tr>\n",
       "      <th>185</th>\n",
       "      <td>IO</td>\n",
       "      <td>David</td>\n",
       "      <td>2.377378</td>\n",
       "      <td>1.413634</td>\n",
       "      <td>3.808226</td>\n",
       "      <td>1.987037</td>\n",
       "      <td>1.416395</td>\n",
       "      <td>0.573598</td>\n",
       "      <td>1.430848</td>\n",
       "      <td>0.573403</td>\n",
       "    </tr>\n",
       "    <tr>\n",
       "      <th>82</th>\n",
       "      <td>S</td>\n",
       "      <td>Amy</td>\n",
       "      <td>2.383882</td>\n",
       "      <td>1.332780</td>\n",
       "      <td>3.808159</td>\n",
       "      <td>1.987655</td>\n",
       "      <td>1.409891</td>\n",
       "      <td>0.654453</td>\n",
       "      <td>1.424278</td>\n",
       "      <td>0.654875</td>\n",
       "    </tr>\n",
       "    <tr>\n",
       "      <th>6</th>\n",
       "      <td>template</td>\n",
       "      <td>Then, [B] and [A] had a long argument. Afterwa...</td>\n",
       "      <td>2.405721</td>\n",
       "      <td>1.682761</td>\n",
       "      <td>3.892919</td>\n",
       "      <td>1.970141</td>\n",
       "      <td>1.388052</td>\n",
       "      <td>0.304472</td>\n",
       "      <td>1.487198</td>\n",
       "      <td>0.287381</td>\n",
       "    </tr>\n",
       "  </tbody>\n",
       "</table>\n",
       "</div>"
      ],
      "text/plain": [
       "          col                                                val      mean  \\\n",
       "43          S                                               Lisa  1.799079   \n",
       "199        IO                                            Bradley  1.975523   \n",
       "72          S                                             Amanda  1.993331   \n",
       "48          S                                            Shannon  2.218303   \n",
       "75          S                                            Vanessa  2.315721   \n",
       "10   template  Then, [B] and [A] had a long argument, and aft...  2.348365   \n",
       "44          S                                               Mary  2.370384   \n",
       "185        IO                                              David  2.377378   \n",
       "82          S                                                Amy  2.383882   \n",
       "6    template  Then, [B] and [A] had a long argument. Afterwa...  2.405721   \n",
       "\n",
       "          std  alt_mean   alt_std  global_mean_diff  global_std_diff  \\\n",
       "43   1.359751  3.814127  1.982299          1.994694         0.627481   \n",
       "199  1.668847  3.812326  1.981638          1.818250         0.318386   \n",
       "72   1.423134  3.812145  1.983761          1.800442         0.564099   \n",
       "48   2.007182  3.809849  1.980579          1.575470         0.019950   \n",
       "75   1.543558  3.808855  1.985587          1.478052         0.443674   \n",
       "10   1.598096  3.897016  1.972019          1.445408         0.389136   \n",
       "44   1.602570  3.808297  1.985522          1.423388         0.384663   \n",
       "185  1.413634  3.808226  1.987037          1.416395         0.573598   \n",
       "82   1.332780  3.808159  1.987655          1.409891         0.654453   \n",
       "6    1.682761  3.892919  1.970141          1.388052         0.304472   \n",
       "\n",
       "     relative_mean_diff  relative_std_diff  \n",
       "43             2.015048           0.622548  \n",
       "199            1.836803           0.312792  \n",
       "72             1.818814           0.560627  \n",
       "48             1.591546           0.026603  \n",
       "75             1.493134           0.442030  \n",
       "10             1.548651           0.373923  \n",
       "44             1.437913           0.382952  \n",
       "185            1.430848           0.573403  \n",
       "82             1.424278           0.654875  \n",
       "6              1.487198           0.287381  "
      ]
     },
     "execution_count": 17,
     "metadata": {},
     "output_type": "execute_result"
    }
   ],
   "source": [
    "small_first_df.sort_values(\"mean\", ascending=True).head(10)"
   ]
  },
  {
   "cell_type": "code",
   "execution_count": 18,
   "metadata": {
    "colab": {
     "base_uri": "https://localhost:8080/",
     "height": 430
    },
    "id": "fiTqmpNvV7dH",
    "outputId": "aaf4de10-e9da-4d1b-baa0-231a22f4937d"
   },
   "outputs": [
    {
     "data": {
      "image/png": "[encoded data removed]",
      "text/plain": [
       "<Figure size 640x480 with 1 Axes>"
      ]
     },
     "metadata": {},
     "output_type": "display_data"
    }
   ],
   "source": [
    "plot_against_alt(small_df, 'S', 'Lisa', label_prefix=\"\")"
   ]
  },
  {
   "cell_type": "code",
   "execution_count": 19,
   "metadata": {
    "id": "B2iBi3_xV7dH"
   },
   "outputs": [],
   "source": [
    "small_s_df = small_df[small_df[\"S\"] == \"Lisa\"]"
   ]
  },
  {
   "cell_type": "code",
   "execution_count": 20,
   "metadata": {
    "colab": {
     "base_uri": "https://localhost:8080/"
    },
    "id": "wOdvQU3SV7dH",
    "outputId": "4f7633a6-4140-43b8-ac90-899e0cfc4290"
   },
   "outputs": [
    {
     "name": "stdout",
     "output_type": "stream",
     "text": [
      "Starting  template\n"
     ]
    },
    {
     "name": "stderr",
     "output_type": "stream",
     "text": [
      "100%|██████████| 15/15 [00:01<00:00, 13.24it/s]\n"
     ]
    },
    {
     "name": "stdout",
     "output_type": "stream",
     "text": [
      "Starting  PLACE\n"
     ]
    },
    {
     "name": "stderr",
     "output_type": "stream",
     "text": [
      "100%|██████████| 8/8 [00:00<00:00, 13.16it/s]\n"
     ]
    },
    {
     "name": "stdout",
     "output_type": "stream",
     "text": [
      "Starting  OBJECT\n"
     ]
    },
    {
     "name": "stderr",
     "output_type": "stream",
     "text": [
      "100%|██████████| 8/8 [00:00<00:00, 13.29it/s]\n"
     ]
    },
    {
     "name": "stdout",
     "output_type": "stream",
     "text": [
      "Starting  S\n"
     ]
    },
    {
     "name": "stderr",
     "output_type": "stream",
     "text": [
      "100%|██████████| 1/1 [00:00<00:00, 13.11it/s]\n"
     ]
    },
    {
     "name": "stdout",
     "output_type": "stream",
     "text": [
      "Starting  IO\n"
     ]
    },
    {
     "name": "stderr",
     "output_type": "stream",
     "text": [
      "100%|██████████| 98/98 [00:06<00:00, 14.22it/s]\n"
     ]
    }
   ],
   "source": [
    "small_s_second_df = get_first_order_df(small_s_df)"
   ]
  },
  {
   "cell_type": "code",
   "execution_count": 21,
   "metadata": {
    "colab": {
     "base_uri": "https://localhost:8080/",
     "height": 363
    },
    "id": "pRP3fikcV7dI",
    "outputId": "b4708bb8-d3c5-42c6-bd28-5c9d4f67fc80"
   },
   "outputs": [
    {
     "data": {
      "text/html": [
       "<div>\n",
       "<style scoped>\n",
       "    .dataframe tbody tr th:only-of-type {\n",
       "        vertical-align: middle;\n",
       "    }\n",
       "\n",
       "    .dataframe tbody tr th {\n",
       "        vertical-align: top;\n",
       "    }\n",
       "\n",
       "    .dataframe thead th {\n",
       "        text-align: right;\n",
       "    }\n",
       "</style>\n",
       "<table border=\"1\" class=\"dataframe\">\n",
       "  <thead>\n",
       "    <tr style=\"text-align: right;\">\n",
       "      <th></th>\n",
       "      <th>col</th>\n",
       "      <th>val</th>\n",
       "      <th>mean</th>\n",
       "      <th>std</th>\n",
       "      <th>alt_mean</th>\n",
       "      <th>alt_std</th>\n",
       "    </tr>\n",
       "  </thead>\n",
       "  <tbody>\n",
       "    <tr>\n",
       "      <th>106</th>\n",
       "      <td>IO</td>\n",
       "      <td>Katie</td>\n",
       "      <td>0.017770</td>\n",
       "      <td>1.187264</td>\n",
       "      <td>1.817443</td>\n",
       "      <td>1.349228</td>\n",
       "    </tr>\n",
       "    <tr>\n",
       "      <th>44</th>\n",
       "      <td>IO</td>\n",
       "      <td>Alicia</td>\n",
       "      <td>0.196236</td>\n",
       "      <td>1.065318</td>\n",
       "      <td>1.815603</td>\n",
       "      <td>1.352604</td>\n",
       "    </tr>\n",
       "    <tr>\n",
       "      <th>102</th>\n",
       "      <td>IO</td>\n",
       "      <td>Michelle</td>\n",
       "      <td>0.206026</td>\n",
       "      <td>0.938098</td>\n",
       "      <td>1.815502</td>\n",
       "      <td>1.353694</td>\n",
       "    </tr>\n",
       "    <tr>\n",
       "      <th>74</th>\n",
       "      <td>IO</td>\n",
       "      <td>Samantha</td>\n",
       "      <td>0.232368</td>\n",
       "      <td>1.106246</td>\n",
       "      <td>1.815231</td>\n",
       "      <td>1.352706</td>\n",
       "    </tr>\n",
       "    <tr>\n",
       "      <th>90</th>\n",
       "      <td>IO</td>\n",
       "      <td>Lindsay</td>\n",
       "      <td>0.275709</td>\n",
       "      <td>0.938980</td>\n",
       "      <td>1.814784</td>\n",
       "      <td>1.354523</td>\n",
       "    </tr>\n",
       "    <tr>\n",
       "      <th>39</th>\n",
       "      <td>IO</td>\n",
       "      <td>Sara</td>\n",
       "      <td>0.385149</td>\n",
       "      <td>1.315619</td>\n",
       "      <td>1.813656</td>\n",
       "      <td>1.352529</td>\n",
       "    </tr>\n",
       "    <tr>\n",
       "      <th>36</th>\n",
       "      <td>IO</td>\n",
       "      <td>Laura</td>\n",
       "      <td>0.583636</td>\n",
       "      <td>0.955124</td>\n",
       "      <td>1.811610</td>\n",
       "      <td>1.357646</td>\n",
       "    </tr>\n",
       "    <tr>\n",
       "      <th>77</th>\n",
       "      <td>IO</td>\n",
       "      <td>Stephanie</td>\n",
       "      <td>0.594710</td>\n",
       "      <td>1.121147</td>\n",
       "      <td>1.811495</td>\n",
       "      <td>1.356440</td>\n",
       "    </tr>\n",
       "    <tr>\n",
       "      <th>100</th>\n",
       "      <td>IO</td>\n",
       "      <td>Kristen</td>\n",
       "      <td>0.614060</td>\n",
       "      <td>1.037480</td>\n",
       "      <td>1.811296</td>\n",
       "      <td>1.357303</td>\n",
       "    </tr>\n",
       "    <tr>\n",
       "      <th>75</th>\n",
       "      <td>IO</td>\n",
       "      <td>Christina</td>\n",
       "      <td>0.652787</td>\n",
       "      <td>1.077171</td>\n",
       "      <td>1.810897</td>\n",
       "      <td>1.357331</td>\n",
       "    </tr>\n",
       "  </tbody>\n",
       "</table>\n",
       "</div>"
      ],
      "text/plain": [
       "    col        val      mean       std  alt_mean   alt_std\n",
       "106  IO      Katie  0.017770  1.187264  1.817443  1.349228\n",
       "44   IO     Alicia  0.196236  1.065318  1.815603  1.352604\n",
       "102  IO   Michelle  0.206026  0.938098  1.815502  1.353694\n",
       "74   IO   Samantha  0.232368  1.106246  1.815231  1.352706\n",
       "90   IO    Lindsay  0.275709  0.938980  1.814784  1.354523\n",
       "39   IO       Sara  0.385149  1.315619  1.813656  1.352529\n",
       "36   IO      Laura  0.583636  0.955124  1.811610  1.357646\n",
       "77   IO  Stephanie  0.594710  1.121147  1.811495  1.356440\n",
       "100  IO    Kristen  0.614060  1.037480  1.811296  1.357303\n",
       "75   IO  Christina  0.652787  1.077171  1.810897  1.357331"
      ]
     },
     "execution_count": 21,
     "metadata": {},
     "output_type": "execute_result"
    }
   ],
   "source": [
    "small_s_second_df.sort_values(\"mean\", ascending=True).head(10)"
   ]
  },
  {
   "cell_type": "code",
   "execution_count": 23,
   "metadata": {
    "colab": {
     "base_uri": "https://localhost:8080/",
     "height": 430
    },
    "id": "Wd7kI1nwV7dI",
    "outputId": "806736f6-da3c-4b6a-fb61-50be65a930b1"
   },
   "outputs": [
    {
     "data": {
      "image/png": "[encoded data removed]",
      "text/plain": [
       "<Figure size 640x480 with 1 Axes>"
      ]
     },
     "metadata": {},
     "output_type": "display_data"
    }
   ],
   "source": [
    "plot_against_alt(small_s_df, \"IO\", \"Katie\", label_prefix=\"S: Lisa, \")"
   ]
  },
  {
   "cell_type": "code",
   "execution_count": 24,
   "metadata": {
    "colab": {
     "base_uri": "https://localhost:8080/",
     "height": 430
    },
    "id": "7ay6fCMlV7dJ",
    "outputId": "37eada62-bb7c-4450-fd72-b6edb4e2bd26"
   },
   "outputs": [
    {
     "data": {
      "image/png": "[encoded data removed]",
      "text/plain": [
       "<Figure size 640x480 with 1 Axes>"
      ]
     },
     "metadata": {},
     "output_type": "display_data"
    }
   ],
   "source": [
    "plot_against_alt(small_s_df, \"IO\", \"Alicia\", label_prefix=\"S: Lisa, \")"
   ]
  },
  {
   "cell_type": "code",
   "execution_count": 25,
   "metadata": {
    "colab": {
     "base_uri": "https://localhost:8080/",
     "height": 383,
     "referenced_widgets": [
      "0d1520a4ae6a4ecbbe55946f179c2358",
      "d9dad19e34504379bc781c1d34c9e060",
      "12727b91c25645a2903d6d690e5814fb",
      "b7493ea4be9948be8c107b9a2008b6b5",
      "94d1b05b3122447eb9334481fea6d22f",
      "49b9573bfb1d4a58bd941c5a806692db",
      "92d05c13a1a94c23bdc8b4e62626e5d8",
      "6d41ca0ece514ab3a5657e79dff70372",
      "5be0c03facb5469c8423e4fefff0973a",
      "01219147f5194b97acf8f22c244d84d5",
      "58287b4223c14e5494e30ea9edbb32b9",
      "2affa4136f8a4a17b48c4a0b093738a0",
      "f50385a43c91490dbec0fbe5946e1665",
      "9832fd351d6a4c95993f311b7630a7d1",
      "ecfcbac7e0104e15af39a6eecc98ace8",
      "2f4f36681e5944dea3745c9e6feba41c",
      "2327a26ac81c45fc8f25883253b282b9",
      "3158048f645e41e893e6c93b7735d2b7",
      "2eba9e5a11054922a4fff5d5219f35cf",
      "443791bf350049f99e5849fa533ea36d",
      "15cb651f90f7465496fb0bf1f278c2ff",
      "1a663f510bd14b34b413fcd0f60a739b",
      "89ee3fe5787e4f1ea70e20c8b1c9b679",
      "d5d6122a459c474c8e3d89a1cd1bc39a",
      "86ab73cf21cb46a2b05cca5ca32376ba",
      "13fdc62402754ea5b47c5d3e197af33c",
      "d789fac4c6de4945bddefb16ee2d789b",
      "0b946e60424a4fb7970dfc9cf7bbee31",
      "427234d549584d97b531ecd1f785b296",
      "72765e3890a9425bbfe6b09b4a6a6b28",
      "a79318aa1fed4446bd3b2c8d4fefbec3",
      "01927bddad8d45aeb708bf48ebfa31ec",
      "3a8a67f5378546c98c442c6811b71aa3",
      "37577bc46d584e8b841306e592691456",
      "2bd60595d1534e78883b51330481e27a",
      "79d9b3f8561e464593d400957751fae3",
      "b2aaed5decce41fab8e865acae5eb7ad",
      "dd084db36346443ca3fa44dce26a92c5",
      "567d7d83b83c4b9cbbe42b4f25fe1e31",
      "d66333e2241e43f78704df1dd40a6d53",
      "878adf93c100479e9eadb453ebafd6dc",
      "2a477e91ad3e4046b9bbd97447842073",
      "8aabdd2ad4084c1389c50cd33f8879bd",
      "92cf0ad0851141d78fc624f60ff67b28",
      "050e2b7691734ff9b59564028aa634ec",
      "ccd93477ed9142e9a00c0c982c216db4",
      "15fbfe958b594db2b81899d8f14b1a05",
      "4df2161f02644c918715ecb074bf129e",
      "a8644cf3e5d34601b633351a4e8cf08b",
      "3e90f9009391400b8d1e2a711ccf2048",
      "8c25b219af4c4d20bd3fac43eee8a407",
      "5bbf3e5caa374a719234fc5dafc37e4a",
      "2ea36bcf869f4e86a14d9d9ded3d9ab2",
      "70929d39f88646d2be3d11a3ad999acf",
      "c5c10a2389d64eeb85dc6bb148453422",
      "60bd166bec4d45a5b597eda029df4a01",
      "b577baf2fdc24aecbec700d7e442bec5",
      "e3974f7ff8e3488e8e9a8d74d0a047d5",
      "8019b5d2bc7e41a3914bfe14fc2138a7",
      "ce9481984c5645ef97f79aff54720adc",
      "4fdb641c6a9a45e095af66e9e58e95aa",
      "99ebbd7fd0a34aab8a361c6ce396a4b5",
      "6192767131b04a70940e83a371241aff",
      "9d4b9ee84b6b49f596c69f4a066b64a7",
      "9c201b2ed09242daa66f8da592b7638a",
      "bd681eacf3364022ba72c10c4cb720e6",
      "7a9d9aef132d4f7da41e5071492d1497",
      "701418d5e0ee4a258f5bf68f6e3a1ddc",
      "658ec41eccbb4e549d5245ed821da0f8",
      "a3a3addc00574c6e8bb13acee34a0355",
      "ce6626630fd043c1bb48ddaebfb057b6",
      "36621227d22c454e86e9d025e3f1c617",
      "9afa1b365984432ebf012a8a7c9c697d",
      "3b85ca6793a743d2a02688a41336efd1",
      "ae9a0b2e8cfc401987cb537ebe0f7f73",
      "d5ae630ee3504b5a87e8cd53af698efe",
      "5e43cb942db34cb185c59fd4fc8c6f1d"
     ]
    },
    "id": "XORGDk78V7dJ",
    "outputId": "588c585b-94b2-40c6-d47a-e5c5371a5773"
   },
   "outputs": [
    {
     "name": "stderr",
     "output_type": "stream",
     "text": [
      "/usr/local/lib/python3.10/dist-packages/transformers/tokenization_utils_base.py:1601: FutureWarning: `clean_up_tokenization_spaces` was not set. It will be set to `True` by default. This behavior will be depracted in transformers v4.45, and will be then set to `False` by default. For more details check this issue: https://github.com/huggingface/transformers/issues/31884\n",
      "  warnings.warn(\n"
     ]
    },
    {
     "name": "stdout",
     "output_type": "stream",
     "text": [
      "Loaded pretrained model gpt2 into HookedTransformer\n"
     ]
    }
   ],
   "source": [
    "model = HookedTransformer.from_pretrained(\"gpt2\")\n",
    "tokenizer = model.tokenizer"
   ]
  },
  {
   "cell_type": "code",
   "execution_count": 26,
   "metadata": {
    "colab": {
     "base_uri": "https://localhost:8080/",
     "height": 35
    },
    "id": "-t2zxDY1V7dJ",
    "outputId": "5b86b522-61f5-4484-d933-16e49434782e"
   },
   "outputs": [
    {
     "data": {
      "text/plain": [
       "'Then, Lisa and Alicia were working at the store. Lisa decided to give a computer to'"
      ]
     },
     "execution_count": 26,
     "metadata": {},
     "output_type": "execute_result"
    }
   ],
   "source": [
    "small_s_io_df = small_s_df[small_s_df[\"IO\"] == \"Alicia\"]\n",
    "toks = small_s_io_df.iloc[0]['prompt_toks'][1:-1].split(', ')\n",
    "toks = [int(t) for t in toks]\n",
    "prompt = tokenizer.decode(toks)\n",
    "prompt"
   ]
  },
  {
   "cell_type": "code",
   "execution_count": 27,
   "metadata": {
    "colab": {
     "base_uri": "https://localhost:8080/",
     "height": 276
    },
    "id": "C7YzfCS_V7dK",
    "outputId": "01bfac51-5adf-4353-85ee-6aa1a2f11feb"
   },
   "outputs": [
    {
     "name": "stdout",
     "output_type": "stream",
     "text": [
      "Tokenized prompt: ['<|endoftext|>', 'Then', ',', ' Lisa', ' and', ' Alicia', ' were', ' working', ' at', ' the', ' store', '.', ' Lisa', ' decided', ' to', ' give', ' a', ' computer', ' to']\n",
      "Tokenized answer: [' Alicia']\n"
     ]
    },
    {
     "data": {
      "text/html": [
       "<pre style=\"white-space:pre;overflow-x:auto;line-height:normal;font-family:Menlo,'DejaVu Sans Mono',consolas,'Courier New',monospace\">Performance on answer token:\n",
       "<span style=\"font-weight: bold\">Rank: </span><span style=\"color: #008080; text-decoration-color: #008080; font-weight: bold\">4</span><span style=\"font-weight: bold\">        Logit: </span><span style=\"color: #008080; text-decoration-color: #008080; font-weight: bold\">14.68</span><span style=\"font-weight: bold\"> Prob:  </span><span style=\"color: #008080; text-decoration-color: #008080; font-weight: bold\">7.43</span><span style=\"font-weight: bold\">% Token: | Alicia|</span>\n",
       "</pre>\n"
      ],
      "text/plain": [
       "Performance on answer token:\n",
       "\u001b[1mRank: \u001b[0m\u001b[1;36m4\u001b[0m\u001b[1m        Logit: \u001b[0m\u001b[1;36m14.68\u001b[0m\u001b[1m Prob:  \u001b[0m\u001b[1;36m7.43\u001b[0m\u001b[1m% Token: | Alicia|\u001b[0m\n"
      ]
     },
     "metadata": {},
     "output_type": "display_data"
    },
    {
     "name": "stdout",
     "output_type": "stream",
     "text": [
      "Top 0th token. Logit: 15.83 Prob: 23.56% Token: | her|\n",
      "Top 1th token. Logit: 15.25 Prob: 13.18% Token: | Lisa|\n",
      "Top 2th token. Logit: 15.12 Prob: 11.57% Token: | the|\n",
      "Top 3th token. Logit: 14.90 Prob:  9.28% Token: | them|\n",
      "Top 4th token. Logit: 14.68 Prob:  7.43% Token: | Alicia|\n",
      "Top 5th token. Logit: 13.75 Prob:  2.93% Token: | a|\n",
      "Top 6th token. Logit: 13.19 Prob:  1.68% Token: | one|\n",
      "Top 7th token. Logit: 13.05 Prob:  1.47% Token: | their|\n",
      "Top 8th token. Logit: 12.51 Prob:  0.85% Token: | him|\n",
      "Top 9th token. Logit: 12.30 Prob:  0.69% Token: | someone|\n"
     ]
    },
    {
     "data": {
      "text/html": [
       "<pre style=\"white-space:pre;overflow-x:auto;line-height:normal;font-family:Menlo,'DejaVu Sans Mono',consolas,'Courier New',monospace\"><span style=\"font-weight: bold\">Ranks of the answer tokens:</span> <span style=\"font-weight: bold\">[(</span><span style=\"color: #008000; text-decoration-color: #008000\">' Alicia'</span>, <span style=\"color: #008080; text-decoration-color: #008080; font-weight: bold\">4</span><span style=\"font-weight: bold\">)]</span>\n",
       "</pre>\n"
      ],
      "text/plain": [
       "\u001b[1mRanks of the answer tokens:\u001b[0m \u001b[1m[\u001b[0m\u001b[1m(\u001b[0m\u001b[32m' Alicia'\u001b[0m, \u001b[1;36m4\u001b[0m\u001b[1m)\u001b[0m\u001b[1m]\u001b[0m\n"
      ]
     },
     "metadata": {},
     "output_type": "display_data"
    }
   ],
   "source": [
    "test_prompt(prompt, \"Alicia\", model)"
   ]
  },
  {
   "cell_type": "markdown",
   "metadata": {},
   "source": [
    "# GPT-2 Medium"
   ]
  },
  {
   "cell_type": "code",
   "execution_count": 28,
   "metadata": {},
   "outputs": [],
   "source": [
    "med_df = pd.read_csv('results/medium_logits.csv')"
   ]
  },
  {
   "cell_type": "code",
   "execution_count": 29,
   "metadata": {},
   "outputs": [
    {
     "name": "stdout",
     "output_type": "stream",
     "text": [
      "Index(['template', 'PLACE', 'OBJECT', 'S', 'IO', 'text', 'prompt_toks',\n",
      "       'logit_diff'],\n",
      "      dtype='object')\n",
      "(9313920, 8)\n"
     ]
    }
   ],
   "source": [
    "print(med_df.columns)\n",
    "print(med_df.shape)"
   ]
  },
  {
   "cell_type": "markdown",
   "metadata": {},
   "source": [
    "## Global Statistics"
   ]
  },
  {
   "cell_type": "code",
   "execution_count": 30,
   "metadata": {},
   "outputs": [
    {
     "name": "stdout",
     "output_type": "stream",
     "text": [
      "Global mean: 4.179841006053221\n",
      "Global std: 1.4802102392905077\n"
     ]
    }
   ],
   "source": [
    "global_med_mean, global_med_std = print_mean_and_std(med_df)"
   ]
  },
  {
   "cell_type": "code",
   "execution_count": 31,
   "metadata": {},
   "outputs": [
    {
     "data": {
      "text/plain": [
       "(array([1.55343940e-06, 2.33015910e-06, 2.33015910e-06, 8.54391672e-06,\n",
       "        1.94179925e-05, 4.11661442e-05, 7.06814928e-05, 1.13401076e-04,\n",
       "        1.99616963e-04, 3.05250843e-04, 5.18072041e-04, 8.69926066e-04,\n",
       "        1.30100550e-03, 2.03422890e-03, 2.95231159e-03, 4.58109280e-03,\n",
       "        6.42968569e-03, 9.15985544e-03, 1.28943238e-02, 1.76059055e-02,\n",
       "        2.30980905e-02, 3.07992663e-02, 3.89975428e-02, 4.98956969e-02,\n",
       "        6.15472691e-02, 7.47173284e-02, 8.84567232e-02, 1.03941407e-01,\n",
       "        1.19290942e-01, 1.36631986e-01, 1.52790086e-01, 1.69653447e-01,\n",
       "        1.85347069e-01, 2.00081442e-01, 2.13763359e-01, 2.26381171e-01,\n",
       "        2.35935600e-01, 2.44663599e-01, 2.49223720e-01, 2.53818794e-01,\n",
       "        2.56124098e-01, 2.59530014e-01, 2.59027477e-01, 2.59518363e-01,\n",
       "        2.55362136e-01, 2.49586449e-01, 2.46958806e-01, 2.31202270e-01,\n",
       "        2.26771084e-01, 2.14029774e-01, 1.97947016e-01, 1.87685772e-01,\n",
       "        1.73025964e-01, 1.62708020e-01, 1.45370859e-01, 1.33524330e-01,\n",
       "        1.19952707e-01, 1.05010950e-01, 9.37158923e-02, 8.16503285e-02,\n",
       "        6.89866904e-02, 6.19884459e-02, 5.56977931e-02, 4.67406615e-02,\n",
       "        4.02379641e-02, 3.44016923e-02, 2.79898712e-02, 2.37264567e-02,\n",
       "        1.93247862e-02, 1.56408046e-02, 1.31420973e-02, 1.08694155e-02,\n",
       "        8.16099390e-03, 6.76056828e-03, 5.88054486e-03, 4.12049802e-03,\n",
       "        3.41756669e-03, 2.42957923e-03, 1.96277069e-03, 1.58450819e-03,\n",
       "        1.08274726e-03, 8.07788490e-04, 6.23705920e-04, 4.92440291e-04,\n",
       "        4.52827586e-04, 2.71851896e-04, 2.00393683e-04, 1.46800024e-04,\n",
       "        1.14177796e-04, 7.76719701e-05, 4.03894245e-05, 3.10687881e-05,\n",
       "        2.01947122e-05, 1.63111137e-05, 7.76719701e-06, 2.33015910e-06,\n",
       "        2.33015910e-06, 1.55343940e-06, 7.76719701e-07, 7.76719701e-07]),\n",
       " array([-1.77712345, -1.63889318, -1.5006629 , -1.36243262, -1.22420235,\n",
       "        -1.08597207, -0.94774179, -0.80951152, -0.67128124, -0.53305097,\n",
       "        -0.39482069, -0.25659041, -0.11836014,  0.01987014,  0.15810041,\n",
       "         0.29633069,  0.43456097,  0.57279124,  0.71102152,  0.84925179,\n",
       "         0.98748207,  1.12571235,  1.26394262,  1.4021729 ,  1.54040318,\n",
       "         1.67863345,  1.81686373,  1.955094  ,  2.09332428,  2.23155456,\n",
       "         2.36978483,  2.50801511,  2.64624538,  2.78447566,  2.92270594,\n",
       "         3.06093621,  3.19916649,  3.33739676,  3.47562704,  3.61385732,\n",
       "         3.75208759,  3.89031787,  4.02854815,  4.16677842,  4.3050087 ,\n",
       "         4.44323897,  4.58146925,  4.71969953,  4.8579298 ,  4.99616008,\n",
       "         5.13439035,  5.27262063,  5.41085091,  5.54908118,  5.68731146,\n",
       "         5.82554173,  5.96377201,  6.10200229,  6.24023256,  6.37846284,\n",
       "         6.51669312,  6.65492339,  6.79315367,  6.93138394,  7.06961422,\n",
       "         7.2078445 ,  7.34607477,  7.48430505,  7.62253532,  7.7607656 ,\n",
       "         7.89899588,  8.03722615,  8.17545643,  8.3136867 ,  8.45191698,\n",
       "         8.59014726,  8.72837753,  8.86660781,  9.00483809,  9.14306836,\n",
       "         9.28129864,  9.41952891,  9.55775919,  9.69598947,  9.83421974,\n",
       "         9.97245002, 10.11068029, 10.24891057, 10.38714085, 10.52537112,\n",
       "        10.6636014 , 10.80183167, 10.94006195, 11.07829223, 11.2165225 ,\n",
       "        11.35475278, 11.49298306, 11.63121333, 11.76944361, 11.90767388,\n",
       "        12.04590416]),\n",
       " <BarContainer object of 100 artists>)"
      ]
     },
     "execution_count": 31,
     "metadata": {},
     "output_type": "execute_result"
    },
    {
     "data": {
      "image/png": "[encoded data removed]",
      "text/plain": [
       "<Figure size 640x480 with 1 Axes>"
      ]
     },
     "metadata": {},
     "output_type": "display_data"
    }
   ],
   "source": [
    "# plot full histogram\n",
    "plt.hist(med_df['logit_diff'], bins=100,  density=True)"
   ]
  },
  {
   "cell_type": "code",
   "execution_count": 32,
   "metadata": {},
   "outputs": [
    {
     "name": "stdout",
     "output_type": "stream",
     "text": [
      "# examples with logit diff < 0:\t 4143 out of 9313920\n",
      "% examples with logit diff < 0:\t 0.044%\n"
     ]
    }
   ],
   "source": [
    "print_num_incorrect(med_df)"
   ]
  },
  {
   "cell_type": "markdown",
   "metadata": {},
   "source": [
    "## Digging Down"
   ]
  },
  {
   "cell_type": "code",
   "execution_count": null,
   "metadata": {},
   "outputs": [
    {
     "name": "stdout",
     "output_type": "stream",
     "text": [
      "Starting  template\n"
     ]
    },
    {
     "name": "stderr",
     "output_type": "stream",
     "text": [
      "100%|██████████| 15/15 [01:31<00:00,  6.07s/it]\n"
     ]
    },
    {
     "name": "stdout",
     "output_type": "stream",
     "text": [
      "Starting  PLACE\n"
     ]
    },
    {
     "name": "stderr",
     "output_type": "stream",
     "text": [
      "100%|██████████| 8/8 [00:50<00:00,  6.33s/it]\n"
     ]
    },
    {
     "name": "stdout",
     "output_type": "stream",
     "text": [
      "Starting  OBJECT\n"
     ]
    },
    {
     "name": "stderr",
     "output_type": "stream",
     "text": [
      "100%|██████████| 8/8 [00:49<00:00,  6.17s/it]\n"
     ]
    },
    {
     "name": "stdout",
     "output_type": "stream",
     "text": [
      "Starting  S\n"
     ]
    },
    {
     "name": "stderr",
     "output_type": "stream",
     "text": [
      "100%|██████████| 99/99 [09:38<00:00,  5.84s/it]\n"
     ]
    },
    {
     "name": "stdout",
     "output_type": "stream",
     "text": [
      "Starting  IO\n"
     ]
    },
    {
     "name": "stderr",
     "output_type": "stream",
     "text": [
      " 29%|██▉       | 29/99 [02:51<07:31,  6.46s/it]"
     ]
    }
   ],
   "source": [
    "med_first_df = get_first_order_df(med_df)\n",
    "med_first_df = compute_first_order_summary_stats(med_first_df, global_med_mean, global_med_std)"
   ]
  },
  {
   "cell_type": "code",
   "execution_count": null,
   "metadata": {},
   "outputs": [],
   "source": [
    "med_first_df.sort_values(\"global_mean_diff\", ascending=False).head(10)"
   ]
  },
  {
   "cell_type": "code",
   "execution_count": null,
   "metadata": {},
   "outputs": [],
   "source": []
  },
  {
   "cell_type": "markdown",
   "metadata": {},
   "source": [
    "# GPT-2 Large"
   ]
  },
  {
   "cell_type": "code",
   "execution_count": null,
   "metadata": {},
   "outputs": [],
   "source": [
    "large_df = pd.read_csv('results/large_logits.csv')"
   ]
  },
  {
   "cell_type": "code",
   "execution_count": null,
   "metadata": {},
   "outputs": [],
   "source": [
    "print(large_df.columns)\n",
    "print(large_df.shape)"
   ]
  },
  {
   "cell_type": "markdown",
   "metadata": {},
   "source": [
    "## Global Statistics"
   ]
  },
  {
   "cell_type": "code",
   "execution_count": null,
   "metadata": {},
   "outputs": [],
   "source": [
    "global_large_mean, global_large_std = print_mean_and_std(large_df)"
   ]
  },
  {
   "cell_type": "code",
   "execution_count": null,
   "metadata": {},
   "outputs": [],
   "source": [
    "# plot full histogram\n",
    "plt.hist(large_df['logit_diff'], bins=100,  density=True)"
   ]
  },
  {
   "cell_type": "code",
   "execution_count": null,
   "metadata": {},
   "outputs": [],
   "source": [
    "print_num_incorrect(large_df)"
   ]
  },
  {
   "cell_type": "code",
   "execution_count": null,
   "metadata": {},
   "outputs": [],
   "source": [
    "large_first_df = get_first_order_df(large_df)\n",
    "large_first_df = compute_first_order_summary_stats(large_first_df, global_large_mean, global_large_std)"
   ]
  },
  {
   "cell_type": "code",
   "execution_count": null,
   "metadata": {},
   "outputs": [],
   "source": [
    "large_first_df.sort_values(\"global_mean_diff\", ascending=False).head(10)"
   ]
  },
  {
   "cell_type": "code",
   "execution_count": null,
   "metadata": {},
   "outputs": [],
   "source": []
  }
 ],
 "metadata": {
  "colab": {
   "provenance": []
  },
  "kernelspec": {
   "display_name": "Python 3 (ipykernel)",
   "language": "python",
   "name": "python3"
  },
  "language_info": {
   "codemirror_mode": {
    "name": "ipython",
    "version": 3
   },
   "file_extension": ".py",
   "mimetype": "text/x-python",
   "name": "python",
   "nbconvert_exporter": "python",
   "pygments_lexer": "ipython3",
   "version": "3.10.12"
  },
  "widgets": {
   "application/vnd.jupyter.widget-state+json": {
    "01219147f5194b97acf8f22c244d84d5": {
     "model_module": "@jupyter-widgets/base",
     "model_module_version": "1.2.0",
     "model_name": "LayoutModel",
     "state": {
      "_model_module": "@jupyter-widgets/base",
      "_model_module_version": "1.2.0",
      "_model_name": "LayoutModel",
      "_view_count": null,
      "_view_module": "@jupyter-widgets/base",
      "_view_module_version": "1.2.0",
      "_view_name": "LayoutView",
      "align_content": null,
      "align_items": null,
      "align_self": null,
      "border": null,
      "bottom": null,
      "display": null,
      "flex": null,
      "flex_flow": null,
      "grid_area": null,
      "grid_auto_columns": null,
      "grid_auto_flow": null,
      "grid_auto_rows": null,
      "grid_column": null,
      "grid_gap": null,
      "grid_row": null,
      "grid_template_areas": null,
      "grid_template_columns": null,
      "grid_template_rows": null,
      "height": null,
      "justify_content": null,
      "justify_items": null,
      "left": null,
      "margin": null,
      "max_height": null,
      "max_width": null,
      "min_height": null,
      "min_width": null,
      "object_fit": null,
      "object_position": null,
      "order": null,
      "overflow": null,
      "overflow_x": null,
      "overflow_y": null,
      "padding": null,
      "right": null,
      "top": null,
      "visibility": null,
      "width": null
     }
    },
    "01927bddad8d45aeb708bf48ebfa31ec": {
     "model_module": "@jupyter-widgets/base",
     "model_module_version": "1.2.0",
     "model_name": "LayoutModel",
     "state": {
      "_model_module": "@jupyter-widgets/base",
      "_model_module_version": "1.2.0",
      "_model_name": "LayoutModel",
      "_view_count": null,
      "_view_module": "@jupyter-widgets/base",
      "_view_module_version": "1.2.0",
      "_view_name": "LayoutView",
      "align_content": null,
      "align_items": null,
      "align_self": null,
      "border": null,
      "bottom": null,
      "display": null,
      "flex": null,
      "flex_flow": null,
      "grid_area": null,
      "grid_auto_columns": null,
      "grid_auto_flow": null,
      "grid_auto_rows": null,
      "grid_column": null,
      "grid_gap": null,
      "grid_row": null,
      "grid_template_areas": null,
      "grid_template_columns": null,
      "grid_template_rows": null,
      "height": null,
      "justify_content": null,
      "justify_items": null,
      "left": null,
      "margin": null,
      "max_height": null,
      "max_width": null,
      "min_height": null,
      "min_width": null,
      "object_fit": null,
      "object_position": null,
      "order": null,
      "overflow": null,
      "overflow_x": null,
      "overflow_y": null,
      "padding": null,
      "right": null,
      "top": null,
      "visibility": null,
      "width": null
     }
    },
    "050e2b7691734ff9b59564028aa634ec": {
     "model_module": "@jupyter-widgets/controls",
     "model_module_version": "1.5.0",
     "model_name": "HBoxModel",
     "state": {
      "_dom_classes": [],
      "_model_module": "@jupyter-widgets/controls",
      "_model_module_version": "1.5.0",
      "_model_name": "HBoxModel",
      "_view_count": null,
      "_view_module": "@jupyter-widgets/controls",
      "_view_module_version": "1.5.0",
      "_view_name": "HBoxView",
      "box_style": "",
      "children": [
       "IPY_MODEL_ccd93477ed9142e9a00c0c982c216db4",
       "IPY_MODEL_15fbfe958b594db2b81899d8f14b1a05",
       "IPY_MODEL_4df2161f02644c918715ecb074bf129e"
      ],
      "layout": "IPY_MODEL_a8644cf3e5d34601b633351a4e8cf08b"
     }
    },
    "0b946e60424a4fb7970dfc9cf7bbee31": {
     "model_module": "@jupyter-widgets/base",
     "model_module_version": "1.2.0",
     "model_name": "LayoutModel",
     "state": {
      "_model_module": "@jupyter-widgets/base",
      "_model_module_version": "1.2.0",
      "_model_name": "LayoutModel",
      "_view_count": null,
      "_view_module": "@jupyter-widgets/base",
      "_view_module_version": "1.2.0",
      "_view_name": "LayoutView",
      "align_content": null,
      "align_items": null,
      "align_self": null,
      "border": null,
      "bottom": null,
      "display": null,
      "flex": null,
      "flex_flow": null,
      "grid_area": null,
      "grid_auto_columns": null,
      "grid_auto_flow": null,
      "grid_auto_rows": null,
      "grid_column": null,
      "grid_gap": null,
      "grid_row": null,
      "grid_template_areas": null,
      "grid_template_columns": null,
      "grid_template_rows": null,
      "height": null,
      "justify_content": null,
      "justify_items": null,
      "left": null,
      "margin": null,
      "max_height": null,
      "max_width": null,
      "min_height": null,
      "min_width": null,
      "object_fit": null,
      "object_position": null,
      "order": null,
      "overflow": null,
      "overflow_x": null,
      "overflow_y": null,
      "padding": null,
      "right": null,
      "top": null,
      "visibility": null,
      "width": null
     }
    },
    "0d1520a4ae6a4ecbbe55946f179c2358": {
     "model_module": "@jupyter-widgets/controls",
     "model_module_version": "1.5.0",
     "model_name": "HBoxModel",
     "state": {
      "_dom_classes": [],
      "_model_module": "@jupyter-widgets/controls",
      "_model_module_version": "1.5.0",
      "_model_name": "HBoxModel",
      "_view_count": null,
      "_view_module": "@jupyter-widgets/controls",
      "_view_module_version": "1.5.0",
      "_view_name": "HBoxView",
      "box_style": "",
      "children": [
       "IPY_MODEL_d9dad19e34504379bc781c1d34c9e060",
       "IPY_MODEL_12727b91c25645a2903d6d690e5814fb",
       "IPY_MODEL_b7493ea4be9948be8c107b9a2008b6b5"
      ],
      "layout": "IPY_MODEL_94d1b05b3122447eb9334481fea6d22f"
     }
    },
    "12727b91c25645a2903d6d690e5814fb": {
     "model_module": "@jupyter-widgets/controls",
     "model_module_version": "1.5.0",
     "model_name": "FloatProgressModel",
     "state": {
      "_dom_classes": [],
      "_model_module": "@jupyter-widgets/controls",
      "_model_module_version": "1.5.0",
      "_model_name": "FloatProgressModel",
      "_view_count": null,
      "_view_module": "@jupyter-widgets/controls",
      "_view_module_version": "1.5.0",
      "_view_name": "ProgressView",
      "bar_style": "success",
      "description": "",
      "description_tooltip": null,
      "layout": "IPY_MODEL_6d41ca0ece514ab3a5657e79dff70372",
      "max": 665,
      "min": 0,
      "orientation": "horizontal",
      "style": "IPY_MODEL_5be0c03facb5469c8423e4fefff0973a",
      "value": 665
     }
    },
    "13fdc62402754ea5b47c5d3e197af33c": {
     "model_module": "@jupyter-widgets/controls",
     "model_module_version": "1.5.0",
     "model_name": "HTMLModel",
     "state": {
      "_dom_classes": [],
      "_model_module": "@jupyter-widgets/controls",
      "_model_module_version": "1.5.0",
      "_model_name": "HTMLModel",
      "_view_count": null,
      "_view_module": "@jupyter-widgets/controls",
      "_view_module_version": "1.5.0",
      "_view_name": "HTMLView",
      "description": "",
      "description_tooltip": null,
      "layout": "IPY_MODEL_01927bddad8d45aeb708bf48ebfa31ec",
      "placeholder": "​",
      "style": "IPY_MODEL_3a8a67f5378546c98c442c6811b71aa3",
      "value": " 124/124 [00:00&lt;00:00, 5.13kB/s]"
     }
    },
    "15cb651f90f7465496fb0bf1f278c2ff": {
     "model_module": "@jupyter-widgets/base",
     "model_module_version": "1.2.0",
     "model_name": "LayoutModel",
     "state": {
      "_model_module": "@jupyter-widgets/base",
      "_model_module_version": "1.2.0",
      "_model_name": "LayoutModel",
      "_view_count": null,
      "_view_module": "@jupyter-widgets/base",
      "_view_module_version": "1.2.0",
      "_view_name": "LayoutView",
      "align_content": null,
      "align_items": null,
      "align_self": null,
      "border": null,
      "bottom": null,
      "display": null,
      "flex": null,
      "flex_flow": null,
      "grid_area": null,
      "grid_auto_columns": null,
      "grid_auto_flow": null,
      "grid_auto_rows": null,
      "grid_column": null,
      "grid_gap": null,
      "grid_row": null,
      "grid_template_areas": null,
      "grid_template_columns": null,
      "grid_template_rows": null,
      "height": null,
      "justify_content": null,
      "justify_items": null,
      "left": null,
      "margin": null,
      "max_height": null,
      "max_width": null,
      "min_height": null,
      "min_width": null,
      "object_fit": null,
      "object_position": null,
      "order": null,
      "overflow": null,
      "overflow_x": null,
      "overflow_y": null,
      "padding": null,
      "right": null,
      "top": null,
      "visibility": null,
      "width": null
     }
    },
    "15fbfe958b594db2b81899d8f14b1a05": {
     "model_module": "@jupyter-widgets/controls",
     "model_module_version": "1.5.0",
     "model_name": "FloatProgressModel",
     "state": {
      "_dom_classes": [],
      "_model_module": "@jupyter-widgets/controls",
      "_model_module_version": "1.5.0",
      "_model_name": "FloatProgressModel",
      "_view_count": null,
      "_view_module": "@jupyter-widgets/controls",
      "_view_module_version": "1.5.0",
      "_view_name": "ProgressView",
      "bar_style": "success",
      "description": "",
      "description_tooltip": null,
      "layout": "IPY_MODEL_5bbf3e5caa374a719234fc5dafc37e4a",
      "max": 1042301,
      "min": 0,
      "orientation": "horizontal",
      "style": "IPY_MODEL_2ea36bcf869f4e86a14d9d9ded3d9ab2",
      "value": 1042301
     }
    },
    "1a663f510bd14b34b413fcd0f60a739b": {
     "model_module": "@jupyter-widgets/controls",
     "model_module_version": "1.5.0",
     "model_name": "DescriptionStyleModel",
     "state": {
      "_model_module": "@jupyter-widgets/controls",
      "_model_module_version": "1.5.0",
      "_model_name": "DescriptionStyleModel",
      "_view_count": null,
      "_view_module": "@jupyter-widgets/base",
      "_view_module_version": "1.2.0",
      "_view_name": "StyleView",
      "description_width": ""
     }
    },
    "2327a26ac81c45fc8f25883253b282b9": {
     "model_module": "@jupyter-widgets/base",
     "model_module_version": "1.2.0",
     "model_name": "LayoutModel",
     "state": {
      "_model_module": "@jupyter-widgets/base",
      "_model_module_version": "1.2.0",
      "_model_name": "LayoutModel",
      "_view_count": null,
      "_view_module": "@jupyter-widgets/base",
      "_view_module_version": "1.2.0",
      "_view_name": "LayoutView",
      "align_content": null,
      "align_items": null,
      "align_self": null,
      "border": null,
      "bottom": null,
      "display": null,
      "flex": null,
      "flex_flow": null,
      "grid_area": null,
      "grid_auto_columns": null,
      "grid_auto_flow": null,
      "grid_auto_rows": null,
      "grid_column": null,
      "grid_gap": null,
      "grid_row": null,
      "grid_template_areas": null,
      "grid_template_columns": null,
      "grid_template_rows": null,
      "height": null,
      "justify_content": null,
      "justify_items": null,
      "left": null,
      "margin": null,
      "max_height": null,
      "max_width": null,
      "min_height": null,
      "min_width": null,
      "object_fit": null,
      "object_position": null,
      "order": null,
      "overflow": null,
      "overflow_x": null,
      "overflow_y": null,
      "padding": null,
      "right": null,
      "top": null,
      "visibility": null,
      "width": null
     }
    },
    "2a477e91ad3e4046b9bbd97447842073": {
     "model_module": "@jupyter-widgets/controls",
     "model_module_version": "1.5.0",
     "model_name": "ProgressStyleModel",
     "state": {
      "_model_module": "@jupyter-widgets/controls",
      "_model_module_version": "1.5.0",
      "_model_name": "ProgressStyleModel",
      "_view_count": null,
      "_view_module": "@jupyter-widgets/base",
      "_view_module_version": "1.2.0",
      "_view_name": "StyleView",
      "bar_color": null,
      "description_width": ""
     }
    },
    "2affa4136f8a4a17b48c4a0b093738a0": {
     "model_module": "@jupyter-widgets/controls",
     "model_module_version": "1.5.0",
     "model_name": "HBoxModel",
     "state": {
      "_dom_classes": [],
      "_model_module": "@jupyter-widgets/controls",
      "_model_module_version": "1.5.0",
      "_model_name": "HBoxModel",
      "_view_count": null,
      "_view_module": "@jupyter-widgets/controls",
      "_view_module_version": "1.5.0",
      "_view_name": "HBoxView",
      "box_style": "",
      "children": [
       "IPY_MODEL_f50385a43c91490dbec0fbe5946e1665",
       "IPY_MODEL_9832fd351d6a4c95993f311b7630a7d1",
       "IPY_MODEL_ecfcbac7e0104e15af39a6eecc98ace8"
      ],
      "layout": "IPY_MODEL_2f4f36681e5944dea3745c9e6feba41c"
     }
    },
    "2bd60595d1534e78883b51330481e27a": {
     "model_module": "@jupyter-widgets/controls",
     "model_module_version": "1.5.0",
     "model_name": "HTMLModel",
     "state": {
      "_dom_classes": [],
      "_model_module": "@jupyter-widgets/controls",
      "_model_module_version": "1.5.0",
      "_model_name": "HTMLModel",
      "_view_count": null,
      "_view_module": "@jupyter-widgets/controls",
      "_view_module_version": "1.5.0",
      "_view_name": "HTMLView",
      "description": "",
      "description_tooltip": null,
      "layout": "IPY_MODEL_567d7d83b83c4b9cbbe42b4f25fe1e31",
      "placeholder": "​",
      "style": "IPY_MODEL_d66333e2241e43f78704df1dd40a6d53",
      "value": "tokenizer_config.json: 100%"
     }
    },
    "2ea36bcf869f4e86a14d9d9ded3d9ab2": {
     "model_module": "@jupyter-widgets/controls",
     "model_module_version": "1.5.0",
     "model_name": "ProgressStyleModel",
     "state": {
      "_model_module": "@jupyter-widgets/controls",
      "_model_module_version": "1.5.0",
      "_model_name": "ProgressStyleModel",
      "_view_count": null,
      "_view_module": "@jupyter-widgets/base",
      "_view_module_version": "1.2.0",
      "_view_name": "StyleView",
      "bar_color": null,
      "description_width": ""
     }
    },
    "2eba9e5a11054922a4fff5d5219f35cf": {
     "model_module": "@jupyter-widgets/base",
     "model_module_version": "1.2.0",
     "model_name": "LayoutModel",
     "state": {
      "_model_module": "@jupyter-widgets/base",
      "_model_module_version": "1.2.0",
      "_model_name": "LayoutModel",
      "_view_count": null,
      "_view_module": "@jupyter-widgets/base",
      "_view_module_version": "1.2.0",
      "_view_name": "LayoutView",
      "align_content": null,
      "align_items": null,
      "align_self": null,
      "border": null,
      "bottom": null,
      "display": null,
      "flex": null,
      "flex_flow": null,
      "grid_area": null,
      "grid_auto_columns": null,
      "grid_auto_flow": null,
      "grid_auto_rows": null,
      "grid_column": null,
      "grid_gap": null,
      "grid_row": null,
      "grid_template_areas": null,
      "grid_template_columns": null,
      "grid_template_rows": null,
      "height": null,
      "justify_content": null,
      "justify_items": null,
      "left": null,
      "margin": null,
      "max_height": null,
      "max_width": null,
      "min_height": null,
      "min_width": null,
      "object_fit": null,
      "object_position": null,
      "order": null,
      "overflow": null,
      "overflow_x": null,
      "overflow_y": null,
      "padding": null,
      "right": null,
      "top": null,
      "visibility": null,
      "width": null
     }
    },
    "2f4f36681e5944dea3745c9e6feba41c": {
     "model_module": "@jupyter-widgets/base",
     "model_module_version": "1.2.0",
     "model_name": "LayoutModel",
     "state": {
      "_model_module": "@jupyter-widgets/base",
      "_model_module_version": "1.2.0",
      "_model_name": "LayoutModel",
      "_view_count": null,
      "_view_module": "@jupyter-widgets/base",
      "_view_module_version": "1.2.0",
      "_view_name": "LayoutView",
      "align_content": null,
      "align_items": null,
      "align_self": null,
      "border": null,
      "bottom": null,
      "display": null,
      "flex": null,
      "flex_flow": null,
      "grid_area": null,
      "grid_auto_columns": null,
      "grid_auto_flow": null,
      "grid_auto_rows": null,
      "grid_column": null,
      "grid_gap": null,
      "grid_row": null,
      "grid_template_areas": null,
      "grid_template_columns": null,
      "grid_template_rows": null,
      "height": null,
      "justify_content": null,
      "justify_items": null,
      "left": null,
      "margin": null,
      "max_height": null,
      "max_width": null,
      "min_height": null,
      "min_width": null,
      "object_fit": null,
      "object_position": null,
      "order": null,
      "overflow": null,
      "overflow_x": null,
      "overflow_y": null,
      "padding": null,
      "right": null,
      "top": null,
      "visibility": null,
      "width": null
     }
    },
    "3158048f645e41e893e6c93b7735d2b7": {
     "model_module": "@jupyter-widgets/controls",
     "model_module_version": "1.5.0",
     "model_name": "DescriptionStyleModel",
     "state": {
      "_model_module": "@jupyter-widgets/controls",
      "_model_module_version": "1.5.0",
      "_model_name": "DescriptionStyleModel",
      "_view_count": null,
      "_view_module": "@jupyter-widgets/base",
      "_view_module_version": "1.2.0",
      "_view_name": "StyleView",
      "description_width": ""
     }
    },
    "36621227d22c454e86e9d025e3f1c617": {
     "model_module": "@jupyter-widgets/base",
     "model_module_version": "1.2.0",
     "model_name": "LayoutModel",
     "state": {
      "_model_module": "@jupyter-widgets/base",
      "_model_module_version": "1.2.0",
      "_model_name": "LayoutModel",
      "_view_count": null,
      "_view_module": "@jupyter-widgets/base",
      "_view_module_version": "1.2.0",
      "_view_name": "LayoutView",
      "align_content": null,
      "align_items": null,
      "align_self": null,
      "border": null,
      "bottom": null,
      "display": null,
      "flex": null,
      "flex_flow": null,
      "grid_area": null,
      "grid_auto_columns": null,
      "grid_auto_flow": null,
      "grid_auto_rows": null,
      "grid_column": null,
      "grid_gap": null,
      "grid_row": null,
      "grid_template_areas": null,
      "grid_template_columns": null,
      "grid_template_rows": null,
      "height": null,
      "justify_content": null,
      "justify_items": null,
      "left": null,
      "margin": null,
      "max_height": null,
      "max_width": null,
      "min_height": null,
      "min_width": null,
      "object_fit": null,
      "object_position": null,
      "order": null,
      "overflow": null,
      "overflow_x": null,
      "overflow_y": null,
      "padding": null,
      "right": null,
      "top": null,
      "visibility": null,
      "width": null
     }
    },
    "37577bc46d584e8b841306e592691456": {
     "model_module": "@jupyter-widgets/controls",
     "model_module_version": "1.5.0",
     "model_name": "HBoxModel",
     "state": {
      "_dom_classes": [],
      "_model_module": "@jupyter-widgets/controls",
      "_model_module_version": "1.5.0",
      "_model_name": "HBoxModel",
      "_view_count": null,
      "_view_module": "@jupyter-widgets/controls",
      "_view_module_version": "1.5.0",
      "_view_name": "HBoxView",
      "box_style": "",
      "children": [
       "IPY_MODEL_2bd60595d1534e78883b51330481e27a",
       "IPY_MODEL_79d9b3f8561e464593d400957751fae3",
       "IPY_MODEL_b2aaed5decce41fab8e865acae5eb7ad"
      ],
      "layout": "IPY_MODEL_dd084db36346443ca3fa44dce26a92c5"
     }
    },
    "3a8a67f5378546c98c442c6811b71aa3": {
     "model_module": "@jupyter-widgets/controls",
     "model_module_version": "1.5.0",
     "model_name": "DescriptionStyleModel",
     "state": {
      "_model_module": "@jupyter-widgets/controls",
      "_model_module_version": "1.5.0",
      "_model_name": "DescriptionStyleModel",
      "_view_count": null,
      "_view_module": "@jupyter-widgets/base",
      "_view_module_version": "1.2.0",
      "_view_name": "StyleView",
      "description_width": ""
     }
    },
    "3b85ca6793a743d2a02688a41336efd1": {
     "model_module": "@jupyter-widgets/base",
     "model_module_version": "1.2.0",
     "model_name": "LayoutModel",
     "state": {
      "_model_module": "@jupyter-widgets/base",
      "_model_module_version": "1.2.0",
      "_model_name": "LayoutModel",
      "_view_count": null,
      "_view_module": "@jupyter-widgets/base",
      "_view_module_version": "1.2.0",
      "_view_name": "LayoutView",
      "align_content": null,
      "align_items": null,
      "align_self": null,
      "border": null,
      "bottom": null,
      "display": null,
      "flex": null,
      "flex_flow": null,
      "grid_area": null,
      "grid_auto_columns": null,
      "grid_auto_flow": null,
      "grid_auto_rows": null,
      "grid_column": null,
      "grid_gap": null,
      "grid_row": null,
      "grid_template_areas": null,
      "grid_template_columns": null,
      "grid_template_rows": null,
      "height": null,
      "justify_content": null,
      "justify_items": null,
      "left": null,
      "margin": null,
      "max_height": null,
      "max_width": null,
      "min_height": null,
      "min_width": null,
      "object_fit": null,
      "object_position": null,
      "order": null,
      "overflow": null,
      "overflow_x": null,
      "overflow_y": null,
      "padding": null,
      "right": null,
      "top": null,
      "visibility": null,
      "width": null
     }
    },
    "3e90f9009391400b8d1e2a711ccf2048": {
     "model_module": "@jupyter-widgets/base",
     "model_module_version": "1.2.0",
     "model_name": "LayoutModel",
     "state": {
      "_model_module": "@jupyter-widgets/base",
      "_model_module_version": "1.2.0",
      "_model_name": "LayoutModel",
      "_view_count": null,
      "_view_module": "@jupyter-widgets/base",
      "_view_module_version": "1.2.0",
      "_view_name": "LayoutView",
      "align_content": null,
      "align_items": null,
      "align_self": null,
      "border": null,
      "bottom": null,
      "display": null,
      "flex": null,
      "flex_flow": null,
      "grid_area": null,
      "grid_auto_columns": null,
      "grid_auto_flow": null,
      "grid_auto_rows": null,
      "grid_column": null,
      "grid_gap": null,
      "grid_row": null,
      "grid_template_areas": null,
      "grid_template_columns": null,
      "grid_template_rows": null,
      "height": null,
      "justify_content": null,
      "justify_items": null,
      "left": null,
      "margin": null,
      "max_height": null,
      "max_width": null,
      "min_height": null,
      "min_width": null,
      "object_fit": null,
      "object_position": null,
      "order": null,
      "overflow": null,
      "overflow_x": null,
      "overflow_y": null,
      "padding": null,
      "right": null,
      "top": null,
      "visibility": null,
      "width": null
     }
    },
    "427234d549584d97b531ecd1f785b296": {
     "model_module": "@jupyter-widgets/controls",
     "model_module_version": "1.5.0",
     "model_name": "DescriptionStyleModel",
     "state": {
      "_model_module": "@jupyter-widgets/controls",
      "_model_module_version": "1.5.0",
      "_model_name": "DescriptionStyleModel",
      "_view_count": null,
      "_view_module": "@jupyter-widgets/base",
      "_view_module_version": "1.2.0",
      "_view_name": "StyleView",
      "description_width": ""
     }
    },
    "443791bf350049f99e5849fa533ea36d": {
     "model_module": "@jupyter-widgets/controls",
     "model_module_version": "1.5.0",
     "model_name": "ProgressStyleModel",
     "state": {
      "_model_module": "@jupyter-widgets/controls",
      "_model_module_version": "1.5.0",
      "_model_name": "ProgressStyleModel",
      "_view_count": null,
      "_view_module": "@jupyter-widgets/base",
      "_view_module_version": "1.2.0",
      "_view_name": "StyleView",
      "bar_color": null,
      "description_width": ""
     }
    },
    "49b9573bfb1d4a58bd941c5a806692db": {
     "model_module": "@jupyter-widgets/base",
     "model_module_version": "1.2.0",
     "model_name": "LayoutModel",
     "state": {
      "_model_module": "@jupyter-widgets/base",
      "_model_module_version": "1.2.0",
      "_model_name": "LayoutModel",
      "_view_count": null,
      "_view_module": "@jupyter-widgets/base",
      "_view_module_version": "1.2.0",
      "_view_name": "LayoutView",
      "align_content": null,
      "align_items": null,
      "align_self": null,
      "border": null,
      "bottom": null,
      "display": null,
      "flex": null,
      "flex_flow": null,
      "grid_area": null,
      "grid_auto_columns": null,
      "grid_auto_flow": null,
      "grid_auto_rows": null,
      "grid_column": null,
      "grid_gap": null,
      "grid_row": null,
      "grid_template_areas": null,
      "grid_template_columns": null,
      "grid_template_rows": null,
      "height": null,
      "justify_content": null,
      "justify_items": null,
      "left": null,
      "margin": null,
      "max_height": null,
      "max_width": null,
      "min_height": null,
      "min_width": null,
      "object_fit": null,
      "object_position": null,
      "order": null,
      "overflow": null,
      "overflow_x": null,
      "overflow_y": null,
      "padding": null,
      "right": null,
      "top": null,
      "visibility": null,
      "width": null
     }
    },
    "4df2161f02644c918715ecb074bf129e": {
     "model_module": "@jupyter-widgets/controls",
     "model_module_version": "1.5.0",
     "model_name": "HTMLModel",
     "state": {
      "_dom_classes": [],
      "_model_module": "@jupyter-widgets/controls",
      "_model_module_version": "1.5.0",
      "_model_name": "HTMLModel",
      "_view_count": null,
      "_view_module": "@jupyter-widgets/controls",
      "_view_module_version": "1.5.0",
      "_view_name": "HTMLView",
      "description": "",
      "description_tooltip": null,
      "layout": "IPY_MODEL_70929d39f88646d2be3d11a3ad999acf",
      "placeholder": "​",
      "style": "IPY_MODEL_c5c10a2389d64eeb85dc6bb148453422",
      "value": " 1.04M/1.04M [00:00&lt;00:00, 4.67MB/s]"
     }
    },
    "4fdb641c6a9a45e095af66e9e58e95aa": {
     "model_module": "@jupyter-widgets/base",
     "model_module_version": "1.2.0",
     "model_name": "LayoutModel",
     "state": {
      "_model_module": "@jupyter-widgets/base",
      "_model_module_version": "1.2.0",
      "_model_name": "LayoutModel",
      "_view_count": null,
      "_view_module": "@jupyter-widgets/base",
      "_view_module_version": "1.2.0",
      "_view_name": "LayoutView",
      "align_content": null,
      "align_items": null,
      "align_self": null,
      "border": null,
      "bottom": null,
      "display": null,
      "flex": null,
      "flex_flow": null,
      "grid_area": null,
      "grid_auto_columns": null,
      "grid_auto_flow": null,
      "grid_auto_rows": null,
      "grid_column": null,
      "grid_gap": null,
      "grid_row": null,
      "grid_template_areas": null,
      "grid_template_columns": null,
      "grid_template_rows": null,
      "height": null,
      "justify_content": null,
      "justify_items": null,
      "left": null,
      "margin": null,
      "max_height": null,
      "max_width": null,
      "min_height": null,
      "min_width": null,
      "object_fit": null,
      "object_position": null,
      "order": null,
      "overflow": null,
      "overflow_x": null,
      "overflow_y": null,
      "padding": null,
      "right": null,
      "top": null,
      "visibility": null,
      "width": null
     }
    },
    "567d7d83b83c4b9cbbe42b4f25fe1e31": {
     "model_module": "@jupyter-widgets/base",
     "model_module_version": "1.2.0",
     "model_name": "LayoutModel",
     "state": {
      "_model_module": "@jupyter-widgets/base",
      "_model_module_version": "1.2.0",
      "_model_name": "LayoutModel",
      "_view_count": null,
      "_view_module": "@jupyter-widgets/base",
      "_view_module_version": "1.2.0",
      "_view_name": "LayoutView",
      "align_content": null,
      "align_items": null,
      "align_self": null,
      "border": null,
      "bottom": null,
      "display": null,
      "flex": null,
      "flex_flow": null,
      "grid_area": null,
      "grid_auto_columns": null,
      "grid_auto_flow": null,
      "grid_auto_rows": null,
      "grid_column": null,
      "grid_gap": null,
      "grid_row": null,
      "grid_template_areas": null,
      "grid_template_columns": null,
      "grid_template_rows": null,
      "height": null,
      "justify_content": null,
      "justify_items": null,
      "left": null,
      "margin": null,
      "max_height": null,
      "max_width": null,
      "min_height": null,
      "min_width": null,
      "object_fit": null,
      "object_position": null,
      "order": null,
      "overflow": null,
      "overflow_x": null,
      "overflow_y": null,
      "padding": null,
      "right": null,
      "top": null,
      "visibility": null,
      "width": null
     }
    },
    "58287b4223c14e5494e30ea9edbb32b9": {
     "model_module": "@jupyter-widgets/controls",
     "model_module_version": "1.5.0",
     "model_name": "DescriptionStyleModel",
     "state": {
      "_model_module": "@jupyter-widgets/controls",
      "_model_module_version": "1.5.0",
      "_model_name": "DescriptionStyleModel",
      "_view_count": null,
      "_view_module": "@jupyter-widgets/base",
      "_view_module_version": "1.2.0",
      "_view_name": "StyleView",
      "description_width": ""
     }
    },
    "5bbf3e5caa374a719234fc5dafc37e4a": {
     "model_module": "@jupyter-widgets/base",
     "model_module_version": "1.2.0",
     "model_name": "LayoutModel",
     "state": {
      "_model_module": "@jupyter-widgets/base",
      "_model_module_version": "1.2.0",
      "_model_name": "LayoutModel",
      "_view_count": null,
      "_view_module": "@jupyter-widgets/base",
      "_view_module_version": "1.2.0",
      "_view_name": "LayoutView",
      "align_content": null,
      "align_items": null,
      "align_self": null,
      "border": null,
      "bottom": null,
      "display": null,
      "flex": null,
      "flex_flow": null,
      "grid_area": null,
      "grid_auto_columns": null,
      "grid_auto_flow": null,
      "grid_auto_rows": null,
      "grid_column": null,
      "grid_gap": null,
      "grid_row": null,
      "grid_template_areas": null,
      "grid_template_columns": null,
      "grid_template_rows": null,
      "height": null,
      "justify_content": null,
      "justify_items": null,
      "left": null,
      "margin": null,
      "max_height": null,
      "max_width": null,
      "min_height": null,
      "min_width": null,
      "object_fit": null,
      "object_position": null,
      "order": null,
      "overflow": null,
      "overflow_x": null,
      "overflow_y": null,
      "padding": null,
      "right": null,
      "top": null,
      "visibility": null,
      "width": null
     }
    },
    "5be0c03facb5469c8423e4fefff0973a": {
     "model_module": "@jupyter-widgets/controls",
     "model_module_version": "1.5.0",
     "model_name": "ProgressStyleModel",
     "state": {
      "_model_module": "@jupyter-widgets/controls",
      "_model_module_version": "1.5.0",
      "_model_name": "ProgressStyleModel",
      "_view_count": null,
      "_view_module": "@jupyter-widgets/base",
      "_view_module_version": "1.2.0",
      "_view_name": "StyleView",
      "bar_color": null,
      "description_width": ""
     }
    },
    "5e43cb942db34cb185c59fd4fc8c6f1d": {
     "model_module": "@jupyter-widgets/controls",
     "model_module_version": "1.5.0",
     "model_name": "DescriptionStyleModel",
     "state": {
      "_model_module": "@jupyter-widgets/controls",
      "_model_module_version": "1.5.0",
      "_model_name": "DescriptionStyleModel",
      "_view_count": null,
      "_view_module": "@jupyter-widgets/base",
      "_view_module_version": "1.2.0",
      "_view_name": "StyleView",
      "description_width": ""
     }
    },
    "60bd166bec4d45a5b597eda029df4a01": {
     "model_module": "@jupyter-widgets/controls",
     "model_module_version": "1.5.0",
     "model_name": "HBoxModel",
     "state": {
      "_dom_classes": [],
      "_model_module": "@jupyter-widgets/controls",
      "_model_module_version": "1.5.0",
      "_model_name": "HBoxModel",
      "_view_count": null,
      "_view_module": "@jupyter-widgets/controls",
      "_view_module_version": "1.5.0",
      "_view_name": "HBoxView",
      "box_style": "",
      "children": [
       "IPY_MODEL_b577baf2fdc24aecbec700d7e442bec5",
       "IPY_MODEL_e3974f7ff8e3488e8e9a8d74d0a047d5",
       "IPY_MODEL_8019b5d2bc7e41a3914bfe14fc2138a7"
      ],
      "layout": "IPY_MODEL_ce9481984c5645ef97f79aff54720adc"
     }
    },
    "6192767131b04a70940e83a371241aff": {
     "model_module": "@jupyter-widgets/base",
     "model_module_version": "1.2.0",
     "model_name": "LayoutModel",
     "state": {
      "_model_module": "@jupyter-widgets/base",
      "_model_module_version": "1.2.0",
      "_model_name": "LayoutModel",
      "_view_count": null,
      "_view_module": "@jupyter-widgets/base",
      "_view_module_version": "1.2.0",
      "_view_name": "LayoutView",
      "align_content": null,
      "align_items": null,
      "align_self": null,
      "border": null,
      "bottom": null,
      "display": null,
      "flex": null,
      "flex_flow": null,
      "grid_area": null,
      "grid_auto_columns": null,
      "grid_auto_flow": null,
      "grid_auto_rows": null,
      "grid_column": null,
      "grid_gap": null,
      "grid_row": null,
      "grid_template_areas": null,
      "grid_template_columns": null,
      "grid_template_rows": null,
      "height": null,
      "justify_content": null,
      "justify_items": null,
      "left": null,
      "margin": null,
      "max_height": null,
      "max_width": null,
      "min_height": null,
      "min_width": null,
      "object_fit": null,
      "object_position": null,
      "order": null,
      "overflow": null,
      "overflow_x": null,
      "overflow_y": null,
      "padding": null,
      "right": null,
      "top": null,
      "visibility": null,
      "width": null
     }
    },
    "658ec41eccbb4e549d5245ed821da0f8": {
     "model_module": "@jupyter-widgets/controls",
     "model_module_version": "1.5.0",
     "model_name": "FloatProgressModel",
     "state": {
      "_dom_classes": [],
      "_model_module": "@jupyter-widgets/controls",
      "_model_module_version": "1.5.0",
      "_model_name": "FloatProgressModel",
      "_view_count": null,
      "_view_module": "@jupyter-widgets/controls",
      "_view_module_version": "1.5.0",
      "_view_name": "ProgressView",
      "bar_style": "success",
      "description": "",
      "description_tooltip": null,
      "layout": "IPY_MODEL_3b85ca6793a743d2a02688a41336efd1",
      "max": 1355256,
      "min": 0,
      "orientation": "horizontal",
      "style": "IPY_MODEL_ae9a0b2e8cfc401987cb537ebe0f7f73",
      "value": 1355256
     }
    },
    "6d41ca0ece514ab3a5657e79dff70372": {
     "model_module": "@jupyter-widgets/base",
     "model_module_version": "1.2.0",
     "model_name": "LayoutModel",
     "state": {
      "_model_module": "@jupyter-widgets/base",
      "_model_module_version": "1.2.0",
      "_model_name": "LayoutModel",
      "_view_count": null,
      "_view_module": "@jupyter-widgets/base",
      "_view_module_version": "1.2.0",
      "_view_name": "LayoutView",
      "align_content": null,
      "align_items": null,
      "align_self": null,
      "border": null,
      "bottom": null,
      "display": null,
      "flex": null,
      "flex_flow": null,
      "grid_area": null,
      "grid_auto_columns": null,
      "grid_auto_flow": null,
      "grid_auto_rows": null,
      "grid_column": null,
      "grid_gap": null,
      "grid_row": null,
      "grid_template_areas": null,
      "grid_template_columns": null,
      "grid_template_rows": null,
      "height": null,
      "justify_content": null,
      "justify_items": null,
      "left": null,
      "margin": null,
      "max_height": null,
      "max_width": null,
      "min_height": null,
      "min_width": null,
      "object_fit": null,
      "object_position": null,
      "order": null,
      "overflow": null,
      "overflow_x": null,
      "overflow_y": null,
      "padding": null,
      "right": null,
      "top": null,
      "visibility": null,
      "width": null
     }
    },
    "701418d5e0ee4a258f5bf68f6e3a1ddc": {
     "model_module": "@jupyter-widgets/controls",
     "model_module_version": "1.5.0",
     "model_name": "HTMLModel",
     "state": {
      "_dom_classes": [],
      "_model_module": "@jupyter-widgets/controls",
      "_model_module_version": "1.5.0",
      "_model_name": "HTMLModel",
      "_view_count": null,
      "_view_module": "@jupyter-widgets/controls",
      "_view_module_version": "1.5.0",
      "_view_name": "HTMLView",
      "description": "",
      "description_tooltip": null,
      "layout": "IPY_MODEL_36621227d22c454e86e9d025e3f1c617",
      "placeholder": "​",
      "style": "IPY_MODEL_9afa1b365984432ebf012a8a7c9c697d",
      "value": "tokenizer.json: 100%"
     }
    },
    "70929d39f88646d2be3d11a3ad999acf": {
     "model_module": "@jupyter-widgets/base",
     "model_module_version": "1.2.0",
     "model_name": "LayoutModel",
     "state": {
      "_model_module": "@jupyter-widgets/base",
      "_model_module_version": "1.2.0",
      "_model_name": "LayoutModel",
      "_view_count": null,
      "_view_module": "@jupyter-widgets/base",
      "_view_module_version": "1.2.0",
      "_view_name": "LayoutView",
      "align_content": null,
      "align_items": null,
      "align_self": null,
      "border": null,
      "bottom": null,
      "display": null,
      "flex": null,
      "flex_flow": null,
      "grid_area": null,
      "grid_auto_columns": null,
      "grid_auto_flow": null,
      "grid_auto_rows": null,
      "grid_column": null,
      "grid_gap": null,
      "grid_row": null,
      "grid_template_areas": null,
      "grid_template_columns": null,
      "grid_template_rows": null,
      "height": null,
      "justify_content": null,
      "justify_items": null,
      "left": null,
      "margin": null,
      "max_height": null,
      "max_width": null,
      "min_height": null,
      "min_width": null,
      "object_fit": null,
      "object_position": null,
      "order": null,
      "overflow": null,
      "overflow_x": null,
      "overflow_y": null,
      "padding": null,
      "right": null,
      "top": null,
      "visibility": null,
      "width": null
     }
    },
    "72765e3890a9425bbfe6b09b4a6a6b28": {
     "model_module": "@jupyter-widgets/base",
     "model_module_version": "1.2.0",
     "model_name": "LayoutModel",
     "state": {
      "_model_module": "@jupyter-widgets/base",
      "_model_module_version": "1.2.0",
      "_model_name": "LayoutModel",
      "_view_count": null,
      "_view_module": "@jupyter-widgets/base",
      "_view_module_version": "1.2.0",
      "_view_name": "LayoutView",
      "align_content": null,
      "align_items": null,
      "align_self": null,
      "border": null,
      "bottom": null,
      "display": null,
      "flex": null,
      "flex_flow": null,
      "grid_area": null,
      "grid_auto_columns": null,
      "grid_auto_flow": null,
      "grid_auto_rows": null,
      "grid_column": null,
      "grid_gap": null,
      "grid_row": null,
      "grid_template_areas": null,
      "grid_template_columns": null,
      "grid_template_rows": null,
      "height": null,
      "justify_content": null,
      "justify_items": null,
      "left": null,
      "margin": null,
      "max_height": null,
      "max_width": null,
      "min_height": null,
      "min_width": null,
      "object_fit": null,
      "object_position": null,
      "order": null,
      "overflow": null,
      "overflow_x": null,
      "overflow_y": null,
      "padding": null,
      "right": null,
      "top": null,
      "visibility": null,
      "width": null
     }
    },
    "79d9b3f8561e464593d400957751fae3": {
     "model_module": "@jupyter-widgets/controls",
     "model_module_version": "1.5.0",
     "model_name": "FloatProgressModel",
     "state": {
      "_dom_classes": [],
      "_model_module": "@jupyter-widgets/controls",
      "_model_module_version": "1.5.0",
      "_model_name": "FloatProgressModel",
      "_view_count": null,
      "_view_module": "@jupyter-widgets/controls",
      "_view_module_version": "1.5.0",
      "_view_name": "ProgressView",
      "bar_style": "success",
      "description": "",
      "description_tooltip": null,
      "layout": "IPY_MODEL_878adf93c100479e9eadb453ebafd6dc",
      "max": 26,
      "min": 0,
      "orientation": "horizontal",
      "style": "IPY_MODEL_2a477e91ad3e4046b9bbd97447842073",
      "value": 26
     }
    },
    "7a9d9aef132d4f7da41e5071492d1497": {
     "model_module": "@jupyter-widgets/controls",
     "model_module_version": "1.5.0",
     "model_name": "HBoxModel",
     "state": {
      "_dom_classes": [],
      "_model_module": "@jupyter-widgets/controls",
      "_model_module_version": "1.5.0",
      "_model_name": "HBoxModel",
      "_view_count": null,
      "_view_module": "@jupyter-widgets/controls",
      "_view_module_version": "1.5.0",
      "_view_name": "HBoxView",
      "box_style": "",
      "children": [
       "IPY_MODEL_701418d5e0ee4a258f5bf68f6e3a1ddc",
       "IPY_MODEL_658ec41eccbb4e549d5245ed821da0f8",
       "IPY_MODEL_a3a3addc00574c6e8bb13acee34a0355"
      ],
      "layout": "IPY_MODEL_ce6626630fd043c1bb48ddaebfb057b6"
     }
    },
    "8019b5d2bc7e41a3914bfe14fc2138a7": {
     "model_module": "@jupyter-widgets/controls",
     "model_module_version": "1.5.0",
     "model_name": "HTMLModel",
     "state": {
      "_dom_classes": [],
      "_model_module": "@jupyter-widgets/controls",
      "_model_module_version": "1.5.0",
      "_model_name": "HTMLModel",
      "_view_count": null,
      "_view_module": "@jupyter-widgets/controls",
      "_view_module_version": "1.5.0",
      "_view_name": "HTMLView",
      "description": "",
      "description_tooltip": null,
      "layout": "IPY_MODEL_9c201b2ed09242daa66f8da592b7638a",
      "placeholder": "​",
      "style": "IPY_MODEL_bd681eacf3364022ba72c10c4cb720e6",
      "value": " 456k/456k [00:00&lt;00:00, 6.61MB/s]"
     }
    },
    "86ab73cf21cb46a2b05cca5ca32376ba": {
     "model_module": "@jupyter-widgets/controls",
     "model_module_version": "1.5.0",
     "model_name": "FloatProgressModel",
     "state": {
      "_dom_classes": [],
      "_model_module": "@jupyter-widgets/controls",
      "_model_module_version": "1.5.0",
      "_model_name": "FloatProgressModel",
      "_view_count": null,
      "_view_module": "@jupyter-widgets/controls",
      "_view_module_version": "1.5.0",
      "_view_name": "ProgressView",
      "bar_style": "success",
      "description": "",
      "description_tooltip": null,
      "layout": "IPY_MODEL_72765e3890a9425bbfe6b09b4a6a6b28",
      "max": 124,
      "min": 0,
      "orientation": "horizontal",
      "style": "IPY_MODEL_a79318aa1fed4446bd3b2c8d4fefbec3",
      "value": 124
     }
    },
    "878adf93c100479e9eadb453ebafd6dc": {
     "model_module": "@jupyter-widgets/base",
     "model_module_version": "1.2.0",
     "model_name": "LayoutModel",
     "state": {
      "_model_module": "@jupyter-widgets/base",
      "_model_module_version": "1.2.0",
      "_model_name": "LayoutModel",
      "_view_count": null,
      "_view_module": "@jupyter-widgets/base",
      "_view_module_version": "1.2.0",
      "_view_name": "LayoutView",
      "align_content": null,
      "align_items": null,
      "align_self": null,
      "border": null,
      "bottom": null,
      "display": null,
      "flex": null,
      "flex_flow": null,
      "grid_area": null,
      "grid_auto_columns": null,
      "grid_auto_flow": null,
      "grid_auto_rows": null,
      "grid_column": null,
      "grid_gap": null,
      "grid_row": null,
      "grid_template_areas": null,
      "grid_template_columns": null,
      "grid_template_rows": null,
      "height": null,
      "justify_content": null,
      "justify_items": null,
      "left": null,
      "margin": null,
      "max_height": null,
      "max_width": null,
      "min_height": null,
      "min_width": null,
      "object_fit": null,
      "object_position": null,
      "order": null,
      "overflow": null,
      "overflow_x": null,
      "overflow_y": null,
      "padding": null,
      "right": null,
      "top": null,
      "visibility": null,
      "width": null
     }
    },
    "89ee3fe5787e4f1ea70e20c8b1c9b679": {
     "model_module": "@jupyter-widgets/controls",
     "model_module_version": "1.5.0",
     "model_name": "HBoxModel",
     "state": {
      "_dom_classes": [],
      "_model_module": "@jupyter-widgets/controls",
      "_model_module_version": "1.5.0",
      "_model_name": "HBoxModel",
      "_view_count": null,
      "_view_module": "@jupyter-widgets/controls",
      "_view_module_version": "1.5.0",
      "_view_name": "HBoxView",
      "box_style": "",
      "children": [
       "IPY_MODEL_d5d6122a459c474c8e3d89a1cd1bc39a",
       "IPY_MODEL_86ab73cf21cb46a2b05cca5ca32376ba",
       "IPY_MODEL_13fdc62402754ea5b47c5d3e197af33c"
      ],
      "layout": "IPY_MODEL_d789fac4c6de4945bddefb16ee2d789b"
     }
    },
    "8aabdd2ad4084c1389c50cd33f8879bd": {
     "model_module": "@jupyter-widgets/base",
     "model_module_version": "1.2.0",
     "model_name": "LayoutModel",
     "state": {
      "_model_module": "@jupyter-widgets/base",
      "_model_module_version": "1.2.0",
      "_model_name": "LayoutModel",
      "_view_count": null,
      "_view_module": "@jupyter-widgets/base",
      "_view_module_version": "1.2.0",
      "_view_name": "LayoutView",
      "align_content": null,
      "align_items": null,
      "align_self": null,
      "border": null,
      "bottom": null,
      "display": null,
      "flex": null,
      "flex_flow": null,
      "grid_area": null,
      "grid_auto_columns": null,
      "grid_auto_flow": null,
      "grid_auto_rows": null,
      "grid_column": null,
      "grid_gap": null,
      "grid_row": null,
      "grid_template_areas": null,
      "grid_template_columns": null,
      "grid_template_rows": null,
      "height": null,
      "justify_content": null,
      "justify_items": null,
      "left": null,
      "margin": null,
      "max_height": null,
      "max_width": null,
      "min_height": null,
      "min_width": null,
      "object_fit": null,
      "object_position": null,
      "order": null,
      "overflow": null,
      "overflow_x": null,
      "overflow_y": null,
      "padding": null,
      "right": null,
      "top": null,
      "visibility": null,
      "width": null
     }
    },
    "8c25b219af4c4d20bd3fac43eee8a407": {
     "model_module": "@jupyter-widgets/controls",
     "model_module_version": "1.5.0",
     "model_name": "DescriptionStyleModel",
     "state": {
      "_model_module": "@jupyter-widgets/controls",
      "_model_module_version": "1.5.0",
      "_model_name": "DescriptionStyleModel",
      "_view_count": null,
      "_view_module": "@jupyter-widgets/base",
      "_view_module_version": "1.2.0",
      "_view_name": "StyleView",
      "description_width": ""
     }
    },
    "92cf0ad0851141d78fc624f60ff67b28": {
     "model_module": "@jupyter-widgets/controls",
     "model_module_version": "1.5.0",
     "model_name": "DescriptionStyleModel",
     "state": {
      "_model_module": "@jupyter-widgets/controls",
      "_model_module_version": "1.5.0",
      "_model_name": "DescriptionStyleModel",
      "_view_count": null,
      "_view_module": "@jupyter-widgets/base",
      "_view_module_version": "1.2.0",
      "_view_name": "StyleView",
      "description_width": ""
     }
    },
    "92d05c13a1a94c23bdc8b4e62626e5d8": {
     "model_module": "@jupyter-widgets/controls",
     "model_module_version": "1.5.0",
     "model_name": "DescriptionStyleModel",
     "state": {
      "_model_module": "@jupyter-widgets/controls",
      "_model_module_version": "1.5.0",
      "_model_name": "DescriptionStyleModel",
      "_view_count": null,
      "_view_module": "@jupyter-widgets/base",
      "_view_module_version": "1.2.0",
      "_view_name": "StyleView",
      "description_width": ""
     }
    },
    "94d1b05b3122447eb9334481fea6d22f": {
     "model_module": "@jupyter-widgets/base",
     "model_module_version": "1.2.0",
     "model_name": "LayoutModel",
     "state": {
      "_model_module": "@jupyter-widgets/base",
      "_model_module_version": "1.2.0",
      "_model_name": "LayoutModel",
      "_view_count": null,
      "_view_module": "@jupyter-widgets/base",
      "_view_module_version": "1.2.0",
      "_view_name": "LayoutView",
      "align_content": null,
      "align_items": null,
      "align_self": null,
      "border": null,
      "bottom": null,
      "display": null,
      "flex": null,
      "flex_flow": null,
      "grid_area": null,
      "grid_auto_columns": null,
      "grid_auto_flow": null,
      "grid_auto_rows": null,
      "grid_column": null,
      "grid_gap": null,
      "grid_row": null,
      "grid_template_areas": null,
      "grid_template_columns": null,
      "grid_template_rows": null,
      "height": null,
      "justify_content": null,
      "justify_items": null,
      "left": null,
      "margin": null,
      "max_height": null,
      "max_width": null,
      "min_height": null,
      "min_width": null,
      "object_fit": null,
      "object_position": null,
      "order": null,
      "overflow": null,
      "overflow_x": null,
      "overflow_y": null,
      "padding": null,
      "right": null,
      "top": null,
      "visibility": null,
      "width": null
     }
    },
    "9832fd351d6a4c95993f311b7630a7d1": {
     "model_module": "@jupyter-widgets/controls",
     "model_module_version": "1.5.0",
     "model_name": "FloatProgressModel",
     "state": {
      "_dom_classes": [],
      "_model_module": "@jupyter-widgets/controls",
      "_model_module_version": "1.5.0",
      "_model_name": "FloatProgressModel",
      "_view_count": null,
      "_view_module": "@jupyter-widgets/controls",
      "_view_module_version": "1.5.0",
      "_view_name": "ProgressView",
      "bar_style": "success",
      "description": "",
      "description_tooltip": null,
      "layout": "IPY_MODEL_2eba9e5a11054922a4fff5d5219f35cf",
      "max": 548105171,
      "min": 0,
      "orientation": "horizontal",
      "style": "IPY_MODEL_443791bf350049f99e5849fa533ea36d",
      "value": 548105171
     }
    },
    "99ebbd7fd0a34aab8a361c6ce396a4b5": {
     "model_module": "@jupyter-widgets/controls",
     "model_module_version": "1.5.0",
     "model_name": "DescriptionStyleModel",
     "state": {
      "_model_module": "@jupyter-widgets/controls",
      "_model_module_version": "1.5.0",
      "_model_name": "DescriptionStyleModel",
      "_view_count": null,
      "_view_module": "@jupyter-widgets/base",
      "_view_module_version": "1.2.0",
      "_view_name": "StyleView",
      "description_width": ""
     }
    },
    "9afa1b365984432ebf012a8a7c9c697d": {
     "model_module": "@jupyter-widgets/controls",
     "model_module_version": "1.5.0",
     "model_name": "DescriptionStyleModel",
     "state": {
      "_model_module": "@jupyter-widgets/controls",
      "_model_module_version": "1.5.0",
      "_model_name": "DescriptionStyleModel",
      "_view_count": null,
      "_view_module": "@jupyter-widgets/base",
      "_view_module_version": "1.2.0",
      "_view_name": "StyleView",
      "description_width": ""
     }
    },
    "9c201b2ed09242daa66f8da592b7638a": {
     "model_module": "@jupyter-widgets/base",
     "model_module_version": "1.2.0",
     "model_name": "LayoutModel",
     "state": {
      "_model_module": "@jupyter-widgets/base",
      "_model_module_version": "1.2.0",
      "_model_name": "LayoutModel",
      "_view_count": null,
      "_view_module": "@jupyter-widgets/base",
      "_view_module_version": "1.2.0",
      "_view_name": "LayoutView",
      "align_content": null,
      "align_items": null,
      "align_self": null,
      "border": null,
      "bottom": null,
      "display": null,
      "flex": null,
      "flex_flow": null,
      "grid_area": null,
      "grid_auto_columns": null,
      "grid_auto_flow": null,
      "grid_auto_rows": null,
      "grid_column": null,
      "grid_gap": null,
      "grid_row": null,
      "grid_template_areas": null,
      "grid_template_columns": null,
      "grid_template_rows": null,
      "height": null,
      "justify_content": null,
      "justify_items": null,
      "left": null,
      "margin": null,
      "max_height": null,
      "max_width": null,
      "min_height": null,
      "min_width": null,
      "object_fit": null,
      "object_position": null,
      "order": null,
      "overflow": null,
      "overflow_x": null,
      "overflow_y": null,
      "padding": null,
      "right": null,
      "top": null,
      "visibility": null,
      "width": null
     }
    },
    "9d4b9ee84b6b49f596c69f4a066b64a7": {
     "model_module": "@jupyter-widgets/controls",
     "model_module_version": "1.5.0",
     "model_name": "ProgressStyleModel",
     "state": {
      "_model_module": "@jupyter-widgets/controls",
      "_model_module_version": "1.5.0",
      "_model_name": "ProgressStyleModel",
      "_view_count": null,
      "_view_module": "@jupyter-widgets/base",
      "_view_module_version": "1.2.0",
      "_view_name": "StyleView",
      "bar_color": null,
      "description_width": ""
     }
    },
    "a3a3addc00574c6e8bb13acee34a0355": {
     "model_module": "@jupyter-widgets/controls",
     "model_module_version": "1.5.0",
     "model_name": "HTMLModel",
     "state": {
      "_dom_classes": [],
      "_model_module": "@jupyter-widgets/controls",
      "_model_module_version": "1.5.0",
      "_model_name": "HTMLModel",
      "_view_count": null,
      "_view_module": "@jupyter-widgets/controls",
      "_view_module_version": "1.5.0",
      "_view_name": "HTMLView",
      "description": "",
      "description_tooltip": null,
      "layout": "IPY_MODEL_d5ae630ee3504b5a87e8cd53af698efe",
      "placeholder": "​",
      "style": "IPY_MODEL_5e43cb942db34cb185c59fd4fc8c6f1d",
      "value": " 1.36M/1.36M [00:00&lt;00:00, 15.7MB/s]"
     }
    },
    "a79318aa1fed4446bd3b2c8d4fefbec3": {
     "model_module": "@jupyter-widgets/controls",
     "model_module_version": "1.5.0",
     "model_name": "ProgressStyleModel",
     "state": {
      "_model_module": "@jupyter-widgets/controls",
      "_model_module_version": "1.5.0",
      "_model_name": "ProgressStyleModel",
      "_view_count": null,
      "_view_module": "@jupyter-widgets/base",
      "_view_module_version": "1.2.0",
      "_view_name": "StyleView",
      "bar_color": null,
      "description_width": ""
     }
    },
    "a8644cf3e5d34601b633351a4e8cf08b": {
     "model_module": "@jupyter-widgets/base",
     "model_module_version": "1.2.0",
     "model_name": "LayoutModel",
     "state": {
      "_model_module": "@jupyter-widgets/base",
      "_model_module_version": "1.2.0",
      "_model_name": "LayoutModel",
      "_view_count": null,
      "_view_module": "@jupyter-widgets/base",
      "_view_module_version": "1.2.0",
      "_view_name": "LayoutView",
      "align_content": null,
      "align_items": null,
      "align_self": null,
      "border": null,
      "bottom": null,
      "display": null,
      "flex": null,
      "flex_flow": null,
      "grid_area": null,
      "grid_auto_columns": null,
      "grid_auto_flow": null,
      "grid_auto_rows": null,
      "grid_column": null,
      "grid_gap": null,
      "grid_row": null,
      "grid_template_areas": null,
      "grid_template_columns": null,
      "grid_template_rows": null,
      "height": null,
      "justify_content": null,
      "justify_items": null,
      "left": null,
      "margin": null,
      "max_height": null,
      "max_width": null,
      "min_height": null,
      "min_width": null,
      "object_fit": null,
      "object_position": null,
      "order": null,
      "overflow": null,
      "overflow_x": null,
      "overflow_y": null,
      "padding": null,
      "right": null,
      "top": null,
      "visibility": null,
      "width": null
     }
    },
    "ae9a0b2e8cfc401987cb537ebe0f7f73": {
     "model_module": "@jupyter-widgets/controls",
     "model_module_version": "1.5.0",
     "model_name": "ProgressStyleModel",
     "state": {
      "_model_module": "@jupyter-widgets/controls",
      "_model_module_version": "1.5.0",
      "_model_name": "ProgressStyleModel",
      "_view_count": null,
      "_view_module": "@jupyter-widgets/base",
      "_view_module_version": "1.2.0",
      "_view_name": "StyleView",
      "bar_color": null,
      "description_width": ""
     }
    },
    "b2aaed5decce41fab8e865acae5eb7ad": {
     "model_module": "@jupyter-widgets/controls",
     "model_module_version": "1.5.0",
     "model_name": "HTMLModel",
     "state": {
      "_dom_classes": [],
      "_model_module": "@jupyter-widgets/controls",
      "_model_module_version": "1.5.0",
      "_model_name": "HTMLModel",
      "_view_count": null,
      "_view_module": "@jupyter-widgets/controls",
      "_view_module_version": "1.5.0",
      "_view_name": "HTMLView",
      "description": "",
      "description_tooltip": null,
      "layout": "IPY_MODEL_8aabdd2ad4084c1389c50cd33f8879bd",
      "placeholder": "​",
      "style": "IPY_MODEL_92cf0ad0851141d78fc624f60ff67b28",
      "value": " 26.0/26.0 [00:00&lt;00:00, 373B/s]"
     }
    },
    "b577baf2fdc24aecbec700d7e442bec5": {
     "model_module": "@jupyter-widgets/controls",
     "model_module_version": "1.5.0",
     "model_name": "HTMLModel",
     "state": {
      "_dom_classes": [],
      "_model_module": "@jupyter-widgets/controls",
      "_model_module_version": "1.5.0",
      "_model_name": "HTMLModel",
      "_view_count": null,
      "_view_module": "@jupyter-widgets/controls",
      "_view_module_version": "1.5.0",
      "_view_name": "HTMLView",
      "description": "",
      "description_tooltip": null,
      "layout": "IPY_MODEL_4fdb641c6a9a45e095af66e9e58e95aa",
      "placeholder": "​",
      "style": "IPY_MODEL_99ebbd7fd0a34aab8a361c6ce396a4b5",
      "value": "merges.txt: 100%"
     }
    },
    "b7493ea4be9948be8c107b9a2008b6b5": {
     "model_module": "@jupyter-widgets/controls",
     "model_module_version": "1.5.0",
     "model_name": "HTMLModel",
     "state": {
      "_dom_classes": [],
      "_model_module": "@jupyter-widgets/controls",
      "_model_module_version": "1.5.0",
      "_model_name": "HTMLModel",
      "_view_count": null,
      "_view_module": "@jupyter-widgets/controls",
      "_view_module_version": "1.5.0",
      "_view_name": "HTMLView",
      "description": "",
      "description_tooltip": null,
      "layout": "IPY_MODEL_01219147f5194b97acf8f22c244d84d5",
      "placeholder": "​",
      "style": "IPY_MODEL_58287b4223c14e5494e30ea9edbb32b9",
      "value": " 665/665 [00:00&lt;00:00, 30.5kB/s]"
     }
    },
    "bd681eacf3364022ba72c10c4cb720e6": {
     "model_module": "@jupyter-widgets/controls",
     "model_module_version": "1.5.0",
     "model_name": "DescriptionStyleModel",
     "state": {
      "_model_module": "@jupyter-widgets/controls",
      "_model_module_version": "1.5.0",
      "_model_name": "DescriptionStyleModel",
      "_view_count": null,
      "_view_module": "@jupyter-widgets/base",
      "_view_module_version": "1.2.0",
      "_view_name": "StyleView",
      "description_width": ""
     }
    },
    "c5c10a2389d64eeb85dc6bb148453422": {
     "model_module": "@jupyter-widgets/controls",
     "model_module_version": "1.5.0",
     "model_name": "DescriptionStyleModel",
     "state": {
      "_model_module": "@jupyter-widgets/controls",
      "_model_module_version": "1.5.0",
      "_model_name": "DescriptionStyleModel",
      "_view_count": null,
      "_view_module": "@jupyter-widgets/base",
      "_view_module_version": "1.2.0",
      "_view_name": "StyleView",
      "description_width": ""
     }
    },
    "ccd93477ed9142e9a00c0c982c216db4": {
     "model_module": "@jupyter-widgets/controls",
     "model_module_version": "1.5.0",
     "model_name": "HTMLModel",
     "state": {
      "_dom_classes": [],
      "_model_module": "@jupyter-widgets/controls",
      "_model_module_version": "1.5.0",
      "_model_name": "HTMLModel",
      "_view_count": null,
      "_view_module": "@jupyter-widgets/controls",
      "_view_module_version": "1.5.0",
      "_view_name": "HTMLView",
      "description": "",
      "description_tooltip": null,
      "layout": "IPY_MODEL_3e90f9009391400b8d1e2a711ccf2048",
      "placeholder": "​",
      "style": "IPY_MODEL_8c25b219af4c4d20bd3fac43eee8a407",
      "value": "vocab.json: 100%"
     }
    },
    "ce6626630fd043c1bb48ddaebfb057b6": {
     "model_module": "@jupyter-widgets/base",
     "model_module_version": "1.2.0",
     "model_name": "LayoutModel",
     "state": {
      "_model_module": "@jupyter-widgets/base",
      "_model_module_version": "1.2.0",
      "_model_name": "LayoutModel",
      "_view_count": null,
      "_view_module": "@jupyter-widgets/base",
      "_view_module_version": "1.2.0",
      "_view_name": "LayoutView",
      "align_content": null,
      "align_items": null,
      "align_self": null,
      "border": null,
      "bottom": null,
      "display": null,
      "flex": null,
      "flex_flow": null,
      "grid_area": null,
      "grid_auto_columns": null,
      "grid_auto_flow": null,
      "grid_auto_rows": null,
      "grid_column": null,
      "grid_gap": null,
      "grid_row": null,
      "grid_template_areas": null,
      "grid_template_columns": null,
      "grid_template_rows": null,
      "height": null,
      "justify_content": null,
      "justify_items": null,
      "left": null,
      "margin": null,
      "max_height": null,
      "max_width": null,
      "min_height": null,
      "min_width": null,
      "object_fit": null,
      "object_position": null,
      "order": null,
      "overflow": null,
      "overflow_x": null,
      "overflow_y": null,
      "padding": null,
      "right": null,
      "top": null,
      "visibility": null,
      "width": null
     }
    },
    "ce9481984c5645ef97f79aff54720adc": {
     "model_module": "@jupyter-widgets/base",
     "model_module_version": "1.2.0",
     "model_name": "LayoutModel",
     "state": {
      "_model_module": "@jupyter-widgets/base",
      "_model_module_version": "1.2.0",
      "_model_name": "LayoutModel",
      "_view_count": null,
      "_view_module": "@jupyter-widgets/base",
      "_view_module_version": "1.2.0",
      "_view_name": "LayoutView",
      "align_content": null,
      "align_items": null,
      "align_self": null,
      "border": null,
      "bottom": null,
      "display": null,
      "flex": null,
      "flex_flow": null,
      "grid_area": null,
      "grid_auto_columns": null,
      "grid_auto_flow": null,
      "grid_auto_rows": null,
      "grid_column": null,
      "grid_gap": null,
      "grid_row": null,
      "grid_template_areas": null,
      "grid_template_columns": null,
      "grid_template_rows": null,
      "height": null,
      "justify_content": null,
      "justify_items": null,
      "left": null,
      "margin": null,
      "max_height": null,
      "max_width": null,
      "min_height": null,
      "min_width": null,
      "object_fit": null,
      "object_position": null,
      "order": null,
      "overflow": null,
      "overflow_x": null,
      "overflow_y": null,
      "padding": null,
      "right": null,
      "top": null,
      "visibility": null,
      "width": null
     }
    },
    "d5ae630ee3504b5a87e8cd53af698efe": {
     "model_module": "@jupyter-widgets/base",
     "model_module_version": "1.2.0",
     "model_name": "LayoutModel",
     "state": {
      "_model_module": "@jupyter-widgets/base",
      "_model_module_version": "1.2.0",
      "_model_name": "LayoutModel",
      "_view_count": null,
      "_view_module": "@jupyter-widgets/base",
      "_view_module_version": "1.2.0",
      "_view_name": "LayoutView",
      "align_content": null,
      "align_items": null,
      "align_self": null,
      "border": null,
      "bottom": null,
      "display": null,
      "flex": null,
      "flex_flow": null,
      "grid_area": null,
      "grid_auto_columns": null,
      "grid_auto_flow": null,
      "grid_auto_rows": null,
      "grid_column": null,
      "grid_gap": null,
      "grid_row": null,
      "grid_template_areas": null,
      "grid_template_columns": null,
      "grid_template_rows": null,
      "height": null,
      "justify_content": null,
      "justify_items": null,
      "left": null,
      "margin": null,
      "max_height": null,
      "max_width": null,
      "min_height": null,
      "min_width": null,
      "object_fit": null,
      "object_position": null,
      "order": null,
      "overflow": null,
      "overflow_x": null,
      "overflow_y": null,
      "padding": null,
      "right": null,
      "top": null,
      "visibility": null,
      "width": null
     }
    },
    "d5d6122a459c474c8e3d89a1cd1bc39a": {
     "model_module": "@jupyter-widgets/controls",
     "model_module_version": "1.5.0",
     "model_name": "HTMLModel",
     "state": {
      "_dom_classes": [],
      "_model_module": "@jupyter-widgets/controls",
      "_model_module_version": "1.5.0",
      "_model_name": "HTMLModel",
      "_view_count": null,
      "_view_module": "@jupyter-widgets/controls",
      "_view_module_version": "1.5.0",
      "_view_name": "HTMLView",
      "description": "",
      "description_tooltip": null,
      "layout": "IPY_MODEL_0b946e60424a4fb7970dfc9cf7bbee31",
      "placeholder": "​",
      "style": "IPY_MODEL_427234d549584d97b531ecd1f785b296",
      "value": "generation_config.json: 100%"
     }
    },
    "d66333e2241e43f78704df1dd40a6d53": {
     "model_module": "@jupyter-widgets/controls",
     "model_module_version": "1.5.0",
     "model_name": "DescriptionStyleModel",
     "state": {
      "_model_module": "@jupyter-widgets/controls",
      "_model_module_version": "1.5.0",
      "_model_name": "DescriptionStyleModel",
      "_view_count": null,
      "_view_module": "@jupyter-widgets/base",
      "_view_module_version": "1.2.0",
      "_view_name": "StyleView",
      "description_width": ""
     }
    },
    "d789fac4c6de4945bddefb16ee2d789b": {
     "model_module": "@jupyter-widgets/base",
     "model_module_version": "1.2.0",
     "model_name": "LayoutModel",
     "state": {
      "_model_module": "@jupyter-widgets/base",
      "_model_module_version": "1.2.0",
      "_model_name": "LayoutModel",
      "_view_count": null,
      "_view_module": "@jupyter-widgets/base",
      "_view_module_version": "1.2.0",
      "_view_name": "LayoutView",
      "align_content": null,
      "align_items": null,
      "align_self": null,
      "border": null,
      "bottom": null,
      "display": null,
      "flex": null,
      "flex_flow": null,
      "grid_area": null,
      "grid_auto_columns": null,
      "grid_auto_flow": null,
      "grid_auto_rows": null,
      "grid_column": null,
      "grid_gap": null,
      "grid_row": null,
      "grid_template_areas": null,
      "grid_template_columns": null,
      "grid_template_rows": null,
      "height": null,
      "justify_content": null,
      "justify_items": null,
      "left": null,
      "margin": null,
      "max_height": null,
      "max_width": null,
      "min_height": null,
      "min_width": null,
      "object_fit": null,
      "object_position": null,
      "order": null,
      "overflow": null,
      "overflow_x": null,
      "overflow_y": null,
      "padding": null,
      "right": null,
      "top": null,
      "visibility": null,
      "width": null
     }
    },
    "d9dad19e34504379bc781c1d34c9e060": {
     "model_module": "@jupyter-widgets/controls",
     "model_module_version": "1.5.0",
     "model_name": "HTMLModel",
     "state": {
      "_dom_classes": [],
      "_model_module": "@jupyter-widgets/controls",
      "_model_module_version": "1.5.0",
      "_model_name": "HTMLModel",
      "_view_count": null,
      "_view_module": "@jupyter-widgets/controls",
      "_view_module_version": "1.5.0",
      "_view_name": "HTMLView",
      "description": "",
      "description_tooltip": null,
      "layout": "IPY_MODEL_49b9573bfb1d4a58bd941c5a806692db",
      "placeholder": "​",
      "style": "IPY_MODEL_92d05c13a1a94c23bdc8b4e62626e5d8",
      "value": "config.json: 100%"
     }
    },
    "dd084db36346443ca3fa44dce26a92c5": {
     "model_module": "@jupyter-widgets/base",
     "model_module_version": "1.2.0",
     "model_name": "LayoutModel",
     "state": {
      "_model_module": "@jupyter-widgets/base",
      "_model_module_version": "1.2.0",
      "_model_name": "LayoutModel",
      "_view_count": null,
      "_view_module": "@jupyter-widgets/base",
      "_view_module_version": "1.2.0",
      "_view_name": "LayoutView",
      "align_content": null,
      "align_items": null,
      "align_self": null,
      "border": null,
      "bottom": null,
      "display": null,
      "flex": null,
      "flex_flow": null,
      "grid_area": null,
      "grid_auto_columns": null,
      "grid_auto_flow": null,
      "grid_auto_rows": null,
      "grid_column": null,
      "grid_gap": null,
      "grid_row": null,
      "grid_template_areas": null,
      "grid_template_columns": null,
      "grid_template_rows": null,
      "height": null,
      "justify_content": null,
      "justify_items": null,
      "left": null,
      "margin": null,
      "max_height": null,
      "max_width": null,
      "min_height": null,
      "min_width": null,
      "object_fit": null,
      "object_position": null,
      "order": null,
      "overflow": null,
      "overflow_x": null,
      "overflow_y": null,
      "padding": null,
      "right": null,
      "top": null,
      "visibility": null,
      "width": null
     }
    },
    "e3974f7ff8e3488e8e9a8d74d0a047d5": {
     "model_module": "@jupyter-widgets/controls",
     "model_module_version": "1.5.0",
     "model_name": "FloatProgressModel",
     "state": {
      "_dom_classes": [],
      "_model_module": "@jupyter-widgets/controls",
      "_model_module_version": "1.5.0",
      "_model_name": "FloatProgressModel",
      "_view_count": null,
      "_view_module": "@jupyter-widgets/controls",
      "_view_module_version": "1.5.0",
      "_view_name": "ProgressView",
      "bar_style": "success",
      "description": "",
      "description_tooltip": null,
      "layout": "IPY_MODEL_6192767131b04a70940e83a371241aff",
      "max": 456318,
      "min": 0,
      "orientation": "horizontal",
      "style": "IPY_MODEL_9d4b9ee84b6b49f596c69f4a066b64a7",
      "value": 456318
     }
    },
    "ecfcbac7e0104e15af39a6eecc98ace8": {
     "model_module": "@jupyter-widgets/controls",
     "model_module_version": "1.5.0",
     "model_name": "HTMLModel",
     "state": {
      "_dom_classes": [],
      "_model_module": "@jupyter-widgets/controls",
      "_model_module_version": "1.5.0",
      "_model_name": "HTMLModel",
      "_view_count": null,
      "_view_module": "@jupyter-widgets/controls",
      "_view_module_version": "1.5.0",
      "_view_name": "HTMLView",
      "description": "",
      "description_tooltip": null,
      "layout": "IPY_MODEL_15cb651f90f7465496fb0bf1f278c2ff",
      "placeholder": "​",
      "style": "IPY_MODEL_1a663f510bd14b34b413fcd0f60a739b",
      "value": " 548M/548M [00:08&lt;00:00, 69.8MB/s]"
     }
    },
    "f50385a43c91490dbec0fbe5946e1665": {
     "model_module": "@jupyter-widgets/controls",
     "model_module_version": "1.5.0",
     "model_name": "HTMLModel",
     "state": {
      "_dom_classes": [],
      "_model_module": "@jupyter-widgets/controls",
      "_model_module_version": "1.5.0",
      "_model_name": "HTMLModel",
      "_view_count": null,
      "_view_module": "@jupyter-widgets/controls",
      "_view_module_version": "1.5.0",
      "_view_name": "HTMLView",
      "description": "",
      "description_tooltip": null,
      "layout": "IPY_MODEL_2327a26ac81c45fc8f25883253b282b9",
      "placeholder": "​",
      "style": "IPY_MODEL_3158048f645e41e893e6c93b7735d2b7",
      "value": "model.safetensors: 100%"
     }
    }
   }
  }
 },
 "nbformat": 4,
 "nbformat_minor": 4
}
